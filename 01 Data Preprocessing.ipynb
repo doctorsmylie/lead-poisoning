{
 "cells": [
  {
   "cell_type": "markdown",
   "source": [
    "# Data Preprocessing"
   ],
   "metadata": {
    "collapsed": false
   },
   "id": "4b72b33c35a01a97"
  },
  {
   "cell_type": "markdown",
   "source": [
    "**Main data**\n",
    "- 2021 Childhood Blood Lead Surveillance: State Data\n",
    "Reference: [CDC](https://www.cdc.gov/lead-prevention/php/data/state-surveillance-data.html)\n",
    "\n",
    "**Sub data**\n",
    "- Age of housing\n",
    "- Insurance coverage\n",
    "- Child poverty\n",
    "- Housing insecurity(rented vs owned)\n",
    "- Parent's Occupation\n",
    "Reference: [Census](https://data.census.gov/)"
   ],
   "metadata": {
    "collapsed": false
   },
   "id": "7b4bc743785cc0e1"
  },
  {
   "cell_type": "markdown",
   "source": [
    "## 1. Load Data"
   ],
   "metadata": {
    "collapsed": false
   },
   "id": "5cfb1cc4965a49d1"
  },
  {
   "cell_type": "markdown",
   "source": [
    "**1) main data**"
   ],
   "metadata": {
    "collapsed": false
   },
   "id": "3d3ca74e257a6e5c"
  },
  {
   "cell_type": "code",
   "outputs": [],
   "source": [
    "import pandas as pd\n",
    "import numpy as np"
   ],
   "metadata": {
    "collapsed": true,
    "ExecuteTime": {
     "end_time": "2025-03-08T00:56:40.358918Z",
     "start_time": "2025-03-08T00:56:40.357025Z"
    }
   },
   "id": "initial_id",
   "execution_count": 152
  },
  {
   "cell_type": "code",
   "outputs": [],
   "source": [
    "lead_df = pd.read_csv(\"data/2021-blood-lead-by-state-county.csv\", encoding=\"ISO-8859-1\")"
   ],
   "metadata": {
    "collapsed": false,
    "ExecuteTime": {
     "end_time": "2025-03-08T00:57:22.985409Z",
     "start_time": "2025-03-08T00:57:22.964620Z"
    }
   },
   "id": "7cbffbbb59168952",
   "execution_count": 205
  },
  {
   "cell_type": "code",
   "outputs": [
    {
     "name": "stdout",
     "output_type": "stream",
     "text": [
      "<class 'pandas.core.frame.DataFrame'>\n",
      "RangeIndex: 1496 entries, 0 to 1495\n",
      "Data columns (total 14 columns):\n",
      " #   Column                                              Non-Null Count  Dtype \n",
      "---  ------                                              --------------  ----- \n",
      " 0   State                                               1496 non-null   object\n",
      " 1   County                                              1496 non-null   object\n",
      " 2   Total Population of Children <72 Months of Age      1496 non-null   int64 \n",
      " 3   Number of Children Tested <72 Months of Age         1496 non-null   object\n",
      " 4   Number of Children with Confirmed BLLs ³5 µg/dL     1496 non-null   object\n",
      " 5   Percent of Children with Confirmed BLLs ³5 µg/dL    1496 non-null   object\n",
      " 6   Number of Children with Confirmed BLLs ³10 µg/dL    1496 non-null   object\n",
      " 7   Percent of Children with Confirmed BLLs ³10 µg/dL   1496 non-null   object\n",
      " 8   Number of Children with Confirmed BLLs 5-9 µg/dL    1496 non-null   object\n",
      " 9   Number of Children with Confirmed BLLs 10-14 µg/dL  1496 non-null   object\n",
      " 10  Number of Children with Confirmed BLLs 15-19 µg/dL  1496 non-null   object\n",
      " 11  Number of Children with Confirmed BLLs 20-24 µg/dL  1496 non-null   object\n",
      " 12  Number of Children with Confirmed BLLs 25-44 µg/dL  1496 non-null   object\n",
      " 13  Number of Children with Confirmed BLLs ³45 µg/dL    1496 non-null   object\n",
      "dtypes: int64(1), object(13)\n",
      "memory usage: 163.8+ KB\n"
     ]
    }
   ],
   "source": [
    "lead_df.info()"
   ],
   "metadata": {
    "collapsed": false,
    "ExecuteTime": {
     "end_time": "2025-03-08T00:56:40.631141Z",
     "start_time": "2025-03-08T00:56:40.625841Z"
    }
   },
   "id": "7408af44c9fe2635",
   "execution_count": 154
  },
  {
   "cell_type": "code",
   "outputs": [
    {
     "data": {
      "text/plain": "  State   County  Total Population of Children <72 Months of Age  \\\n0    AL  Autauga                                            4045   \n1    AL  Baldwin                                           14651   \n2    AL  Barbour                                            1571   \n3    AL     Bibb                                            1459   \n4    AL   Blount                                            4148   \n\n  Number of Children Tested <72 Months of Age  \\\n0                                         238   \n1                                         552   \n2                                         268   \n3                                         105   \n4                                         365   \n\n  Number of Children with Confirmed BLLs ³5 µg/dL  \\\n0                                              SD   \n1                                              SD   \n2                                              SD   \n3                                              SD   \n4                                               0   \n\n  Percent of Children with Confirmed BLLs ³5 µg/dL  \\\n0                                               SD   \n1                                               SD   \n2                                               SD   \n3                                               SD   \n4                                            0.00%   \n\n  Number of Children with Confirmed BLLs ³10 µg/dL  \\\n0                                               SD   \n1                                                0   \n2                                               SD   \n3                                               SD   \n4                                                0   \n\n  Percent of Children with Confirmed BLLs ³10 µg/dL  \\\n0                                                SD   \n1                                             0.00%   \n2                                                SD   \n3                                                SD   \n4                                             0.00%   \n\n  Number of Children with Confirmed BLLs 5-9 µg/dL  \\\n0                                                0   \n1                                               SD   \n2                                                0   \n3                                                0   \n4                                                0   \n\n  Number of Children with Confirmed BLLs 10-14 µg/dL  \\\n0                                                 SD   \n1                                                  0   \n2                                                 SD   \n3                                                 SD   \n4                                                  0   \n\n  Number of Children with Confirmed BLLs 15-19 µg/dL  \\\n0                                                  0   \n1                                                  0   \n2                                                 SD   \n3                                                  0   \n4                                                  0   \n\n  Number of Children with Confirmed BLLs 20-24 µg/dL  \\\n0                                                  0   \n1                                                  0   \n2                                                  0   \n3                                                  0   \n4                                                  0   \n\n  Number of Children with Confirmed BLLs 25-44 µg/dL  \\\n0                                                  0   \n1                                                  0   \n2                                                  0   \n3                                                  0   \n4                                                  0   \n\n  Number of Children with Confirmed BLLs ³45 µg/dL  \n0                                                0  \n1                                                0  \n2                                                0  \n3                                                0  \n4                                                0  ",
      "text/html": "<div>\n<style scoped>\n    .dataframe tbody tr th:only-of-type {\n        vertical-align: middle;\n    }\n\n    .dataframe tbody tr th {\n        vertical-align: top;\n    }\n\n    .dataframe thead th {\n        text-align: right;\n    }\n</style>\n<table border=\"1\" class=\"dataframe\">\n  <thead>\n    <tr style=\"text-align: right;\">\n      <th></th>\n      <th>State</th>\n      <th>County</th>\n      <th>Total Population of Children &lt;72 Months of Age</th>\n      <th>Number of Children Tested &lt;72 Months of Age</th>\n      <th>Number of Children with Confirmed BLLs ³5 µg/dL</th>\n      <th>Percent of Children with Confirmed BLLs ³5 µg/dL</th>\n      <th>Number of Children with Confirmed BLLs ³10 µg/dL</th>\n      <th>Percent of Children with Confirmed BLLs ³10 µg/dL</th>\n      <th>Number of Children with Confirmed BLLs 5-9 µg/dL</th>\n      <th>Number of Children with Confirmed BLLs 10-14 µg/dL</th>\n      <th>Number of Children with Confirmed BLLs 15-19 µg/dL</th>\n      <th>Number of Children with Confirmed BLLs 20-24 µg/dL</th>\n      <th>Number of Children with Confirmed BLLs 25-44 µg/dL</th>\n      <th>Number of Children with Confirmed BLLs ³45 µg/dL</th>\n    </tr>\n  </thead>\n  <tbody>\n    <tr>\n      <th>0</th>\n      <td>AL</td>\n      <td>Autauga</td>\n      <td>4045</td>\n      <td>238</td>\n      <td>SD</td>\n      <td>SD</td>\n      <td>SD</td>\n      <td>SD</td>\n      <td>0</td>\n      <td>SD</td>\n      <td>0</td>\n      <td>0</td>\n      <td>0</td>\n      <td>0</td>\n    </tr>\n    <tr>\n      <th>1</th>\n      <td>AL</td>\n      <td>Baldwin</td>\n      <td>14651</td>\n      <td>552</td>\n      <td>SD</td>\n      <td>SD</td>\n      <td>0</td>\n      <td>0.00%</td>\n      <td>SD</td>\n      <td>0</td>\n      <td>0</td>\n      <td>0</td>\n      <td>0</td>\n      <td>0</td>\n    </tr>\n    <tr>\n      <th>2</th>\n      <td>AL</td>\n      <td>Barbour</td>\n      <td>1571</td>\n      <td>268</td>\n      <td>SD</td>\n      <td>SD</td>\n      <td>SD</td>\n      <td>SD</td>\n      <td>0</td>\n      <td>SD</td>\n      <td>SD</td>\n      <td>0</td>\n      <td>0</td>\n      <td>0</td>\n    </tr>\n    <tr>\n      <th>3</th>\n      <td>AL</td>\n      <td>Bibb</td>\n      <td>1459</td>\n      <td>105</td>\n      <td>SD</td>\n      <td>SD</td>\n      <td>SD</td>\n      <td>SD</td>\n      <td>0</td>\n      <td>SD</td>\n      <td>0</td>\n      <td>0</td>\n      <td>0</td>\n      <td>0</td>\n    </tr>\n    <tr>\n      <th>4</th>\n      <td>AL</td>\n      <td>Blount</td>\n      <td>4148</td>\n      <td>365</td>\n      <td>0</td>\n      <td>0.00%</td>\n      <td>0</td>\n      <td>0.00%</td>\n      <td>0</td>\n      <td>0</td>\n      <td>0</td>\n      <td>0</td>\n      <td>0</td>\n      <td>0</td>\n    </tr>\n  </tbody>\n</table>\n</div>"
     },
     "execution_count": 155,
     "metadata": {},
     "output_type": "execute_result"
    }
   ],
   "source": [
    "lead_df.head()"
   ],
   "metadata": {
    "collapsed": false,
    "ExecuteTime": {
     "end_time": "2025-03-08T00:56:40.643877Z",
     "start_time": "2025-03-08T00:56:40.638404Z"
    }
   },
   "id": "21f1c860d449e56",
   "execution_count": 155
  },
  {
   "cell_type": "markdown",
   "source": [
    "**2) Sub data**"
   ],
   "metadata": {
    "collapsed": false
   },
   "id": "f03132f8435f0aab"
  },
  {
   "cell_type": "code",
   "outputs": [],
   "source": [
    "# House relevant\n",
    "house_built_year_df = pd.read_csv(\"data/2021 YEAR STRUCTURE BUILT.K202505-Data.csv\")\n",
    "house_plumbing_df = pd.read_csv(\"data/2021.PLUMBING FACILITIES.DP04.csv\")\n",
    "house_price_df = pd.read_csv(\"data/2021.PRICE.DP04.csv\")\n",
    "\n",
    "# Insurance\n",
    "insurance_df = pd.read_csv(\"data/2021.AGE BY HEALTH INSURANCE COVERAGE STATUS.K202701-Data.csv\")\n",
    "\n",
    "# Poverty\n",
    "poverty_df = pd.read_csv(\"data/2021.POVERTY STATUS IN THE PAST 12 MONTHS BY AGE.K201701-Data.csv\")\n",
    "\n",
    "# House Insecurity\n",
    "insecurity_df = pd.read_csv(\"data/2021.TENURE.B25003.csv\")\n",
    "\n",
    "# Parent's Occupation\n",
    "occupation_df = pd.read_csv(\"data/2021. OCCUPATION FOR THE CIVILIAN EMPLOYED POPULATION 16 YEARS AND OVER.K202401-Data.csv\")\n",
    "industry_df = pd.read_csv(\"data/2021.INDUSTRY FOR THE CIVILIAN EMPLOYED POPULATION 16 YEARS AND OVER.K202403-Data.csv\")"
   ],
   "metadata": {
    "collapsed": false,
    "ExecuteTime": {
     "end_time": "2025-03-08T00:56:40.737671Z",
     "start_time": "2025-03-08T00:56:40.680370Z"
    }
   },
   "id": "73a95f77906495d0",
   "execution_count": 156
  },
  {
   "cell_type": "markdown",
   "source": [
    "## 2. Cleaning the Data"
   ],
   "metadata": {
    "collapsed": false
   },
   "id": "89155f3f7d0aa7a4"
  },
  {
   "cell_type": "markdown",
   "source": [
    "### 1) House relevant data"
   ],
   "metadata": {
    "collapsed": false
   },
   "id": "2bc090b642585059"
  },
  {
   "cell_type": "code",
   "outputs": [
    {
     "name": "stdout",
     "output_type": "stream",
     "text": [
      "<class 'pandas.core.frame.DataFrame'>\n",
      "RangeIndex: 1904 entries, 0 to 1903\n",
      "Data columns (total 15 columns):\n",
      " #   Column                                          Non-Null Count  Dtype  \n",
      "---  ------                                          --------------  -----  \n",
      " 0   Geographic Area Name                            1904 non-null   object \n",
      " 1   Estimate!!Total:                                1903 non-null   float64\n",
      " 2   Margin of Error!!Total:                         1903 non-null   float64\n",
      " 3   Estimate!!Total:!!Built 2020 or later           1903 non-null   float64\n",
      " 4   Margin of Error!!Total:!!Built 2020 or later    1903 non-null   float64\n",
      " 5   Estimate!!Total:!!Built 2000 to 2019            1903 non-null   float64\n",
      " 6   Margin of Error!!Total:!!Built 2000 to 2019     1903 non-null   float64\n",
      " 7   Estimate!!Total:!!Built 1980 to 1999            1903 non-null   float64\n",
      " 8   Margin of Error!!Total:!!Built 1980 to 1999     1903 non-null   float64\n",
      " 9   Estimate!!Total:!!Built 1960 to 1979            1903 non-null   float64\n",
      " 10  Margin of Error!!Total:!!Built 1960 to 1979     1903 non-null   float64\n",
      " 11  Estimate!!Total:!!Built 1940 to 1959            1903 non-null   float64\n",
      " 12  Margin of Error!!Total:!!Built 1940 to 1959     1903 non-null   float64\n",
      " 13  Estimate!!Total:!!Built 1939 or earlier         1903 non-null   float64\n",
      " 14  Margin of Error!!Total:!!Built 1939 or earlier  1903 non-null   float64\n",
      "dtypes: float64(14), object(1)\n",
      "memory usage: 223.3+ KB\n"
     ]
    },
    {
     "data": {
      "text/plain": "      Geographic Area Name  Estimate!!Total:  Margin of Error!!Total:  \\\n0  Autauga County, Alabama           24775.0                    211.0   \n1  Baldwin County, Alabama          128533.0                    889.0   \n2  Barbour County, Alabama           11677.0                    393.0   \n3     Bibb County, Alabama           10465.0                   1205.0   \n4   Blount County, Alabama           24749.0                    126.0   \n\n   Estimate!!Total:!!Built 2020 or later  \\\n0                                  470.0   \n1                                 2146.0   \n2                                    0.0   \n3                                    0.0   \n4                                   89.0   \n\n   Margin of Error!!Total:!!Built 2020 or later  \\\n0                                         620.0   \n1                                        1029.0   \n2                                         216.0   \n3                                         216.0   \n4                                          99.0   \n\n   Estimate!!Total:!!Built 2000 to 2019  \\\n0                                8641.0   \n1                               59229.0   \n2                                1997.0   \n3                                2816.0   \n4                                6736.0   \n\n   Margin of Error!!Total:!!Built 2000 to 2019  \\\n0                                       1489.0   \n1                                       4203.0   \n2                                        559.0   \n3                                        874.0   \n4                                       1161.0   \n\n   Estimate!!Total:!!Built 1980 to 1999  \\\n0                                5789.0   \n1                               40792.0   \n2                                4673.0   \n3                                3956.0   \n4                                9101.0   \n\n   Margin of Error!!Total:!!Built 1980 to 1999  \\\n0                                       1431.0   \n1                                       3688.0   \n2                                        743.0   \n3                                       1233.0   \n4                                       1319.0   \n\n   Estimate!!Total:!!Built 1960 to 1979  \\\n0                                7686.0   \n1                               20147.0   \n2                                2962.0   \n3                                2375.0   \n4                                5477.0   \n\n   Margin of Error!!Total:!!Built 1960 to 1979  \\\n0                                       1258.0   \n1                                       2994.0   \n2                                        782.0   \n3                                        949.0   \n4                                       1094.0   \n\n   Estimate!!Total:!!Built 1940 to 1959  \\\n0                                1445.0   \n1                                3924.0   \n2                                1223.0   \n3                                 633.0   \n4                                2292.0   \n\n   Margin of Error!!Total:!!Built 1940 to 1959  \\\n0                                        604.0   \n1                                       1064.0   \n2                                        404.0   \n3                                        532.0   \n4                                        793.0   \n\n   Estimate!!Total:!!Built 1939 or earlier  \\\n0                                    744.0   \n1                                   2295.0   \n2                                    822.0   \n3                                    685.0   \n4                                   1054.0   \n\n   Margin of Error!!Total:!!Built 1939 or earlier  \n0                                           463.0  \n1                                           913.0  \n2                                           371.0  \n3                                           462.0  \n4                                           504.0  ",
      "text/html": "<div>\n<style scoped>\n    .dataframe tbody tr th:only-of-type {\n        vertical-align: middle;\n    }\n\n    .dataframe tbody tr th {\n        vertical-align: top;\n    }\n\n    .dataframe thead th {\n        text-align: right;\n    }\n</style>\n<table border=\"1\" class=\"dataframe\">\n  <thead>\n    <tr style=\"text-align: right;\">\n      <th></th>\n      <th>Geographic Area Name</th>\n      <th>Estimate!!Total:</th>\n      <th>Margin of Error!!Total:</th>\n      <th>Estimate!!Total:!!Built 2020 or later</th>\n      <th>Margin of Error!!Total:!!Built 2020 or later</th>\n      <th>Estimate!!Total:!!Built 2000 to 2019</th>\n      <th>Margin of Error!!Total:!!Built 2000 to 2019</th>\n      <th>Estimate!!Total:!!Built 1980 to 1999</th>\n      <th>Margin of Error!!Total:!!Built 1980 to 1999</th>\n      <th>Estimate!!Total:!!Built 1960 to 1979</th>\n      <th>Margin of Error!!Total:!!Built 1960 to 1979</th>\n      <th>Estimate!!Total:!!Built 1940 to 1959</th>\n      <th>Margin of Error!!Total:!!Built 1940 to 1959</th>\n      <th>Estimate!!Total:!!Built 1939 or earlier</th>\n      <th>Margin of Error!!Total:!!Built 1939 or earlier</th>\n    </tr>\n  </thead>\n  <tbody>\n    <tr>\n      <th>0</th>\n      <td>Autauga County, Alabama</td>\n      <td>24775.0</td>\n      <td>211.0</td>\n      <td>470.0</td>\n      <td>620.0</td>\n      <td>8641.0</td>\n      <td>1489.0</td>\n      <td>5789.0</td>\n      <td>1431.0</td>\n      <td>7686.0</td>\n      <td>1258.0</td>\n      <td>1445.0</td>\n      <td>604.0</td>\n      <td>744.0</td>\n      <td>463.0</td>\n    </tr>\n    <tr>\n      <th>1</th>\n      <td>Baldwin County, Alabama</td>\n      <td>128533.0</td>\n      <td>889.0</td>\n      <td>2146.0</td>\n      <td>1029.0</td>\n      <td>59229.0</td>\n      <td>4203.0</td>\n      <td>40792.0</td>\n      <td>3688.0</td>\n      <td>20147.0</td>\n      <td>2994.0</td>\n      <td>3924.0</td>\n      <td>1064.0</td>\n      <td>2295.0</td>\n      <td>913.0</td>\n    </tr>\n    <tr>\n      <th>2</th>\n      <td>Barbour County, Alabama</td>\n      <td>11677.0</td>\n      <td>393.0</td>\n      <td>0.0</td>\n      <td>216.0</td>\n      <td>1997.0</td>\n      <td>559.0</td>\n      <td>4673.0</td>\n      <td>743.0</td>\n      <td>2962.0</td>\n      <td>782.0</td>\n      <td>1223.0</td>\n      <td>404.0</td>\n      <td>822.0</td>\n      <td>371.0</td>\n    </tr>\n    <tr>\n      <th>3</th>\n      <td>Bibb County, Alabama</td>\n      <td>10465.0</td>\n      <td>1205.0</td>\n      <td>0.0</td>\n      <td>216.0</td>\n      <td>2816.0</td>\n      <td>874.0</td>\n      <td>3956.0</td>\n      <td>1233.0</td>\n      <td>2375.0</td>\n      <td>949.0</td>\n      <td>633.0</td>\n      <td>532.0</td>\n      <td>685.0</td>\n      <td>462.0</td>\n    </tr>\n    <tr>\n      <th>4</th>\n      <td>Blount County, Alabama</td>\n      <td>24749.0</td>\n      <td>126.0</td>\n      <td>89.0</td>\n      <td>99.0</td>\n      <td>6736.0</td>\n      <td>1161.0</td>\n      <td>9101.0</td>\n      <td>1319.0</td>\n      <td>5477.0</td>\n      <td>1094.0</td>\n      <td>2292.0</td>\n      <td>793.0</td>\n      <td>1054.0</td>\n      <td>504.0</td>\n    </tr>\n  </tbody>\n</table>\n</div>"
     },
     "execution_count": 157,
     "metadata": {},
     "output_type": "execute_result"
    }
   ],
   "source": [
    "house_built_year_df.info()\n",
    "house_built_year_df.head()"
   ],
   "metadata": {
    "collapsed": false,
    "ExecuteTime": {
     "end_time": "2025-03-08T00:56:40.749980Z",
     "start_time": "2025-03-08T00:56:40.738747Z"
    }
   },
   "id": "7a01e2d2057a106",
   "execution_count": 157
  },
  {
   "cell_type": "code",
   "outputs": [
    {
     "name": "stdout",
     "output_type": "stream",
     "text": [
      "<class 'pandas.core.frame.DataFrame'>\n",
      "RangeIndex: 3221 entries, 0 to 3220\n",
      "Data columns (total 7 columns):\n",
      " #   Column                                                                                                           Non-Null Count  Dtype  \n",
      "---  ------                                                                                                           --------------  -----  \n",
      " 0   Geographic Area Name                                                                                             3221 non-null   object \n",
      " 1   Percent!!SELECTED CHARACTERISTICS!!Occupied housing units!!Lacking complete plumbing facilities                  3221 non-null   float64\n",
      " 2   Percent Margin of Error!!SELECTED CHARACTERISTICS!!Occupied housing units!!Lacking complete plumbing facilities  3221 non-null   float64\n",
      " 3   Percent!!SELECTED CHARACTERISTICS!!Occupied housing units!!Lacking complete kitchen facilities                   3221 non-null   float64\n",
      " 4   Percent Margin of Error!!SELECTED CHARACTERISTICS!!Occupied housing units!!Lacking complete kitchen facilities   3221 non-null   float64\n",
      " 5   Percent!!SELECTED CHARACTERISTICS!!Occupied housing units!!No telephone service available                        3221 non-null   object \n",
      " 6   Percent Margin of Error!!SELECTED CHARACTERISTICS!!Occupied housing units!!No telephone service available        3221 non-null   object \n",
      "dtypes: float64(4), object(3)\n",
      "memory usage: 176.3+ KB\n"
     ]
    },
    {
     "data": {
      "text/plain": "      Geographic Area Name  \\\n0  Autauga County, Alabama   \n1  Baldwin County, Alabama   \n2  Barbour County, Alabama   \n3     Bibb County, Alabama   \n4   Blount County, Alabama   \n\n   Percent!!SELECTED CHARACTERISTICS!!Occupied housing units!!Lacking complete plumbing facilities  \\\n0                                                0.5                                                 \n1                                                0.3                                                 \n2                                                0.2                                                 \n3                                                0.7                                                 \n4                                                0.6                                                 \n\n   Percent Margin of Error!!SELECTED CHARACTERISTICS!!Occupied housing units!!Lacking complete plumbing facilities  \\\n0                                                0.4                                                                 \n1                                                0.2                                                                 \n2                                                0.2                                                                 \n3                                                0.7                                                                 \n4                                                0.5                                                                 \n\n   Percent!!SELECTED CHARACTERISTICS!!Occupied housing units!!Lacking complete kitchen facilities  \\\n0                                                0.7                                                \n1                                                0.7                                                \n2                                                0.6                                                \n3                                                1.6                                                \n4                                                0.8                                                \n\n   Percent Margin of Error!!SELECTED CHARACTERISTICS!!Occupied housing units!!Lacking complete kitchen facilities  \\\n0                                                0.6                                                                \n1                                                0.3                                                                \n2                                                0.4                                                                \n3                                                1.1                                                                \n4                                                0.7                                                                \n\n  Percent!!SELECTED CHARACTERISTICS!!Occupied housing units!!No telephone service available  \\\n0                                                0.6                                          \n1                                                1.2                                          \n2                                                  5                                          \n3                                                2.7                                          \n4                                                1.8                                          \n\n  Percent Margin of Error!!SELECTED CHARACTERISTICS!!Occupied housing units!!No telephone service available  \n0                                                0.3                                                         \n1                                                0.4                                                         \n2                                                1.6                                                         \n3                                                1.5                                                         \n4                                                0.5                                                         ",
      "text/html": "<div>\n<style scoped>\n    .dataframe tbody tr th:only-of-type {\n        vertical-align: middle;\n    }\n\n    .dataframe tbody tr th {\n        vertical-align: top;\n    }\n\n    .dataframe thead th {\n        text-align: right;\n    }\n</style>\n<table border=\"1\" class=\"dataframe\">\n  <thead>\n    <tr style=\"text-align: right;\">\n      <th></th>\n      <th>Geographic Area Name</th>\n      <th>Percent!!SELECTED CHARACTERISTICS!!Occupied housing units!!Lacking complete plumbing facilities</th>\n      <th>Percent Margin of Error!!SELECTED CHARACTERISTICS!!Occupied housing units!!Lacking complete plumbing facilities</th>\n      <th>Percent!!SELECTED CHARACTERISTICS!!Occupied housing units!!Lacking complete kitchen facilities</th>\n      <th>Percent Margin of Error!!SELECTED CHARACTERISTICS!!Occupied housing units!!Lacking complete kitchen facilities</th>\n      <th>Percent!!SELECTED CHARACTERISTICS!!Occupied housing units!!No telephone service available</th>\n      <th>Percent Margin of Error!!SELECTED CHARACTERISTICS!!Occupied housing units!!No telephone service available</th>\n    </tr>\n  </thead>\n  <tbody>\n    <tr>\n      <th>0</th>\n      <td>Autauga County, Alabama</td>\n      <td>0.5</td>\n      <td>0.4</td>\n      <td>0.7</td>\n      <td>0.6</td>\n      <td>0.6</td>\n      <td>0.3</td>\n    </tr>\n    <tr>\n      <th>1</th>\n      <td>Baldwin County, Alabama</td>\n      <td>0.3</td>\n      <td>0.2</td>\n      <td>0.7</td>\n      <td>0.3</td>\n      <td>1.2</td>\n      <td>0.4</td>\n    </tr>\n    <tr>\n      <th>2</th>\n      <td>Barbour County, Alabama</td>\n      <td>0.2</td>\n      <td>0.2</td>\n      <td>0.6</td>\n      <td>0.4</td>\n      <td>5</td>\n      <td>1.6</td>\n    </tr>\n    <tr>\n      <th>3</th>\n      <td>Bibb County, Alabama</td>\n      <td>0.7</td>\n      <td>0.7</td>\n      <td>1.6</td>\n      <td>1.1</td>\n      <td>2.7</td>\n      <td>1.5</td>\n    </tr>\n    <tr>\n      <th>4</th>\n      <td>Blount County, Alabama</td>\n      <td>0.6</td>\n      <td>0.5</td>\n      <td>0.8</td>\n      <td>0.7</td>\n      <td>1.8</td>\n      <td>0.5</td>\n    </tr>\n  </tbody>\n</table>\n</div>"
     },
     "execution_count": 158,
     "metadata": {},
     "output_type": "execute_result"
    }
   ],
   "source": [
    "house_plumbing_df.info()\n",
    "house_plumbing_df.head()"
   ],
   "metadata": {
    "collapsed": false,
    "ExecuteTime": {
     "end_time": "2025-03-08T00:56:40.765109Z",
     "start_time": "2025-03-08T00:56:40.755994Z"
    }
   },
   "id": "2c453a1c799e6fbb",
   "execution_count": 158
  },
  {
   "cell_type": "code",
   "outputs": [
    {
     "name": "stdout",
     "output_type": "stream",
     "text": [
      "<class 'pandas.core.frame.DataFrame'>\n",
      "RangeIndex: 3221 entries, 0 to 3220\n",
      "Data columns (total 58 columns):\n",
      " #   Column                                                                                                                                                                                           Non-Null Count  Dtype  \n",
      "---  ------                                                                                                                                                                                           --------------  -----  \n",
      " 0   Geographic Area Name                                                                                                                                                                             3221 non-null   object \n",
      " 1   Estimate!!HOUSING OCCUPANCY!!Total housing units                                                                                                                                                 3221 non-null   int64  \n",
      " 2   Percent!!VALUE!!Owner-occupied units                                                                                                                                                             3221 non-null   int64  \n",
      " 3   Percent!!VALUE!!Owner-occupied units!!Less than $50,000                                                                                                                                          3221 non-null   object \n",
      " 4   Percent!!VALUE!!Owner-occupied units!!$50,000 to $99,999                                                                                                                                         3221 non-null   object \n",
      " 5   Percent!!VALUE!!Owner-occupied units!!$100,000 to $149,999                                                                                                                                       3221 non-null   object \n",
      " 6   Percent!!VALUE!!Owner-occupied units!!$150,000 to $199,999                                                                                                                                       3221 non-null   object \n",
      " 7   Percent!!VALUE!!Owner-occupied units!!$200,000 to $299,999                                                                                                                                       3221 non-null   object \n",
      " 8   Percent!!VALUE!!Owner-occupied units!!$300,000 to $499,999                                                                                                                                       3221 non-null   object \n",
      " 9   Percent!!VALUE!!Owner-occupied units!!$500,000 to $999,999                                                                                                                                       3221 non-null   object \n",
      " 10  Percent!!VALUE!!Owner-occupied units!!$1,000,000 or more                                                                                                                                         3221 non-null   object \n",
      " 11  Percent!!MORTGAGE STATUS!!Owner-occupied units                                                                                                                                                   3221 non-null   int64  \n",
      " 12  Percent!!MORTGAGE STATUS!!Owner-occupied units!!Housing units with a mortgage                                                                                                                    3221 non-null   object \n",
      " 13  Percent!!MORTGAGE STATUS!!Owner-occupied units!!Housing units without a mortgage                                                                                                                 3221 non-null   object \n",
      " 14  Percent!!SELECTED MONTHLY OWNER COSTS (SMOC)!!Housing units with a mortgage                                                                                                                      3221 non-null   int64  \n",
      " 15  Percent!!SELECTED MONTHLY OWNER COSTS (SMOC)!!Housing units with a mortgage!!Less than $500                                                                                                      3221 non-null   object \n",
      " 16  Percent!!SELECTED MONTHLY OWNER COSTS (SMOC)!!Housing units with a mortgage!!$500 to $999                                                                                                        3221 non-null   object \n",
      " 17  Percent!!SELECTED MONTHLY OWNER COSTS (SMOC)!!Housing units with a mortgage!!$1,000 to $1,499                                                                                                    3221 non-null   object \n",
      " 18  Percent!!SELECTED MONTHLY OWNER COSTS (SMOC)!!Housing units with a mortgage!!$1,500 to $1,999                                                                                                    3221 non-null   object \n",
      " 19  Percent!!SELECTED MONTHLY OWNER COSTS (SMOC)!!Housing units with a mortgage!!$2,000 to $2,499                                                                                                    3221 non-null   object \n",
      " 20  Percent!!SELECTED MONTHLY OWNER COSTS (SMOC)!!Housing units with a mortgage!!$2,500 to $2,999                                                                                                    3221 non-null   object \n",
      " 21  Percent!!SELECTED MONTHLY OWNER COSTS (SMOC)!!Housing units with a mortgage!!$3,000 or more                                                                                                      3221 non-null   object \n",
      " 22  Percent!!SELECTED MONTHLY OWNER COSTS (SMOC)!!Housing units without a mortgage                                                                                                                   3221 non-null   int64  \n",
      " 23  Percent!!SELECTED MONTHLY OWNER COSTS (SMOC)!!Housing units without a mortgage!!Less than $250                                                                                                   3221 non-null   object \n",
      " 24  Percent!!SELECTED MONTHLY OWNER COSTS (SMOC)!!Housing units without a mortgage!!$250 to $399                                                                                                     3221 non-null   object \n",
      " 25  Percent!!SELECTED MONTHLY OWNER COSTS (SMOC)!!Housing units without a mortgage!!$400 to $599                                                                                                     3221 non-null   object \n",
      " 26  Percent!!SELECTED MONTHLY OWNER COSTS (SMOC)!!Housing units without a mortgage!!$600 to $799                                                                                                     3221 non-null   object \n",
      " 27  Percent!!SELECTED MONTHLY OWNER COSTS (SMOC)!!Housing units without a mortgage!!$800 to $999                                                                                                     3221 non-null   object \n",
      " 28  Percent!!SELECTED MONTHLY OWNER COSTS (SMOC)!!Housing units without a mortgage!!$1,000 or more                                                                                                   3221 non-null   object \n",
      " 29  Percent!!SELECTED MONTHLY OWNER COSTS AS A PERCENTAGE OF HOUSEHOLD INCOME (SMOCAPI)!!Housing units with a mortgage (excluding units where SMOCAPI cannot be computed)                            3221 non-null   int64  \n",
      " 30  Percent!!SELECTED MONTHLY OWNER COSTS AS A PERCENTAGE OF HOUSEHOLD INCOME (SMOCAPI)!!Housing units with a mortgage (excluding units where SMOCAPI cannot be computed)!!Less than 20.0 percent    3221 non-null   object \n",
      " 31  Percent!!SELECTED MONTHLY OWNER COSTS AS A PERCENTAGE OF HOUSEHOLD INCOME (SMOCAPI)!!Housing units with a mortgage (excluding units where SMOCAPI cannot be computed)!!20.0 to 24.9 percent      3221 non-null   object \n",
      " 32  Percent!!SELECTED MONTHLY OWNER COSTS AS A PERCENTAGE OF HOUSEHOLD INCOME (SMOCAPI)!!Housing units with a mortgage (excluding units where SMOCAPI cannot be computed)!!25.0 to 29.9 percent      3221 non-null   object \n",
      " 33  Percent!!SELECTED MONTHLY OWNER COSTS AS A PERCENTAGE OF HOUSEHOLD INCOME (SMOCAPI)!!Housing units with a mortgage (excluding units where SMOCAPI cannot be computed)!!30.0 to 34.9 percent      3221 non-null   object \n",
      " 34  Percent!!SELECTED MONTHLY OWNER COSTS AS A PERCENTAGE OF HOUSEHOLD INCOME (SMOCAPI)!!Housing units with a mortgage (excluding units where SMOCAPI cannot be computed)!!35.0 percent or more      3221 non-null   object \n",
      " 35  Percent!!SELECTED MONTHLY OWNER COSTS AS A PERCENTAGE OF HOUSEHOLD INCOME (SMOCAPI)!!Housing unit without a mortgage (excluding units where SMOCAPI cannot be computed)                          3221 non-null   int64  \n",
      " 36  Percent!!SELECTED MONTHLY OWNER COSTS AS A PERCENTAGE OF HOUSEHOLD INCOME (SMOCAPI)!!Housing unit without a mortgage (excluding units where SMOCAPI cannot be computed)!!Less than 10.0 percent  3221 non-null   object \n",
      " 37  Percent!!SELECTED MONTHLY OWNER COSTS AS A PERCENTAGE OF HOUSEHOLD INCOME (SMOCAPI)!!Housing unit without a mortgage (excluding units where SMOCAPI cannot be computed)!!10.0 to 14.9 percent    3221 non-null   object \n",
      " 38  Percent!!SELECTED MONTHLY OWNER COSTS AS A PERCENTAGE OF HOUSEHOLD INCOME (SMOCAPI)!!Housing unit without a mortgage (excluding units where SMOCAPI cannot be computed)!!15.0 to 19.9 percent    3221 non-null   object \n",
      " 39  Percent!!SELECTED MONTHLY OWNER COSTS AS A PERCENTAGE OF HOUSEHOLD INCOME (SMOCAPI)!!Housing unit without a mortgage (excluding units where SMOCAPI cannot be computed)!!20.0 to 24.9 percent    3221 non-null   object \n",
      " 40  Percent!!SELECTED MONTHLY OWNER COSTS AS A PERCENTAGE OF HOUSEHOLD INCOME (SMOCAPI)!!Housing unit without a mortgage (excluding units where SMOCAPI cannot be computed)!!25.0 to 29.9 percent    3221 non-null   object \n",
      " 41  Percent!!SELECTED MONTHLY OWNER COSTS AS A PERCENTAGE OF HOUSEHOLD INCOME (SMOCAPI)!!Housing unit without a mortgage (excluding units where SMOCAPI cannot be computed)!!30.0 to 34.9 percent    3221 non-null   object \n",
      " 42  Percent!!SELECTED MONTHLY OWNER COSTS AS A PERCENTAGE OF HOUSEHOLD INCOME (SMOCAPI)!!Housing unit without a mortgage (excluding units where SMOCAPI cannot be computed)!!35.0 percent or more    3221 non-null   object \n",
      " 43  Percent!!GROSS RENT!!Occupied units paying rent                                                                                                                                                  3221 non-null   int64  \n",
      " 44  Percent!!GROSS RENT!!Occupied units paying rent!!Less than $500                                                                                                                                  3221 non-null   float64\n",
      " 45  Percent!!GROSS RENT!!Occupied units paying rent!!$500 to $999                                                                                                                                    3221 non-null   float64\n",
      " 46  Percent!!GROSS RENT!!Occupied units paying rent!!$1,000 to $1,499                                                                                                                                3221 non-null   float64\n",
      " 47  Percent!!GROSS RENT!!Occupied units paying rent!!$1,500 to $1,999                                                                                                                                3221 non-null   float64\n",
      " 48  Percent!!GROSS RENT!!Occupied units paying rent!!$2,000 to $2,499                                                                                                                                3221 non-null   float64\n",
      " 49  Percent!!GROSS RENT!!Occupied units paying rent!!$2,500 to $2,999                                                                                                                                3221 non-null   float64\n",
      " 50  Percent!!GROSS RENT!!Occupied units paying rent!!$3,000 or more                                                                                                                                  3221 non-null   float64\n",
      " 51  Percent!!GROSS RENT AS A PERCENTAGE OF HOUSEHOLD INCOME (GRAPI)!!Occupied units paying rent (excluding units where GRAPI cannot be computed)                                                     3221 non-null   int64  \n",
      " 52  Percent!!GROSS RENT AS A PERCENTAGE OF HOUSEHOLD INCOME (GRAPI)!!Occupied units paying rent (excluding units where GRAPI cannot be computed)!!Less than 15.0 percent                             3221 non-null   float64\n",
      " 53  Percent!!GROSS RENT AS A PERCENTAGE OF HOUSEHOLD INCOME (GRAPI)!!Occupied units paying rent (excluding units where GRAPI cannot be computed)!!15.0 to 19.9 percent                               3221 non-null   float64\n",
      " 54  Percent!!GROSS RENT AS A PERCENTAGE OF HOUSEHOLD INCOME (GRAPI)!!Occupied units paying rent (excluding units where GRAPI cannot be computed)!!20.0 to 24.9 percent                               3221 non-null   float64\n",
      " 55  Percent!!GROSS RENT AS A PERCENTAGE OF HOUSEHOLD INCOME (GRAPI)!!Occupied units paying rent (excluding units where GRAPI cannot be computed)!!25.0 to 29.9 percent                               3221 non-null   float64\n",
      " 56  Percent!!GROSS RENT AS A PERCENTAGE OF HOUSEHOLD INCOME (GRAPI)!!Occupied units paying rent (excluding units where GRAPI cannot be computed)!!30.0 to 34.9 percent                               3221 non-null   float64\n",
      " 57  Percent!!GROSS RENT AS A PERCENTAGE OF HOUSEHOLD INCOME (GRAPI)!!Occupied units paying rent (excluding units where GRAPI cannot be computed)!!35.0 percent or more                               3221 non-null   float64\n",
      "dtypes: float64(13), int64(9), object(36)\n",
      "memory usage: 1.4+ MB\n"
     ]
    },
    {
     "data": {
      "text/plain": "      Geographic Area Name  Estimate!!HOUSING OCCUPANCY!!Total housing units  \\\n0  Autauga County, Alabama                                             24170   \n1  Baldwin County, Alabama                                            121763   \n2  Barbour County, Alabama                                             11667   \n3     Bibb County, Alabama                                              9013   \n4   Blount County, Alabama                                             24527   \n\n   Percent!!VALUE!!Owner-occupied units  \\\n0                                 16227   \n1                                 67242   \n2                                  5654   \n3                                  5580   \n4                                 16865   \n\n  Percent!!VALUE!!Owner-occupied units!!Less than $50,000  \\\n0                                               12.3        \n1                                                5.5        \n2                                               28.5        \n3                                               22.2        \n4                                               13.4        \n\n  Percent!!VALUE!!Owner-occupied units!!$50,000 to $99,999  \\\n0                                                 16         \n1                                                7.5         \n2                                               24.6         \n3                                               26.6         \n4                                               21.4         \n\n  Percent!!VALUE!!Owner-occupied units!!$100,000 to $149,999  \\\n0                                               15.4           \n1                                               11.5           \n2                                               15.9           \n3                                               17.3           \n4                                               19.6           \n\n  Percent!!VALUE!!Owner-occupied units!!$150,000 to $199,999  \\\n0                                               18.8           \n1                                               17.7           \n2                                               11.9           \n3                                               13.3           \n4                                               15.4           \n\n  Percent!!VALUE!!Owner-occupied units!!$200,000 to $299,999  \\\n0                                               22.4           \n1                                               24.6           \n2                                                9.4           \n3                                               13.1           \n4                                                 18           \n\n  Percent!!VALUE!!Owner-occupied units!!$300,000 to $499,999  \\\n0                                               12.5           \n1                                               21.7           \n2                                                6.4           \n3                                                5.9           \n4                                                  9           \n\n  Percent!!VALUE!!Owner-occupied units!!$500,000 to $999,999  ...  \\\n0                                                2.5          ...   \n1                                                9.1          ...   \n2                                                2.8          ...   \n3                                                0.3          ...   \n4                                                2.7          ...   \n\n  Percent!!GROSS RENT!!Occupied units paying rent!!$2,000 to $2,499  \\\n0                                                2.4                  \n1                                                3.1                  \n2                                                0.4                  \n3                                                0.0                  \n4                                                0.7                  \n\n   Percent!!GROSS RENT!!Occupied units paying rent!!$2,500 to $2,999  \\\n0                                                0.6                   \n1                                                0.5                   \n2                                                0.0                   \n3                                                0.0                   \n4                                                0.0                   \n\n  Percent!!GROSS RENT!!Occupied units paying rent!!$3,000 or more  \\\n0                                                2.5                \n1                                                1.0                \n2                                                0.0                \n3                                                0.0                \n4                                                0.2                \n\n  Percent!!GROSS RENT AS A PERCENTAGE OF HOUSEHOLD INCOME (GRAPI)!!Occupied units paying rent (excluding units where GRAPI cannot be computed)  \\\n0                                               4814                                                                                             \n1                                              17291                                                                                             \n2                                               2807                                                                                             \n3                                               1187                                                                                             \n4                                               3385                                                                                             \n\n   Percent!!GROSS RENT AS A PERCENTAGE OF HOUSEHOLD INCOME (GRAPI)!!Occupied units paying rent (excluding units where GRAPI cannot be computed)!!Less than 15.0 percent  \\\n0                                               16.8                                                                                                                      \n1                                               12.9                                                                                                                      \n2                                               14.4                                                                                                                      \n3                                               24.8                                                                                                                      \n4                                               16.9                                                                                                                      \n\n  Percent!!GROSS RENT AS A PERCENTAGE OF HOUSEHOLD INCOME (GRAPI)!!Occupied units paying rent (excluding units where GRAPI cannot be computed)!!15.0 to 19.9 percent  \\\n0                                               11.4                                                                                                                   \n1                                               12.9                                                                                                                   \n2                                               17.7                                                                                                                   \n3                                                1.7                                                                                                                   \n4                                               16.1                                                                                                                   \n\n  Percent!!GROSS RENT AS A PERCENTAGE OF HOUSEHOLD INCOME (GRAPI)!!Occupied units paying rent (excluding units where GRAPI cannot be computed)!!20.0 to 24.9 percent  \\\n0                                               20.2                                                                                                                   \n1                                               16.7                                                                                                                   \n2                                               16.2                                                                                                                   \n3                                               17.4                                                                                                                   \n4                                               12.3                                                                                                                   \n\n  Percent!!GROSS RENT AS A PERCENTAGE OF HOUSEHOLD INCOME (GRAPI)!!Occupied units paying rent (excluding units where GRAPI cannot be computed)!!25.0 to 29.9 percent  \\\n0                                               16.9                                                                                                                   \n1                                                9.6                                                                                                                   \n2                                                9.4                                                                                                                   \n3                                                7.6                                                                                                                   \n4                                                9.8                                                                                                                   \n\n  Percent!!GROSS RENT AS A PERCENTAGE OF HOUSEHOLD INCOME (GRAPI)!!Occupied units paying rent (excluding units where GRAPI cannot be computed)!!30.0 to 34.9 percent  \\\n0                                                3.6                                                                                                                   \n1                                               10.5                                                                                                                   \n2                                                7.1                                                                                                                   \n3                                                1.5                                                                                                                   \n4                                                7.0                                                                                                                   \n\n  Percent!!GROSS RENT AS A PERCENTAGE OF HOUSEHOLD INCOME (GRAPI)!!Occupied units paying rent (excluding units where GRAPI cannot be computed)!!35.0 percent or more  \n0                                               31.0                                                                                                                  \n1                                               37.3                                                                                                                  \n2                                               35.2                                                                                                                  \n3                                               47.1                                                                                                                  \n4                                               37.9                                                                                                                  \n\n[5 rows x 58 columns]",
      "text/html": "<div>\n<style scoped>\n    .dataframe tbody tr th:only-of-type {\n        vertical-align: middle;\n    }\n\n    .dataframe tbody tr th {\n        vertical-align: top;\n    }\n\n    .dataframe thead th {\n        text-align: right;\n    }\n</style>\n<table border=\"1\" class=\"dataframe\">\n  <thead>\n    <tr style=\"text-align: right;\">\n      <th></th>\n      <th>Geographic Area Name</th>\n      <th>Estimate!!HOUSING OCCUPANCY!!Total housing units</th>\n      <th>Percent!!VALUE!!Owner-occupied units</th>\n      <th>Percent!!VALUE!!Owner-occupied units!!Less than $50,000</th>\n      <th>Percent!!VALUE!!Owner-occupied units!!$50,000 to $99,999</th>\n      <th>Percent!!VALUE!!Owner-occupied units!!$100,000 to $149,999</th>\n      <th>Percent!!VALUE!!Owner-occupied units!!$150,000 to $199,999</th>\n      <th>Percent!!VALUE!!Owner-occupied units!!$200,000 to $299,999</th>\n      <th>Percent!!VALUE!!Owner-occupied units!!$300,000 to $499,999</th>\n      <th>Percent!!VALUE!!Owner-occupied units!!$500,000 to $999,999</th>\n      <th>...</th>\n      <th>Percent!!GROSS RENT!!Occupied units paying rent!!$2,000 to $2,499</th>\n      <th>Percent!!GROSS RENT!!Occupied units paying rent!!$2,500 to $2,999</th>\n      <th>Percent!!GROSS RENT!!Occupied units paying rent!!$3,000 or more</th>\n      <th>Percent!!GROSS RENT AS A PERCENTAGE OF HOUSEHOLD INCOME (GRAPI)!!Occupied units paying rent (excluding units where GRAPI cannot be computed)</th>\n      <th>Percent!!GROSS RENT AS A PERCENTAGE OF HOUSEHOLD INCOME (GRAPI)!!Occupied units paying rent (excluding units where GRAPI cannot be computed)!!Less than 15.0 percent</th>\n      <th>Percent!!GROSS RENT AS A PERCENTAGE OF HOUSEHOLD INCOME (GRAPI)!!Occupied units paying rent (excluding units where GRAPI cannot be computed)!!15.0 to 19.9 percent</th>\n      <th>Percent!!GROSS RENT AS A PERCENTAGE OF HOUSEHOLD INCOME (GRAPI)!!Occupied units paying rent (excluding units where GRAPI cannot be computed)!!20.0 to 24.9 percent</th>\n      <th>Percent!!GROSS RENT AS A PERCENTAGE OF HOUSEHOLD INCOME (GRAPI)!!Occupied units paying rent (excluding units where GRAPI cannot be computed)!!25.0 to 29.9 percent</th>\n      <th>Percent!!GROSS RENT AS A PERCENTAGE OF HOUSEHOLD INCOME (GRAPI)!!Occupied units paying rent (excluding units where GRAPI cannot be computed)!!30.0 to 34.9 percent</th>\n      <th>Percent!!GROSS RENT AS A PERCENTAGE OF HOUSEHOLD INCOME (GRAPI)!!Occupied units paying rent (excluding units where GRAPI cannot be computed)!!35.0 percent or more</th>\n    </tr>\n  </thead>\n  <tbody>\n    <tr>\n      <th>0</th>\n      <td>Autauga County, Alabama</td>\n      <td>24170</td>\n      <td>16227</td>\n      <td>12.3</td>\n      <td>16</td>\n      <td>15.4</td>\n      <td>18.8</td>\n      <td>22.4</td>\n      <td>12.5</td>\n      <td>2.5</td>\n      <td>...</td>\n      <td>2.4</td>\n      <td>0.6</td>\n      <td>2.5</td>\n      <td>4814</td>\n      <td>16.8</td>\n      <td>11.4</td>\n      <td>20.2</td>\n      <td>16.9</td>\n      <td>3.6</td>\n      <td>31.0</td>\n    </tr>\n    <tr>\n      <th>1</th>\n      <td>Baldwin County, Alabama</td>\n      <td>121763</td>\n      <td>67242</td>\n      <td>5.5</td>\n      <td>7.5</td>\n      <td>11.5</td>\n      <td>17.7</td>\n      <td>24.6</td>\n      <td>21.7</td>\n      <td>9.1</td>\n      <td>...</td>\n      <td>3.1</td>\n      <td>0.5</td>\n      <td>1.0</td>\n      <td>17291</td>\n      <td>12.9</td>\n      <td>12.9</td>\n      <td>16.7</td>\n      <td>9.6</td>\n      <td>10.5</td>\n      <td>37.3</td>\n    </tr>\n    <tr>\n      <th>2</th>\n      <td>Barbour County, Alabama</td>\n      <td>11667</td>\n      <td>5654</td>\n      <td>28.5</td>\n      <td>24.6</td>\n      <td>15.9</td>\n      <td>11.9</td>\n      <td>9.4</td>\n      <td>6.4</td>\n      <td>2.8</td>\n      <td>...</td>\n      <td>0.4</td>\n      <td>0.0</td>\n      <td>0.0</td>\n      <td>2807</td>\n      <td>14.4</td>\n      <td>17.7</td>\n      <td>16.2</td>\n      <td>9.4</td>\n      <td>7.1</td>\n      <td>35.2</td>\n    </tr>\n    <tr>\n      <th>3</th>\n      <td>Bibb County, Alabama</td>\n      <td>9013</td>\n      <td>5580</td>\n      <td>22.2</td>\n      <td>26.6</td>\n      <td>17.3</td>\n      <td>13.3</td>\n      <td>13.1</td>\n      <td>5.9</td>\n      <td>0.3</td>\n      <td>...</td>\n      <td>0.0</td>\n      <td>0.0</td>\n      <td>0.0</td>\n      <td>1187</td>\n      <td>24.8</td>\n      <td>1.7</td>\n      <td>17.4</td>\n      <td>7.6</td>\n      <td>1.5</td>\n      <td>47.1</td>\n    </tr>\n    <tr>\n      <th>4</th>\n      <td>Blount County, Alabama</td>\n      <td>24527</td>\n      <td>16865</td>\n      <td>13.4</td>\n      <td>21.4</td>\n      <td>19.6</td>\n      <td>15.4</td>\n      <td>18</td>\n      <td>9</td>\n      <td>2.7</td>\n      <td>...</td>\n      <td>0.7</td>\n      <td>0.0</td>\n      <td>0.2</td>\n      <td>3385</td>\n      <td>16.9</td>\n      <td>16.1</td>\n      <td>12.3</td>\n      <td>9.8</td>\n      <td>7.0</td>\n      <td>37.9</td>\n    </tr>\n  </tbody>\n</table>\n<p>5 rows × 58 columns</p>\n</div>"
     },
     "execution_count": 159,
     "metadata": {},
     "output_type": "execute_result"
    }
   ],
   "source": [
    "house_price_df.info()\n",
    "house_price_df.head()"
   ],
   "metadata": {
    "collapsed": false,
    "ExecuteTime": {
     "end_time": "2025-03-08T00:56:40.812557Z",
     "start_time": "2025-03-08T00:56:40.797626Z"
    }
   },
   "id": "67d33ddfcf606166",
   "execution_count": 159
  },
  {
   "cell_type": "markdown",
   "source": [
    "- 'house_price_df' and 'house_plumbing_df' are percent but 'house_built_year_df' is not. normalize required"
   ],
   "metadata": {
    "collapsed": false
   },
   "id": "383e2c25a065a26f"
  },
  {
   "cell_type": "markdown",
   "source": [
    "**Normarlize house_built_year_df to merge**"
   ],
   "metadata": {
    "collapsed": false
   },
   "id": "b7988a871e672a1c"
  },
  {
   "cell_type": "code",
   "outputs": [],
   "source": [
    "## clean the column names\n",
    "house_built_year_df.columns = house_built_year_df.columns.str.strip()\n",
    "house_plumbing_df.columns = house_plumbing_df.columns.str.strip()\n",
    "house_price_df.columns = house_price_df.columns.str.strip()"
   ],
   "metadata": {
    "collapsed": false,
    "ExecuteTime": {
     "end_time": "2025-03-08T00:56:40.890589Z",
     "start_time": "2025-03-08T00:56:40.887952Z"
    }
   },
   "id": "b9b82cdb272479b2",
   "execution_count": 160
  },
  {
   "cell_type": "code",
   "outputs": [
    {
     "data": {
      "text/plain": "(1904, 15)"
     },
     "execution_count": 161,
     "metadata": {},
     "output_type": "execute_result"
    }
   ],
   "source": [
    "house_built_year_df.shape"
   ],
   "metadata": {
    "collapsed": false,
    "ExecuteTime": {
     "end_time": "2025-03-08T00:56:40.949584Z",
     "start_time": "2025-03-08T00:56:40.946416Z"
    }
   },
   "id": "18857a999d8479ca",
   "execution_count": 161
  },
  {
   "cell_type": "code",
   "outputs": [],
   "source": [
    "def normalize_df(df):\n",
    "    total_col = \"Estimate!!Total:\"\n",
    "    df[total_col] = pd.to_numeric(df[total_col], errors='coerce')\n",
    "    \n",
    "    for col in df.columns:\n",
    "        if col.startswith(\"Estimate!!Total:\") and col != total_col:\n",
    "            df[col] = pd.to_numeric(df[col], errors='coerce') / df[total_col]\n",
    "            \n",
    "    df = df.drop(columns=[\"Estimate!!Total:\"], errors=\"ignore\")\n",
    "    \n",
    "    return df"
   ],
   "metadata": {
    "collapsed": false,
    "ExecuteTime": {
     "end_time": "2025-03-08T00:56:41.094456Z",
     "start_time": "2025-03-08T00:56:41.091051Z"
    }
   },
   "id": "65336b370602f791",
   "execution_count": 162
  },
  {
   "cell_type": "code",
   "outputs": [
    {
     "data": {
      "text/plain": "      Geographic Area Name  Margin of Error!!Total:  \\\n0  Autauga County, Alabama                    211.0   \n1  Baldwin County, Alabama                    889.0   \n2  Barbour County, Alabama                    393.0   \n3     Bibb County, Alabama                   1205.0   \n4   Blount County, Alabama                    126.0   \n\n   Estimate!!Total:!!Built 2020 or later  \\\n0                               0.018971   \n1                               0.016696   \n2                               0.000000   \n3                               0.000000   \n4                               0.003596   \n\n   Margin of Error!!Total:!!Built 2020 or later  \\\n0                                         620.0   \n1                                        1029.0   \n2                                         216.0   \n3                                         216.0   \n4                                          99.0   \n\n   Estimate!!Total:!!Built 2000 to 2019  \\\n0                              0.348779   \n1                              0.460808   \n2                              0.171020   \n3                              0.269087   \n4                              0.272173   \n\n   Margin of Error!!Total:!!Built 2000 to 2019  \\\n0                                       1489.0   \n1                                       4203.0   \n2                                        559.0   \n3                                        874.0   \n4                                       1161.0   \n\n   Estimate!!Total:!!Built 1980 to 1999  \\\n0                              0.233663   \n1                              0.317366   \n2                              0.400188   \n3                              0.378022   \n4                              0.367732   \n\n   Margin of Error!!Total:!!Built 1980 to 1999  \\\n0                                       1431.0   \n1                                       3688.0   \n2                                        743.0   \n3                                       1233.0   \n4                                       1319.0   \n\n   Estimate!!Total:!!Built 1960 to 1979  \\\n0                              0.310232   \n1                              0.156746   \n2                              0.253661   \n3                              0.226947   \n4                              0.221302   \n\n   Margin of Error!!Total:!!Built 1960 to 1979  \\\n0                                       1258.0   \n1                                       2994.0   \n2                                        782.0   \n3                                        949.0   \n4                                       1094.0   \n\n   Estimate!!Total:!!Built 1940 to 1959  \\\n0                              0.058325   \n1                              0.030529   \n2                              0.104736   \n3                              0.060487   \n4                              0.092610   \n\n   Margin of Error!!Total:!!Built 1940 to 1959  \\\n0                                        604.0   \n1                                       1064.0   \n2                                        404.0   \n3                                        532.0   \n4                                        793.0   \n\n   Estimate!!Total:!!Built 1939 or earlier  \\\n0                                 0.030030   \n1                                 0.017855   \n2                                 0.070395   \n3                                 0.065456   \n4                                 0.042588   \n\n   Margin of Error!!Total:!!Built 1939 or earlier  \n0                                           463.0  \n1                                           913.0  \n2                                           371.0  \n3                                           462.0  \n4                                           504.0  ",
      "text/html": "<div>\n<style scoped>\n    .dataframe tbody tr th:only-of-type {\n        vertical-align: middle;\n    }\n\n    .dataframe tbody tr th {\n        vertical-align: top;\n    }\n\n    .dataframe thead th {\n        text-align: right;\n    }\n</style>\n<table border=\"1\" class=\"dataframe\">\n  <thead>\n    <tr style=\"text-align: right;\">\n      <th></th>\n      <th>Geographic Area Name</th>\n      <th>Margin of Error!!Total:</th>\n      <th>Estimate!!Total:!!Built 2020 or later</th>\n      <th>Margin of Error!!Total:!!Built 2020 or later</th>\n      <th>Estimate!!Total:!!Built 2000 to 2019</th>\n      <th>Margin of Error!!Total:!!Built 2000 to 2019</th>\n      <th>Estimate!!Total:!!Built 1980 to 1999</th>\n      <th>Margin of Error!!Total:!!Built 1980 to 1999</th>\n      <th>Estimate!!Total:!!Built 1960 to 1979</th>\n      <th>Margin of Error!!Total:!!Built 1960 to 1979</th>\n      <th>Estimate!!Total:!!Built 1940 to 1959</th>\n      <th>Margin of Error!!Total:!!Built 1940 to 1959</th>\n      <th>Estimate!!Total:!!Built 1939 or earlier</th>\n      <th>Margin of Error!!Total:!!Built 1939 or earlier</th>\n    </tr>\n  </thead>\n  <tbody>\n    <tr>\n      <th>0</th>\n      <td>Autauga County, Alabama</td>\n      <td>211.0</td>\n      <td>0.018971</td>\n      <td>620.0</td>\n      <td>0.348779</td>\n      <td>1489.0</td>\n      <td>0.233663</td>\n      <td>1431.0</td>\n      <td>0.310232</td>\n      <td>1258.0</td>\n      <td>0.058325</td>\n      <td>604.0</td>\n      <td>0.030030</td>\n      <td>463.0</td>\n    </tr>\n    <tr>\n      <th>1</th>\n      <td>Baldwin County, Alabama</td>\n      <td>889.0</td>\n      <td>0.016696</td>\n      <td>1029.0</td>\n      <td>0.460808</td>\n      <td>4203.0</td>\n      <td>0.317366</td>\n      <td>3688.0</td>\n      <td>0.156746</td>\n      <td>2994.0</td>\n      <td>0.030529</td>\n      <td>1064.0</td>\n      <td>0.017855</td>\n      <td>913.0</td>\n    </tr>\n    <tr>\n      <th>2</th>\n      <td>Barbour County, Alabama</td>\n      <td>393.0</td>\n      <td>0.000000</td>\n      <td>216.0</td>\n      <td>0.171020</td>\n      <td>559.0</td>\n      <td>0.400188</td>\n      <td>743.0</td>\n      <td>0.253661</td>\n      <td>782.0</td>\n      <td>0.104736</td>\n      <td>404.0</td>\n      <td>0.070395</td>\n      <td>371.0</td>\n    </tr>\n    <tr>\n      <th>3</th>\n      <td>Bibb County, Alabama</td>\n      <td>1205.0</td>\n      <td>0.000000</td>\n      <td>216.0</td>\n      <td>0.269087</td>\n      <td>874.0</td>\n      <td>0.378022</td>\n      <td>1233.0</td>\n      <td>0.226947</td>\n      <td>949.0</td>\n      <td>0.060487</td>\n      <td>532.0</td>\n      <td>0.065456</td>\n      <td>462.0</td>\n    </tr>\n    <tr>\n      <th>4</th>\n      <td>Blount County, Alabama</td>\n      <td>126.0</td>\n      <td>0.003596</td>\n      <td>99.0</td>\n      <td>0.272173</td>\n      <td>1161.0</td>\n      <td>0.367732</td>\n      <td>1319.0</td>\n      <td>0.221302</td>\n      <td>1094.0</td>\n      <td>0.092610</td>\n      <td>793.0</td>\n      <td>0.042588</td>\n      <td>504.0</td>\n    </tr>\n  </tbody>\n</table>\n</div>"
     },
     "execution_count": 163,
     "metadata": {},
     "output_type": "execute_result"
    }
   ],
   "source": [
    "normalized_house_built_year_df = normalize_df(house_built_year_df)\n",
    "normalized_house_built_year_df.head()"
   ],
   "metadata": {
    "collapsed": false,
    "ExecuteTime": {
     "end_time": "2025-03-08T00:56:41.142620Z",
     "start_time": "2025-03-08T00:56:41.130376Z"
    }
   },
   "id": "5e5ded4ea7652b43",
   "execution_count": 163
  },
  {
   "cell_type": "code",
   "outputs": [
    {
     "data": {
      "text/plain": "(1904, 14)"
     },
     "execution_count": 164,
     "metadata": {},
     "output_type": "execute_result"
    }
   ],
   "source": [
    "normalized_house_built_year_df.shape"
   ],
   "metadata": {
    "collapsed": false,
    "ExecuteTime": {
     "end_time": "2025-03-08T00:56:41.250803Z",
     "start_time": "2025-03-08T00:56:41.246809Z"
    }
   },
   "id": "ad5d5a364643d93",
   "execution_count": 164
  },
  {
   "cell_type": "markdown",
   "source": [
    "**Merge data by 'Geographic Area Name'**"
   ],
   "metadata": {
    "collapsed": false
   },
   "id": "922103447c7dd0e6"
  },
  {
   "cell_type": "code",
   "outputs": [
    {
     "data": {
      "text/plain": "      Geographic Area Name  Margin of Error!!Total:  \\\n0  Autauga County, Alabama                    211.0   \n1  Baldwin County, Alabama                    889.0   \n2  Barbour County, Alabama                    393.0   \n3     Bibb County, Alabama                   1205.0   \n4   Blount County, Alabama                    126.0   \n\n   Estimate!!Total:!!Built 2020 or later  \\\n0                               0.018971   \n1                               0.016696   \n2                               0.000000   \n3                               0.000000   \n4                               0.003596   \n\n   Margin of Error!!Total:!!Built 2020 or later  \\\n0                                         620.0   \n1                                        1029.0   \n2                                         216.0   \n3                                         216.0   \n4                                          99.0   \n\n   Estimate!!Total:!!Built 2000 to 2019  \\\n0                              0.348779   \n1                              0.460808   \n2                              0.171020   \n3                              0.269087   \n4                              0.272173   \n\n   Margin of Error!!Total:!!Built 2000 to 2019  \\\n0                                       1489.0   \n1                                       4203.0   \n2                                        559.0   \n3                                        874.0   \n4                                       1161.0   \n\n   Estimate!!Total:!!Built 1980 to 1999  \\\n0                              0.233663   \n1                              0.317366   \n2                              0.400188   \n3                              0.378022   \n4                              0.367732   \n\n   Margin of Error!!Total:!!Built 1980 to 1999  \\\n0                                       1431.0   \n1                                       3688.0   \n2                                        743.0   \n3                                       1233.0   \n4                                       1319.0   \n\n   Estimate!!Total:!!Built 1960 to 1979  \\\n0                              0.310232   \n1                              0.156746   \n2                              0.253661   \n3                              0.226947   \n4                              0.221302   \n\n   Margin of Error!!Total:!!Built 1960 to 1979  ...  \\\n0                                       1258.0  ...   \n1                                       2994.0  ...   \n2                                        782.0  ...   \n3                                        949.0  ...   \n4                                       1094.0  ...   \n\n   Percent!!GROSS RENT!!Occupied units paying rent!!$2,000 to $2,499  \\\n0                                                2.4                   \n1                                                3.1                   \n2                                                0.4                   \n3                                                0.0                   \n4                                                0.7                   \n\n   Percent!!GROSS RENT!!Occupied units paying rent!!$2,500 to $2,999  \\\n0                                                0.6                   \n1                                                0.5                   \n2                                                0.0                   \n3                                                0.0                   \n4                                                0.0                   \n\n   Percent!!GROSS RENT!!Occupied units paying rent!!$3,000 or more  \\\n0                                                2.5                 \n1                                                1.0                 \n2                                                0.0                 \n3                                                0.0                 \n4                                                0.2                 \n\n   Percent!!GROSS RENT AS A PERCENTAGE OF HOUSEHOLD INCOME (GRAPI)!!Occupied units paying rent (excluding units where GRAPI cannot be computed)  \\\n0                                               4814                                                                                              \n1                                              17291                                                                                              \n2                                               2807                                                                                              \n3                                               1187                                                                                              \n4                                               3385                                                                                              \n\n   Percent!!GROSS RENT AS A PERCENTAGE OF HOUSEHOLD INCOME (GRAPI)!!Occupied units paying rent (excluding units where GRAPI cannot be computed)!!Less than 15.0 percent  \\\n0                                               16.8                                                                                                                      \n1                                               12.9                                                                                                                      \n2                                               14.4                                                                                                                      \n3                                               24.8                                                                                                                      \n4                                               16.9                                                                                                                      \n\n   Percent!!GROSS RENT AS A PERCENTAGE OF HOUSEHOLD INCOME (GRAPI)!!Occupied units paying rent (excluding units where GRAPI cannot be computed)!!15.0 to 19.9 percent  \\\n0                                               11.4                                                                                                                    \n1                                               12.9                                                                                                                    \n2                                               17.7                                                                                                                    \n3                                                1.7                                                                                                                    \n4                                               16.1                                                                                                                    \n\n   Percent!!GROSS RENT AS A PERCENTAGE OF HOUSEHOLD INCOME (GRAPI)!!Occupied units paying rent (excluding units where GRAPI cannot be computed)!!20.0 to 24.9 percent  \\\n0                                               20.2                                                                                                                    \n1                                               16.7                                                                                                                    \n2                                               16.2                                                                                                                    \n3                                               17.4                                                                                                                    \n4                                               12.3                                                                                                                    \n\n   Percent!!GROSS RENT AS A PERCENTAGE OF HOUSEHOLD INCOME (GRAPI)!!Occupied units paying rent (excluding units where GRAPI cannot be computed)!!25.0 to 29.9 percent  \\\n0                                               16.9                                                                                                                    \n1                                                9.6                                                                                                                    \n2                                                9.4                                                                                                                    \n3                                                7.6                                                                                                                    \n4                                                9.8                                                                                                                    \n\n  Percent!!GROSS RENT AS A PERCENTAGE OF HOUSEHOLD INCOME (GRAPI)!!Occupied units paying rent (excluding units where GRAPI cannot be computed)!!30.0 to 34.9 percent  \\\n0                                                3.6                                                                                                                   \n1                                               10.5                                                                                                                   \n2                                                7.1                                                                                                                   \n3                                                1.5                                                                                                                   \n4                                                7.0                                                                                                                   \n\n  Percent!!GROSS RENT AS A PERCENTAGE OF HOUSEHOLD INCOME (GRAPI)!!Occupied units paying rent (excluding units where GRAPI cannot be computed)!!35.0 percent or more  \n0                                               31.0                                                                                                                  \n1                                               37.3                                                                                                                  \n2                                               35.2                                                                                                                  \n3                                               47.1                                                                                                                  \n4                                               37.9                                                                                                                  \n\n[5 rows x 77 columns]",
      "text/html": "<div>\n<style scoped>\n    .dataframe tbody tr th:only-of-type {\n        vertical-align: middle;\n    }\n\n    .dataframe tbody tr th {\n        vertical-align: top;\n    }\n\n    .dataframe thead th {\n        text-align: right;\n    }\n</style>\n<table border=\"1\" class=\"dataframe\">\n  <thead>\n    <tr style=\"text-align: right;\">\n      <th></th>\n      <th>Geographic Area Name</th>\n      <th>Margin of Error!!Total:</th>\n      <th>Estimate!!Total:!!Built 2020 or later</th>\n      <th>Margin of Error!!Total:!!Built 2020 or later</th>\n      <th>Estimate!!Total:!!Built 2000 to 2019</th>\n      <th>Margin of Error!!Total:!!Built 2000 to 2019</th>\n      <th>Estimate!!Total:!!Built 1980 to 1999</th>\n      <th>Margin of Error!!Total:!!Built 1980 to 1999</th>\n      <th>Estimate!!Total:!!Built 1960 to 1979</th>\n      <th>Margin of Error!!Total:!!Built 1960 to 1979</th>\n      <th>...</th>\n      <th>Percent!!GROSS RENT!!Occupied units paying rent!!$2,000 to $2,499</th>\n      <th>Percent!!GROSS RENT!!Occupied units paying rent!!$2,500 to $2,999</th>\n      <th>Percent!!GROSS RENT!!Occupied units paying rent!!$3,000 or more</th>\n      <th>Percent!!GROSS RENT AS A PERCENTAGE OF HOUSEHOLD INCOME (GRAPI)!!Occupied units paying rent (excluding units where GRAPI cannot be computed)</th>\n      <th>Percent!!GROSS RENT AS A PERCENTAGE OF HOUSEHOLD INCOME (GRAPI)!!Occupied units paying rent (excluding units where GRAPI cannot be computed)!!Less than 15.0 percent</th>\n      <th>Percent!!GROSS RENT AS A PERCENTAGE OF HOUSEHOLD INCOME (GRAPI)!!Occupied units paying rent (excluding units where GRAPI cannot be computed)!!15.0 to 19.9 percent</th>\n      <th>Percent!!GROSS RENT AS A PERCENTAGE OF HOUSEHOLD INCOME (GRAPI)!!Occupied units paying rent (excluding units where GRAPI cannot be computed)!!20.0 to 24.9 percent</th>\n      <th>Percent!!GROSS RENT AS A PERCENTAGE OF HOUSEHOLD INCOME (GRAPI)!!Occupied units paying rent (excluding units where GRAPI cannot be computed)!!25.0 to 29.9 percent</th>\n      <th>Percent!!GROSS RENT AS A PERCENTAGE OF HOUSEHOLD INCOME (GRAPI)!!Occupied units paying rent (excluding units where GRAPI cannot be computed)!!30.0 to 34.9 percent</th>\n      <th>Percent!!GROSS RENT AS A PERCENTAGE OF HOUSEHOLD INCOME (GRAPI)!!Occupied units paying rent (excluding units where GRAPI cannot be computed)!!35.0 percent or more</th>\n    </tr>\n  </thead>\n  <tbody>\n    <tr>\n      <th>0</th>\n      <td>Autauga County, Alabama</td>\n      <td>211.0</td>\n      <td>0.018971</td>\n      <td>620.0</td>\n      <td>0.348779</td>\n      <td>1489.0</td>\n      <td>0.233663</td>\n      <td>1431.0</td>\n      <td>0.310232</td>\n      <td>1258.0</td>\n      <td>...</td>\n      <td>2.4</td>\n      <td>0.6</td>\n      <td>2.5</td>\n      <td>4814</td>\n      <td>16.8</td>\n      <td>11.4</td>\n      <td>20.2</td>\n      <td>16.9</td>\n      <td>3.6</td>\n      <td>31.0</td>\n    </tr>\n    <tr>\n      <th>1</th>\n      <td>Baldwin County, Alabama</td>\n      <td>889.0</td>\n      <td>0.016696</td>\n      <td>1029.0</td>\n      <td>0.460808</td>\n      <td>4203.0</td>\n      <td>0.317366</td>\n      <td>3688.0</td>\n      <td>0.156746</td>\n      <td>2994.0</td>\n      <td>...</td>\n      <td>3.1</td>\n      <td>0.5</td>\n      <td>1.0</td>\n      <td>17291</td>\n      <td>12.9</td>\n      <td>12.9</td>\n      <td>16.7</td>\n      <td>9.6</td>\n      <td>10.5</td>\n      <td>37.3</td>\n    </tr>\n    <tr>\n      <th>2</th>\n      <td>Barbour County, Alabama</td>\n      <td>393.0</td>\n      <td>0.000000</td>\n      <td>216.0</td>\n      <td>0.171020</td>\n      <td>559.0</td>\n      <td>0.400188</td>\n      <td>743.0</td>\n      <td>0.253661</td>\n      <td>782.0</td>\n      <td>...</td>\n      <td>0.4</td>\n      <td>0.0</td>\n      <td>0.0</td>\n      <td>2807</td>\n      <td>14.4</td>\n      <td>17.7</td>\n      <td>16.2</td>\n      <td>9.4</td>\n      <td>7.1</td>\n      <td>35.2</td>\n    </tr>\n    <tr>\n      <th>3</th>\n      <td>Bibb County, Alabama</td>\n      <td>1205.0</td>\n      <td>0.000000</td>\n      <td>216.0</td>\n      <td>0.269087</td>\n      <td>874.0</td>\n      <td>0.378022</td>\n      <td>1233.0</td>\n      <td>0.226947</td>\n      <td>949.0</td>\n      <td>...</td>\n      <td>0.0</td>\n      <td>0.0</td>\n      <td>0.0</td>\n      <td>1187</td>\n      <td>24.8</td>\n      <td>1.7</td>\n      <td>17.4</td>\n      <td>7.6</td>\n      <td>1.5</td>\n      <td>47.1</td>\n    </tr>\n    <tr>\n      <th>4</th>\n      <td>Blount County, Alabama</td>\n      <td>126.0</td>\n      <td>0.003596</td>\n      <td>99.0</td>\n      <td>0.272173</td>\n      <td>1161.0</td>\n      <td>0.367732</td>\n      <td>1319.0</td>\n      <td>0.221302</td>\n      <td>1094.0</td>\n      <td>...</td>\n      <td>0.7</td>\n      <td>0.0</td>\n      <td>0.2</td>\n      <td>3385</td>\n      <td>16.9</td>\n      <td>16.1</td>\n      <td>12.3</td>\n      <td>9.8</td>\n      <td>7.0</td>\n      <td>37.9</td>\n    </tr>\n  </tbody>\n</table>\n<p>5 rows × 77 columns</p>\n</div>"
     },
     "execution_count": 165,
     "metadata": {},
     "output_type": "execute_result"
    }
   ],
   "source": [
    "merged_house_df = normalized_house_built_year_df.merge(house_plumbing_df, on=\"Geographic Area Name\", how=\"inner\") \\\n",
    "                              .merge(house_price_df, on=\"Geographic Area Name\", how=\"inner\")\n",
    "\n",
    "\n",
    "merged_house_df.head()"
   ],
   "metadata": {
    "collapsed": false,
    "ExecuteTime": {
     "end_time": "2025-03-08T00:56:41.296109Z",
     "start_time": "2025-03-08T00:56:41.276708Z"
    }
   },
   "id": "d7c041729462a149",
   "execution_count": 165
  },
  {
   "cell_type": "code",
   "outputs": [
    {
     "data": {
      "text/plain": "(1904, 77)"
     },
     "execution_count": 166,
     "metadata": {},
     "output_type": "execute_result"
    }
   ],
   "source": [
    "merged_house_df.shape\n"
   ],
   "metadata": {
    "collapsed": false,
    "ExecuteTime": {
     "end_time": "2025-03-08T00:56:41.317351Z",
     "start_time": "2025-03-08T00:56:41.314042Z"
    }
   },
   "id": "f09ccf86507cebba",
   "execution_count": 166
  },
  {
   "cell_type": "markdown",
   "source": [
    "**Drop the margin of error_colums**"
   ],
   "metadata": {
    "collapsed": false
   },
   "id": "cd2c50529c966d49"
  },
  {
   "cell_type": "code",
   "outputs": [],
   "source": [
    "def drop_margin_of_error_columns(df):\n",
    "    return df.drop(columns=[col for col in df.columns if col.startswith(\"Margin of Error\")], errors='ignore')"
   ],
   "metadata": {
    "collapsed": false,
    "ExecuteTime": {
     "end_time": "2025-03-08T00:56:41.466434Z",
     "start_time": "2025-03-08T00:56:41.463756Z"
    }
   },
   "id": "71aa4a2f3b2a1882",
   "execution_count": 167
  },
  {
   "cell_type": "code",
   "outputs": [
    {
     "name": "stdout",
     "output_type": "stream",
     "text": [
      "<class 'pandas.core.frame.DataFrame'>\n",
      "RangeIndex: 1904 entries, 0 to 1903\n",
      "Data columns (total 70 columns):\n",
      " #   Column                                                                                                                                                                                           Non-Null Count  Dtype  \n",
      "---  ------                                                                                                                                                                                           --------------  -----  \n",
      " 0   Geographic Area Name                                                                                                                                                                             1904 non-null   object \n",
      " 1   Estimate!!Total:!!Built 2020 or later                                                                                                                                                            1903 non-null   float64\n",
      " 2   Estimate!!Total:!!Built 2000 to 2019                                                                                                                                                             1903 non-null   float64\n",
      " 3   Estimate!!Total:!!Built 1980 to 1999                                                                                                                                                             1903 non-null   float64\n",
      " 4   Estimate!!Total:!!Built 1960 to 1979                                                                                                                                                             1903 non-null   float64\n",
      " 5   Estimate!!Total:!!Built 1940 to 1959                                                                                                                                                             1903 non-null   float64\n",
      " 6   Estimate!!Total:!!Built 1939 or earlier                                                                                                                                                          1903 non-null   float64\n",
      " 7   Percent!!SELECTED CHARACTERISTICS!!Occupied housing units!!Lacking complete plumbing facilities                                                                                                  1904 non-null   float64\n",
      " 8   Percent Margin of Error!!SELECTED CHARACTERISTICS!!Occupied housing units!!Lacking complete plumbing facilities                                                                                  1904 non-null   float64\n",
      " 9   Percent!!SELECTED CHARACTERISTICS!!Occupied housing units!!Lacking complete kitchen facilities                                                                                                   1904 non-null   float64\n",
      " 10  Percent Margin of Error!!SELECTED CHARACTERISTICS!!Occupied housing units!!Lacking complete kitchen facilities                                                                                   1904 non-null   float64\n",
      " 11  Percent!!SELECTED CHARACTERISTICS!!Occupied housing units!!No telephone service available                                                                                                        1904 non-null   object \n",
      " 12  Percent Margin of Error!!SELECTED CHARACTERISTICS!!Occupied housing units!!No telephone service available                                                                                        1904 non-null   object \n",
      " 13  Estimate!!HOUSING OCCUPANCY!!Total housing units                                                                                                                                                 1904 non-null   int64  \n",
      " 14  Percent!!VALUE!!Owner-occupied units                                                                                                                                                             1904 non-null   int64  \n",
      " 15  Percent!!VALUE!!Owner-occupied units!!Less than $50,000                                                                                                                                          1904 non-null   object \n",
      " 16  Percent!!VALUE!!Owner-occupied units!!$50,000 to $99,999                                                                                                                                         1904 non-null   object \n",
      " 17  Percent!!VALUE!!Owner-occupied units!!$100,000 to $149,999                                                                                                                                       1904 non-null   object \n",
      " 18  Percent!!VALUE!!Owner-occupied units!!$150,000 to $199,999                                                                                                                                       1904 non-null   object \n",
      " 19  Percent!!VALUE!!Owner-occupied units!!$200,000 to $299,999                                                                                                                                       1904 non-null   object \n",
      " 20  Percent!!VALUE!!Owner-occupied units!!$300,000 to $499,999                                                                                                                                       1904 non-null   object \n",
      " 21  Percent!!VALUE!!Owner-occupied units!!$500,000 to $999,999                                                                                                                                       1904 non-null   object \n",
      " 22  Percent!!VALUE!!Owner-occupied units!!$1,000,000 or more                                                                                                                                         1904 non-null   object \n",
      " 23  Percent!!MORTGAGE STATUS!!Owner-occupied units                                                                                                                                                   1904 non-null   int64  \n",
      " 24  Percent!!MORTGAGE STATUS!!Owner-occupied units!!Housing units with a mortgage                                                                                                                    1904 non-null   object \n",
      " 25  Percent!!MORTGAGE STATUS!!Owner-occupied units!!Housing units without a mortgage                                                                                                                 1904 non-null   object \n",
      " 26  Percent!!SELECTED MONTHLY OWNER COSTS (SMOC)!!Housing units with a mortgage                                                                                                                      1904 non-null   int64  \n",
      " 27  Percent!!SELECTED MONTHLY OWNER COSTS (SMOC)!!Housing units with a mortgage!!Less than $500                                                                                                      1904 non-null   object \n",
      " 28  Percent!!SELECTED MONTHLY OWNER COSTS (SMOC)!!Housing units with a mortgage!!$500 to $999                                                                                                        1904 non-null   object \n",
      " 29  Percent!!SELECTED MONTHLY OWNER COSTS (SMOC)!!Housing units with a mortgage!!$1,000 to $1,499                                                                                                    1904 non-null   object \n",
      " 30  Percent!!SELECTED MONTHLY OWNER COSTS (SMOC)!!Housing units with a mortgage!!$1,500 to $1,999                                                                                                    1904 non-null   object \n",
      " 31  Percent!!SELECTED MONTHLY OWNER COSTS (SMOC)!!Housing units with a mortgage!!$2,000 to $2,499                                                                                                    1904 non-null   object \n",
      " 32  Percent!!SELECTED MONTHLY OWNER COSTS (SMOC)!!Housing units with a mortgage!!$2,500 to $2,999                                                                                                    1904 non-null   object \n",
      " 33  Percent!!SELECTED MONTHLY OWNER COSTS (SMOC)!!Housing units with a mortgage!!$3,000 or more                                                                                                      1904 non-null   object \n",
      " 34  Percent!!SELECTED MONTHLY OWNER COSTS (SMOC)!!Housing units without a mortgage                                                                                                                   1904 non-null   int64  \n",
      " 35  Percent!!SELECTED MONTHLY OWNER COSTS (SMOC)!!Housing units without a mortgage!!Less than $250                                                                                                   1904 non-null   object \n",
      " 36  Percent!!SELECTED MONTHLY OWNER COSTS (SMOC)!!Housing units without a mortgage!!$250 to $399                                                                                                     1904 non-null   object \n",
      " 37  Percent!!SELECTED MONTHLY OWNER COSTS (SMOC)!!Housing units without a mortgage!!$400 to $599                                                                                                     1904 non-null   object \n",
      " 38  Percent!!SELECTED MONTHLY OWNER COSTS (SMOC)!!Housing units without a mortgage!!$600 to $799                                                                                                     1904 non-null   object \n",
      " 39  Percent!!SELECTED MONTHLY OWNER COSTS (SMOC)!!Housing units without a mortgage!!$800 to $999                                                                                                     1904 non-null   object \n",
      " 40  Percent!!SELECTED MONTHLY OWNER COSTS (SMOC)!!Housing units without a mortgage!!$1,000 or more                                                                                                   1904 non-null   object \n",
      " 41  Percent!!SELECTED MONTHLY OWNER COSTS AS A PERCENTAGE OF HOUSEHOLD INCOME (SMOCAPI)!!Housing units with a mortgage (excluding units where SMOCAPI cannot be computed)                            1904 non-null   int64  \n",
      " 42  Percent!!SELECTED MONTHLY OWNER COSTS AS A PERCENTAGE OF HOUSEHOLD INCOME (SMOCAPI)!!Housing units with a mortgage (excluding units where SMOCAPI cannot be computed)!!Less than 20.0 percent    1904 non-null   object \n",
      " 43  Percent!!SELECTED MONTHLY OWNER COSTS AS A PERCENTAGE OF HOUSEHOLD INCOME (SMOCAPI)!!Housing units with a mortgage (excluding units where SMOCAPI cannot be computed)!!20.0 to 24.9 percent      1904 non-null   object \n",
      " 44  Percent!!SELECTED MONTHLY OWNER COSTS AS A PERCENTAGE OF HOUSEHOLD INCOME (SMOCAPI)!!Housing units with a mortgage (excluding units where SMOCAPI cannot be computed)!!25.0 to 29.9 percent      1904 non-null   object \n",
      " 45  Percent!!SELECTED MONTHLY OWNER COSTS AS A PERCENTAGE OF HOUSEHOLD INCOME (SMOCAPI)!!Housing units with a mortgage (excluding units where SMOCAPI cannot be computed)!!30.0 to 34.9 percent      1904 non-null   object \n",
      " 46  Percent!!SELECTED MONTHLY OWNER COSTS AS A PERCENTAGE OF HOUSEHOLD INCOME (SMOCAPI)!!Housing units with a mortgage (excluding units where SMOCAPI cannot be computed)!!35.0 percent or more      1904 non-null   object \n",
      " 47  Percent!!SELECTED MONTHLY OWNER COSTS AS A PERCENTAGE OF HOUSEHOLD INCOME (SMOCAPI)!!Housing unit without a mortgage (excluding units where SMOCAPI cannot be computed)                          1904 non-null   int64  \n",
      " 48  Percent!!SELECTED MONTHLY OWNER COSTS AS A PERCENTAGE OF HOUSEHOLD INCOME (SMOCAPI)!!Housing unit without a mortgage (excluding units where SMOCAPI cannot be computed)!!Less than 10.0 percent  1904 non-null   object \n",
      " 49  Percent!!SELECTED MONTHLY OWNER COSTS AS A PERCENTAGE OF HOUSEHOLD INCOME (SMOCAPI)!!Housing unit without a mortgage (excluding units where SMOCAPI cannot be computed)!!10.0 to 14.9 percent    1904 non-null   object \n",
      " 50  Percent!!SELECTED MONTHLY OWNER COSTS AS A PERCENTAGE OF HOUSEHOLD INCOME (SMOCAPI)!!Housing unit without a mortgage (excluding units where SMOCAPI cannot be computed)!!15.0 to 19.9 percent    1904 non-null   object \n",
      " 51  Percent!!SELECTED MONTHLY OWNER COSTS AS A PERCENTAGE OF HOUSEHOLD INCOME (SMOCAPI)!!Housing unit without a mortgage (excluding units where SMOCAPI cannot be computed)!!20.0 to 24.9 percent    1904 non-null   object \n",
      " 52  Percent!!SELECTED MONTHLY OWNER COSTS AS A PERCENTAGE OF HOUSEHOLD INCOME (SMOCAPI)!!Housing unit without a mortgage (excluding units where SMOCAPI cannot be computed)!!25.0 to 29.9 percent    1904 non-null   object \n",
      " 53  Percent!!SELECTED MONTHLY OWNER COSTS AS A PERCENTAGE OF HOUSEHOLD INCOME (SMOCAPI)!!Housing unit without a mortgage (excluding units where SMOCAPI cannot be computed)!!30.0 to 34.9 percent    1904 non-null   object \n",
      " 54  Percent!!SELECTED MONTHLY OWNER COSTS AS A PERCENTAGE OF HOUSEHOLD INCOME (SMOCAPI)!!Housing unit without a mortgage (excluding units where SMOCAPI cannot be computed)!!35.0 percent or more    1904 non-null   object \n",
      " 55  Percent!!GROSS RENT!!Occupied units paying rent                                                                                                                                                  1904 non-null   int64  \n",
      " 56  Percent!!GROSS RENT!!Occupied units paying rent!!Less than $500                                                                                                                                  1904 non-null   float64\n",
      " 57  Percent!!GROSS RENT!!Occupied units paying rent!!$500 to $999                                                                                                                                    1904 non-null   float64\n",
      " 58  Percent!!GROSS RENT!!Occupied units paying rent!!$1,000 to $1,499                                                                                                                                1904 non-null   float64\n",
      " 59  Percent!!GROSS RENT!!Occupied units paying rent!!$1,500 to $1,999                                                                                                                                1904 non-null   float64\n",
      " 60  Percent!!GROSS RENT!!Occupied units paying rent!!$2,000 to $2,499                                                                                                                                1904 non-null   float64\n",
      " 61  Percent!!GROSS RENT!!Occupied units paying rent!!$2,500 to $2,999                                                                                                                                1904 non-null   float64\n",
      " 62  Percent!!GROSS RENT!!Occupied units paying rent!!$3,000 or more                                                                                                                                  1904 non-null   float64\n",
      " 63  Percent!!GROSS RENT AS A PERCENTAGE OF HOUSEHOLD INCOME (GRAPI)!!Occupied units paying rent (excluding units where GRAPI cannot be computed)                                                     1904 non-null   int64  \n",
      " 64  Percent!!GROSS RENT AS A PERCENTAGE OF HOUSEHOLD INCOME (GRAPI)!!Occupied units paying rent (excluding units where GRAPI cannot be computed)!!Less than 15.0 percent                             1904 non-null   float64\n",
      " 65  Percent!!GROSS RENT AS A PERCENTAGE OF HOUSEHOLD INCOME (GRAPI)!!Occupied units paying rent (excluding units where GRAPI cannot be computed)!!15.0 to 19.9 percent                               1904 non-null   float64\n",
      " 66  Percent!!GROSS RENT AS A PERCENTAGE OF HOUSEHOLD INCOME (GRAPI)!!Occupied units paying rent (excluding units where GRAPI cannot be computed)!!20.0 to 24.9 percent                               1904 non-null   float64\n",
      " 67  Percent!!GROSS RENT AS A PERCENTAGE OF HOUSEHOLD INCOME (GRAPI)!!Occupied units paying rent (excluding units where GRAPI cannot be computed)!!25.0 to 29.9 percent                               1904 non-null   float64\n",
      " 68  Percent!!GROSS RENT AS A PERCENTAGE OF HOUSEHOLD INCOME (GRAPI)!!Occupied units paying rent (excluding units where GRAPI cannot be computed)!!30.0 to 34.9 percent                               1904 non-null   float64\n",
      " 69  Percent!!GROSS RENT AS A PERCENTAGE OF HOUSEHOLD INCOME (GRAPI)!!Occupied units paying rent (excluding units where GRAPI cannot be computed)!!35.0 percent or more                               1904 non-null   float64\n",
      "dtypes: float64(23), int64(9), object(38)\n",
      "memory usage: 1.0+ MB\n"
     ]
    }
   ],
   "source": [
    "cleaned_house_df = drop_margin_of_error_columns(merged_house_df)\n",
    "\n",
    "cleaned_house_df.info()"
   ],
   "metadata": {
    "collapsed": false,
    "ExecuteTime": {
     "end_time": "2025-03-08T00:56:41.564692Z",
     "start_time": "2025-03-08T00:56:41.554693Z"
    }
   },
   "id": "47dc08acd7c06cb2",
   "execution_count": 168
  },
  {
   "cell_type": "markdown",
   "source": [
    "### 2) Insurance"
   ],
   "metadata": {
    "collapsed": false
   },
   "id": "2b024f4a89aa5891"
  },
  {
   "cell_type": "code",
   "outputs": [
    {
     "name": "stdout",
     "output_type": "stream",
     "text": [
      "<class 'pandas.core.frame.DataFrame'>\n",
      "RangeIndex: 1905 entries, 0 to 1904\n",
      "Data columns (total 21 columns):\n",
      " #   Column                                                                       Non-Null Count  Dtype \n",
      "---  ------                                                                       --------------  ----- \n",
      " 0   Geographic Area Name                                                         1905 non-null   object\n",
      " 1   Estimate!!Total:                                                             1905 non-null   int64 \n",
      " 2   Margin of Error!!Total:                                                      1905 non-null   int64 \n",
      " 3   Estimate!!Total:!!Under 19 years:                                            1905 non-null   int64 \n",
      " 4   Margin of Error!!Total:!!Under 19 years:                                     1905 non-null   int64 \n",
      " 5   Estimate!!Total:!!Under 19 years:!!With health insurance coverage            1905 non-null   int64 \n",
      " 6   Margin of Error!!Total:!!Under 19 years:!!With health insurance coverage     1905 non-null   int64 \n",
      " 7   Estimate!!Total:!!Under 19 years:!!No health insurance coverage              1905 non-null   int64 \n",
      " 8   Margin of Error!!Total:!!Under 19 years:!!No health insurance coverage       1905 non-null   int64 \n",
      " 9   Estimate!!Total:!!19 to 64 years:                                            1905 non-null   int64 \n",
      " 10  Margin of Error!!Total:!!19 to 64 years:                                     1905 non-null   int64 \n",
      " 11  Estimate!!Total:!!19 to 64 years:!!With health insurance coverage            1905 non-null   int64 \n",
      " 12  Margin of Error!!Total:!!19 to 64 years:!!With health insurance coverage     1905 non-null   int64 \n",
      " 13  Estimate!!Total:!!19 to 64 years:!!No health insurance coverage              1905 non-null   int64 \n",
      " 14  Margin of Error!!Total:!!19 to 64 years:!!No health insurance coverage       1905 non-null   int64 \n",
      " 15  Estimate!!Total:!!65 years and over:                                         1905 non-null   int64 \n",
      " 16  Margin of Error!!Total:!!65 years and over:                                  1905 non-null   int64 \n",
      " 17  Estimate!!Total:!!65 years and over:!!With health insurance coverage         1905 non-null   int64 \n",
      " 18  Margin of Error!!Total:!!65 years and over:!!With health insurance coverage  1905 non-null   int64 \n",
      " 19  Estimate!!Total:!!65 years and over:!!No health insurance coverage           1905 non-null   int64 \n",
      " 20  Margin of Error!!Total:!!65 years and over:!!No health insurance coverage    1905 non-null   int64 \n",
      "dtypes: int64(20), object(1)\n",
      "memory usage: 312.7+ KB\n"
     ]
    }
   ],
   "source": [
    "insurance_df.info()"
   ],
   "metadata": {
    "collapsed": false,
    "ExecuteTime": {
     "end_time": "2025-03-08T00:56:41.602505Z",
     "start_time": "2025-03-08T00:56:41.597310Z"
    }
   },
   "id": "eced56cda05136d3",
   "execution_count": 169
  },
  {
   "cell_type": "code",
   "outputs": [
    {
     "data": {
      "text/plain": "      Geographic Area Name  Estimate!!Total:  Margin of Error!!Total:  \\\n0  Autauga County, Alabama             56855                     1194   \n1  Baldwin County, Alabama            235756                     2108   \n2  Barbour County, Alabama             21787                      946   \n3     Bibb County, Alabama             21544                     1444   \n4   Blount County, Alabama             58690                      266   \n\n   Estimate!!Total:!!Under 19 years:  \\\n0                              14580   \n1                              52496   \n2                               5563   \n3                               4365   \n4                              14112   \n\n   Margin of Error!!Total:!!Under 19 years:  \\\n0                                       770   \n1                                      1056   \n2                                       427   \n3                                       754   \n4                                       389   \n\n   Estimate!!Total:!!Under 19 years:!!With health insurance coverage  \\\n0                                              14169                   \n1                                              49496                   \n2                                               5548                   \n3                                               4232                   \n4                                              13838                   \n\n   Margin of Error!!Total:!!Under 19 years:!!With health insurance coverage  \\\n0                                                743                          \n1                                               1488                          \n2                                                445                          \n3                                                777                          \n4                                                488                          \n\n   Estimate!!Total:!!Under 19 years:!!No health insurance coverage  \\\n0                                                411                 \n1                                               3000                 \n2                                                 15                 \n3                                                133                 \n4                                                274                 \n\n   Margin of Error!!Total:!!Under 19 years:!!No health insurance coverage  \\\n0                                                333                        \n1                                               1270                        \n2                                                 38                        \n3                                                211                        \n4                                                248                        \n\n   Estimate!!Total:!!19 to 64 years:  ...  \\\n0                              33031  ...   \n1                             132966  ...   \n2                              11783  ...   \n3                              13170  ...   \n4                              34088  ...   \n\n   Estimate!!Total:!!19 to 64 years:!!With health insurance coverage  \\\n0                                              29728                   \n1                                             115945                   \n2                                              10368                   \n3                                              11940                   \n4                                              28940                   \n\n   Margin of Error!!Total:!!19 to 64 years:!!With health insurance coverage  \\\n0                                               1781                          \n1                                               3431                          \n2                                               1069                          \n3                                               1346                          \n4                                               1262                          \n\n   Estimate!!Total:!!19 to 64 years:!!No health insurance coverage  \\\n0                                               3303                 \n1                                              17021                 \n2                                               1415                 \n3                                               1230                 \n4                                               5148                 \n\n   Margin of Error!!Total:!!19 to 64 years:!!No health insurance coverage  \\\n0                                               1317                        \n1                                               2775                        \n2                                                651                        \n3                                                711                        \n4                                               1233                        \n\n   Estimate!!Total:!!65 years and over:  \\\n0                                  9244   \n1                                 50294   \n2                                  4441   \n3                                  4009   \n4                                 10490   \n\n   Margin of Error!!Total:!!65 years and over:  \\\n0                                          499   \n1                                         1384   \n2                                          449   \n3                                         1106   \n4                                          270   \n\n   Estimate!!Total:!!65 years and over:!!With health insurance coverage  \\\n0                                               9184                      \n1                                              49522                      \n2                                               4441                      \n3                                               4009                      \n4                                              10490                      \n\n   Margin of Error!!Total:!!65 years and over:!!With health insurance coverage  \\\n0                                                517                             \n1                                               1018                             \n2                                                449                             \n3                                               1106                             \n4                                                270                             \n\n   Estimate!!Total:!!65 years and over:!!No health insurance coverage  \\\n0                                                 60                    \n1                                                772                    \n2                                                  0                    \n3                                                  0                    \n4                                                  0                    \n\n   Margin of Error!!Total:!!65 years and over:!!No health insurance coverage  \n0                                                102                          \n1                                               1034                          \n2                                                216                          \n3                                                216                          \n4                                                216                          \n\n[5 rows x 21 columns]",
      "text/html": "<div>\n<style scoped>\n    .dataframe tbody tr th:only-of-type {\n        vertical-align: middle;\n    }\n\n    .dataframe tbody tr th {\n        vertical-align: top;\n    }\n\n    .dataframe thead th {\n        text-align: right;\n    }\n</style>\n<table border=\"1\" class=\"dataframe\">\n  <thead>\n    <tr style=\"text-align: right;\">\n      <th></th>\n      <th>Geographic Area Name</th>\n      <th>Estimate!!Total:</th>\n      <th>Margin of Error!!Total:</th>\n      <th>Estimate!!Total:!!Under 19 years:</th>\n      <th>Margin of Error!!Total:!!Under 19 years:</th>\n      <th>Estimate!!Total:!!Under 19 years:!!With health insurance coverage</th>\n      <th>Margin of Error!!Total:!!Under 19 years:!!With health insurance coverage</th>\n      <th>Estimate!!Total:!!Under 19 years:!!No health insurance coverage</th>\n      <th>Margin of Error!!Total:!!Under 19 years:!!No health insurance coverage</th>\n      <th>Estimate!!Total:!!19 to 64 years:</th>\n      <th>...</th>\n      <th>Estimate!!Total:!!19 to 64 years:!!With health insurance coverage</th>\n      <th>Margin of Error!!Total:!!19 to 64 years:!!With health insurance coverage</th>\n      <th>Estimate!!Total:!!19 to 64 years:!!No health insurance coverage</th>\n      <th>Margin of Error!!Total:!!19 to 64 years:!!No health insurance coverage</th>\n      <th>Estimate!!Total:!!65 years and over:</th>\n      <th>Margin of Error!!Total:!!65 years and over:</th>\n      <th>Estimate!!Total:!!65 years and over:!!With health insurance coverage</th>\n      <th>Margin of Error!!Total:!!65 years and over:!!With health insurance coverage</th>\n      <th>Estimate!!Total:!!65 years and over:!!No health insurance coverage</th>\n      <th>Margin of Error!!Total:!!65 years and over:!!No health insurance coverage</th>\n    </tr>\n  </thead>\n  <tbody>\n    <tr>\n      <th>0</th>\n      <td>Autauga County, Alabama</td>\n      <td>56855</td>\n      <td>1194</td>\n      <td>14580</td>\n      <td>770</td>\n      <td>14169</td>\n      <td>743</td>\n      <td>411</td>\n      <td>333</td>\n      <td>33031</td>\n      <td>...</td>\n      <td>29728</td>\n      <td>1781</td>\n      <td>3303</td>\n      <td>1317</td>\n      <td>9244</td>\n      <td>499</td>\n      <td>9184</td>\n      <td>517</td>\n      <td>60</td>\n      <td>102</td>\n    </tr>\n    <tr>\n      <th>1</th>\n      <td>Baldwin County, Alabama</td>\n      <td>235756</td>\n      <td>2108</td>\n      <td>52496</td>\n      <td>1056</td>\n      <td>49496</td>\n      <td>1488</td>\n      <td>3000</td>\n      <td>1270</td>\n      <td>132966</td>\n      <td>...</td>\n      <td>115945</td>\n      <td>3431</td>\n      <td>17021</td>\n      <td>2775</td>\n      <td>50294</td>\n      <td>1384</td>\n      <td>49522</td>\n      <td>1018</td>\n      <td>772</td>\n      <td>1034</td>\n    </tr>\n    <tr>\n      <th>2</th>\n      <td>Barbour County, Alabama</td>\n      <td>21787</td>\n      <td>946</td>\n      <td>5563</td>\n      <td>427</td>\n      <td>5548</td>\n      <td>445</td>\n      <td>15</td>\n      <td>38</td>\n      <td>11783</td>\n      <td>...</td>\n      <td>10368</td>\n      <td>1069</td>\n      <td>1415</td>\n      <td>651</td>\n      <td>4441</td>\n      <td>449</td>\n      <td>4441</td>\n      <td>449</td>\n      <td>0</td>\n      <td>216</td>\n    </tr>\n    <tr>\n      <th>3</th>\n      <td>Bibb County, Alabama</td>\n      <td>21544</td>\n      <td>1444</td>\n      <td>4365</td>\n      <td>754</td>\n      <td>4232</td>\n      <td>777</td>\n      <td>133</td>\n      <td>211</td>\n      <td>13170</td>\n      <td>...</td>\n      <td>11940</td>\n      <td>1346</td>\n      <td>1230</td>\n      <td>711</td>\n      <td>4009</td>\n      <td>1106</td>\n      <td>4009</td>\n      <td>1106</td>\n      <td>0</td>\n      <td>216</td>\n    </tr>\n    <tr>\n      <th>4</th>\n      <td>Blount County, Alabama</td>\n      <td>58690</td>\n      <td>266</td>\n      <td>14112</td>\n      <td>389</td>\n      <td>13838</td>\n      <td>488</td>\n      <td>274</td>\n      <td>248</td>\n      <td>34088</td>\n      <td>...</td>\n      <td>28940</td>\n      <td>1262</td>\n      <td>5148</td>\n      <td>1233</td>\n      <td>10490</td>\n      <td>270</td>\n      <td>10490</td>\n      <td>270</td>\n      <td>0</td>\n      <td>216</td>\n    </tr>\n  </tbody>\n</table>\n<p>5 rows × 21 columns</p>\n</div>"
     },
     "execution_count": 170,
     "metadata": {},
     "output_type": "execute_result"
    }
   ],
   "source": [
    "insurance_df.head()"
   ],
   "metadata": {
    "collapsed": false,
    "ExecuteTime": {
     "end_time": "2025-03-08T00:56:41.671199Z",
     "start_time": "2025-03-08T00:56:41.664931Z"
    }
   },
   "id": "b16f7dc7da0d364b",
   "execution_count": 170
  },
  {
   "cell_type": "markdown",
   "source": [
    "**Clean the column name**\n"
   ],
   "metadata": {
    "collapsed": false
   },
   "id": "5ec8d2ba7cb3fddd"
  },
  {
   "cell_type": "code",
   "outputs": [],
   "source": [
    "insurance_df.columns = insurance_df.columns.str.strip()"
   ],
   "metadata": {
    "collapsed": false,
    "ExecuteTime": {
     "end_time": "2025-03-08T00:56:41.681497Z",
     "start_time": "2025-03-08T00:56:41.678809Z"
    }
   },
   "id": "3874f10b17374b7f",
   "execution_count": 171
  },
  {
   "cell_type": "markdown",
   "source": [
    "**Drop the margin of error**"
   ],
   "metadata": {
    "collapsed": false
   },
   "id": "a3963e74f51a4a65"
  },
  {
   "cell_type": "code",
   "outputs": [
    {
     "name": "stdout",
     "output_type": "stream",
     "text": [
      "<class 'pandas.core.frame.DataFrame'>\n",
      "RangeIndex: 1905 entries, 0 to 1904\n",
      "Data columns (total 11 columns):\n",
      " #   Column                                                                Non-Null Count  Dtype \n",
      "---  ------                                                                --------------  ----- \n",
      " 0   Geographic Area Name                                                  1905 non-null   object\n",
      " 1   Estimate!!Total:                                                      1905 non-null   int64 \n",
      " 2   Estimate!!Total:!!Under 19 years:                                     1905 non-null   int64 \n",
      " 3   Estimate!!Total:!!Under 19 years:!!With health insurance coverage     1905 non-null   int64 \n",
      " 4   Estimate!!Total:!!Under 19 years:!!No health insurance coverage       1905 non-null   int64 \n",
      " 5   Estimate!!Total:!!19 to 64 years:                                     1905 non-null   int64 \n",
      " 6   Estimate!!Total:!!19 to 64 years:!!With health insurance coverage     1905 non-null   int64 \n",
      " 7   Estimate!!Total:!!19 to 64 years:!!No health insurance coverage       1905 non-null   int64 \n",
      " 8   Estimate!!Total:!!65 years and over:                                  1905 non-null   int64 \n",
      " 9   Estimate!!Total:!!65 years and over:!!With health insurance coverage  1905 non-null   int64 \n",
      " 10  Estimate!!Total:!!65 years and over:!!No health insurance coverage    1905 non-null   int64 \n",
      "dtypes: int64(10), object(1)\n",
      "memory usage: 163.8+ KB\n"
     ]
    }
   ],
   "source": [
    "insurance_cleaned_df = drop_margin_of_error_columns(insurance_df)\n",
    "insurance_cleaned_df.info()"
   ],
   "metadata": {
    "collapsed": false,
    "ExecuteTime": {
     "end_time": "2025-03-08T00:56:41.700090Z",
     "start_time": "2025-03-08T00:56:41.694914Z"
    }
   },
   "id": "658c2b7a6c74b334",
   "execution_count": 172
  },
  {
   "cell_type": "markdown",
   "source": [
    "**Normalize the data**\n"
   ],
   "metadata": {
    "collapsed": false
   },
   "id": "c7cc92f0d71c7f4c"
  },
  {
   "cell_type": "code",
   "outputs": [],
   "source": [
    "cleaned_insurance_df = normalize_df(insurance_cleaned_df)"
   ],
   "metadata": {
    "collapsed": false,
    "ExecuteTime": {
     "end_time": "2025-03-08T00:56:41.748916Z",
     "start_time": "2025-03-08T00:56:41.743798Z"
    }
   },
   "id": "fe4262022f2c09ff",
   "execution_count": 173
  },
  {
   "cell_type": "code",
   "outputs": [
    {
     "data": {
      "text/plain": "      Geographic Area Name  Estimate!!Total:!!Under 19 years:  \\\n0  Autauga County, Alabama                           0.256442   \n1  Baldwin County, Alabama                           0.222671   \n2  Barbour County, Alabama                           0.255336   \n3     Bibb County, Alabama                           0.202609   \n4   Blount County, Alabama                           0.240450   \n\n   Estimate!!Total:!!Under 19 years:!!With health insurance coverage  \\\n0                                           0.249213                   \n1                                           0.209946                   \n2                                           0.254647                   \n3                                           0.196435                   \n4                                           0.235781                   \n\n   Estimate!!Total:!!Under 19 years:!!No health insurance coverage  \\\n0                                           0.007229                 \n1                                           0.012725                 \n2                                           0.000688                 \n3                                           0.006173                 \n4                                           0.004669                 \n\n   Estimate!!Total:!!19 to 64 years:  \\\n0                           0.580969   \n1                           0.563998   \n2                           0.540827   \n3                           0.611307   \n4                           0.580814   \n\n   Estimate!!Total:!!19 to 64 years:!!With health insurance coverage  \\\n0                                           0.522874                   \n1                                           0.491801                   \n2                                           0.475880                   \n3                                           0.554215                   \n4                                           0.493099                   \n\n   Estimate!!Total:!!19 to 64 years:!!No health insurance coverage  \\\n0                                           0.058095                 \n1                                           0.072198                 \n2                                           0.064947                 \n3                                           0.057092                 \n4                                           0.087715                 \n\n   Estimate!!Total:!!65 years and over:  \\\n0                              0.162589   \n1                              0.213331   \n2                              0.203837   \n3                              0.186084   \n4                              0.178736   \n\n   Estimate!!Total:!!65 years and over:!!With health insurance coverage  \\\n0                                           0.161534                      \n1                                           0.210056                      \n2                                           0.203837                      \n3                                           0.186084                      \n4                                           0.178736                      \n\n   Estimate!!Total:!!65 years and over:!!No health insurance coverage  \n0                                           0.001055                   \n1                                           0.003275                   \n2                                           0.000000                   \n3                                           0.000000                   \n4                                           0.000000                   ",
      "text/html": "<div>\n<style scoped>\n    .dataframe tbody tr th:only-of-type {\n        vertical-align: middle;\n    }\n\n    .dataframe tbody tr th {\n        vertical-align: top;\n    }\n\n    .dataframe thead th {\n        text-align: right;\n    }\n</style>\n<table border=\"1\" class=\"dataframe\">\n  <thead>\n    <tr style=\"text-align: right;\">\n      <th></th>\n      <th>Geographic Area Name</th>\n      <th>Estimate!!Total:!!Under 19 years:</th>\n      <th>Estimate!!Total:!!Under 19 years:!!With health insurance coverage</th>\n      <th>Estimate!!Total:!!Under 19 years:!!No health insurance coverage</th>\n      <th>Estimate!!Total:!!19 to 64 years:</th>\n      <th>Estimate!!Total:!!19 to 64 years:!!With health insurance coverage</th>\n      <th>Estimate!!Total:!!19 to 64 years:!!No health insurance coverage</th>\n      <th>Estimate!!Total:!!65 years and over:</th>\n      <th>Estimate!!Total:!!65 years and over:!!With health insurance coverage</th>\n      <th>Estimate!!Total:!!65 years and over:!!No health insurance coverage</th>\n    </tr>\n  </thead>\n  <tbody>\n    <tr>\n      <th>0</th>\n      <td>Autauga County, Alabama</td>\n      <td>0.256442</td>\n      <td>0.249213</td>\n      <td>0.007229</td>\n      <td>0.580969</td>\n      <td>0.522874</td>\n      <td>0.058095</td>\n      <td>0.162589</td>\n      <td>0.161534</td>\n      <td>0.001055</td>\n    </tr>\n    <tr>\n      <th>1</th>\n      <td>Baldwin County, Alabama</td>\n      <td>0.222671</td>\n      <td>0.209946</td>\n      <td>0.012725</td>\n      <td>0.563998</td>\n      <td>0.491801</td>\n      <td>0.072198</td>\n      <td>0.213331</td>\n      <td>0.210056</td>\n      <td>0.003275</td>\n    </tr>\n    <tr>\n      <th>2</th>\n      <td>Barbour County, Alabama</td>\n      <td>0.255336</td>\n      <td>0.254647</td>\n      <td>0.000688</td>\n      <td>0.540827</td>\n      <td>0.475880</td>\n      <td>0.064947</td>\n      <td>0.203837</td>\n      <td>0.203837</td>\n      <td>0.000000</td>\n    </tr>\n    <tr>\n      <th>3</th>\n      <td>Bibb County, Alabama</td>\n      <td>0.202609</td>\n      <td>0.196435</td>\n      <td>0.006173</td>\n      <td>0.611307</td>\n      <td>0.554215</td>\n      <td>0.057092</td>\n      <td>0.186084</td>\n      <td>0.186084</td>\n      <td>0.000000</td>\n    </tr>\n    <tr>\n      <th>4</th>\n      <td>Blount County, Alabama</td>\n      <td>0.240450</td>\n      <td>0.235781</td>\n      <td>0.004669</td>\n      <td>0.580814</td>\n      <td>0.493099</td>\n      <td>0.087715</td>\n      <td>0.178736</td>\n      <td>0.178736</td>\n      <td>0.000000</td>\n    </tr>\n  </tbody>\n</table>\n</div>"
     },
     "execution_count": 174,
     "metadata": {},
     "output_type": "execute_result"
    }
   ],
   "source": [
    "cleaned_insurance_df.head()"
   ],
   "metadata": {
    "collapsed": false,
    "ExecuteTime": {
     "end_time": "2025-03-08T00:56:41.769361Z",
     "start_time": "2025-03-08T00:56:41.763855Z"
    }
   },
   "id": "9865a7f6701d7efd",
   "execution_count": 174
  },
  {
   "cell_type": "markdown",
   "source": [
    "### 3) Child poverty"
   ],
   "metadata": {
    "collapsed": false
   },
   "id": "869b1ed28f41b0bf"
  },
  {
   "cell_type": "code",
   "outputs": [
    {
     "name": "stdout",
     "output_type": "stream",
     "text": [
      "<class 'pandas.core.frame.DataFrame'>\n",
      "RangeIndex: 1904 entries, 0 to 1903\n",
      "Data columns (total 19 columns):\n",
      " #   Column                                                                                               Non-Null Count  Dtype \n",
      "---  ------                                                                                               --------------  ----- \n",
      " 0   Geographic Area Name                                                                                 1904 non-null   object\n",
      " 1   Estimate!!Total:                                                                                     1904 non-null   int64 \n",
      " 2   Margin of Error!!Total:                                                                              1904 non-null   int64 \n",
      " 3   Estimate!!Total:!!Income in the past 12 months below poverty level:                                  1904 non-null   int64 \n",
      " 4   Margin of Error!!Total:!!Income in the past 12 months below poverty level:                           1904 non-null   int64 \n",
      " 5   Estimate!!Total:!!Income in the past 12 months below poverty level:!!Under 18 years                  1904 non-null   int64 \n",
      " 6   Margin of Error!!Total:!!Income in the past 12 months below poverty level:!!Under 18 years           1904 non-null   int64 \n",
      " 7   Estimate!!Total:!!Income in the past 12 months below poverty level:!!18 to 64 years                  1904 non-null   int64 \n",
      " 8   Margin of Error!!Total:!!Income in the past 12 months below poverty level:!!18 to 64 years           1904 non-null   int64 \n",
      " 9   Estimate!!Total:!!Income in the past 12 months below poverty level:!!65 years and over               1904 non-null   int64 \n",
      " 10  Margin of Error!!Total:!!Income in the past 12 months below poverty level:!!65 years and over        1904 non-null   int64 \n",
      " 11  Estimate!!Total:!!Income in the past 12 months at or above poverty level:                            1904 non-null   int64 \n",
      " 12  Margin of Error!!Total:!!Income in the past 12 months at or above poverty level:                     1904 non-null   int64 \n",
      " 13  Estimate!!Total:!!Income in the past 12 months at or above poverty level:!!Under 18 years            1904 non-null   int64 \n",
      " 14  Margin of Error!!Total:!!Income in the past 12 months at or above poverty level:!!Under 18 years     1904 non-null   int64 \n",
      " 15  Estimate!!Total:!!Income in the past 12 months at or above poverty level:!!18 to 64 years            1904 non-null   int64 \n",
      " 16  Margin of Error!!Total:!!Income in the past 12 months at or above poverty level:!!18 to 64 years     1904 non-null   int64 \n",
      " 17  Estimate!!Total:!!Income in the past 12 months at or above poverty level:!!65 years and over         1904 non-null   int64 \n",
      " 18  Margin of Error!!Total:!!Income in the past 12 months at or above poverty level:!!65 years and over  1904 non-null   int64 \n",
      "dtypes: int64(18), object(1)\n",
      "memory usage: 282.8+ KB\n"
     ]
    }
   ],
   "source": [
    "poverty_df.info()"
   ],
   "metadata": {
    "collapsed": false,
    "ExecuteTime": {
     "end_time": "2025-03-08T00:56:41.849611Z",
     "start_time": "2025-03-08T00:56:41.842869Z"
    }
   },
   "id": "1479d8bc56b99646",
   "execution_count": 175
  },
  {
   "cell_type": "code",
   "outputs": [
    {
     "data": {
      "text/plain": "      Geographic Area Name  \\\n0  Autauga County, Alabama   \n1  Baldwin County, Alabama   \n2  Barbour County, Alabama   \n3     Bibb County, Alabama   \n4   Blount County, Alabama   \n\n   Estimate!!Total:!!Income in the past 12 months below poverty level:  \\\n0                                           0.062251                     \n1                                           0.107568                     \n2                                           0.120990                     \n3                                           0.203955                     \n4                                           0.100099                     \n\n   Estimate!!Total:!!Income in the past 12 months below poverty level:!!Under 18 years  \\\n0                                           0.013788                                     \n1                                           0.036675                                     \n2                                           0.035159                                     \n3                                           0.088238                                     \n4                                           0.024665                                     \n\n   Estimate!!Total:!!Income in the past 12 months below poverty level:!!18 to 64 years  \\\n0                                           0.042303                                     \n1                                           0.059861                                     \n2                                           0.069537                                     \n3                                           0.112653                                     \n4                                           0.061071                                     \n\n   Estimate!!Total:!!Income in the past 12 months below poverty level:!!65 years and over  \\\n0                                           0.006160                                        \n1                                           0.011033                                        \n2                                           0.016294                                        \n3                                           0.003063                                        \n4                                           0.014364                                        \n\n   Estimate!!Total:!!Income in the past 12 months at or above poverty level:  \\\n0                                           0.937749                           \n1                                           0.892432                           \n2                                           0.879010                           \n3                                           0.796045                           \n4                                           0.899901                           \n\n   Estimate!!Total:!!Income in the past 12 months at or above poverty level:!!Under 18 years  \\\n0                                           0.218426                                           \n1                                           0.174124                                           \n2                                           0.200303                                           \n3                                           0.111586                                           \n4                                           0.202324                                           \n\n   Estimate!!Total:!!Income in the past 12 months at or above poverty level:!!18 to 64 years  \\\n0                                           0.567738                                           \n1                                           0.515682                                           \n2                                           0.491164                                           \n3                                           0.501439                                           \n4                                           0.532138                                           \n\n   Estimate!!Total:!!Income in the past 12 months at or above poverty level:!!65 years and over  \n0                                           0.151584                                             \n1                                           0.202625                                             \n2                                           0.187543                                             \n3                                           0.183021                                             \n4                                           0.165438                                             ",
      "text/html": "<div>\n<style scoped>\n    .dataframe tbody tr th:only-of-type {\n        vertical-align: middle;\n    }\n\n    .dataframe tbody tr th {\n        vertical-align: top;\n    }\n\n    .dataframe thead th {\n        text-align: right;\n    }\n</style>\n<table border=\"1\" class=\"dataframe\">\n  <thead>\n    <tr style=\"text-align: right;\">\n      <th></th>\n      <th>Geographic Area Name</th>\n      <th>Estimate!!Total:!!Income in the past 12 months below poverty level:</th>\n      <th>Estimate!!Total:!!Income in the past 12 months below poverty level:!!Under 18 years</th>\n      <th>Estimate!!Total:!!Income in the past 12 months below poverty level:!!18 to 64 years</th>\n      <th>Estimate!!Total:!!Income in the past 12 months below poverty level:!!65 years and over</th>\n      <th>Estimate!!Total:!!Income in the past 12 months at or above poverty level:</th>\n      <th>Estimate!!Total:!!Income in the past 12 months at or above poverty level:!!Under 18 years</th>\n      <th>Estimate!!Total:!!Income in the past 12 months at or above poverty level:!!18 to 64 years</th>\n      <th>Estimate!!Total:!!Income in the past 12 months at or above poverty level:!!65 years and over</th>\n    </tr>\n  </thead>\n  <tbody>\n    <tr>\n      <th>0</th>\n      <td>Autauga County, Alabama</td>\n      <td>0.062251</td>\n      <td>0.013788</td>\n      <td>0.042303</td>\n      <td>0.006160</td>\n      <td>0.937749</td>\n      <td>0.218426</td>\n      <td>0.567738</td>\n      <td>0.151584</td>\n    </tr>\n    <tr>\n      <th>1</th>\n      <td>Baldwin County, Alabama</td>\n      <td>0.107568</td>\n      <td>0.036675</td>\n      <td>0.059861</td>\n      <td>0.011033</td>\n      <td>0.892432</td>\n      <td>0.174124</td>\n      <td>0.515682</td>\n      <td>0.202625</td>\n    </tr>\n    <tr>\n      <th>2</th>\n      <td>Barbour County, Alabama</td>\n      <td>0.120990</td>\n      <td>0.035159</td>\n      <td>0.069537</td>\n      <td>0.016294</td>\n      <td>0.879010</td>\n      <td>0.200303</td>\n      <td>0.491164</td>\n      <td>0.187543</td>\n    </tr>\n    <tr>\n      <th>3</th>\n      <td>Bibb County, Alabama</td>\n      <td>0.203955</td>\n      <td>0.088238</td>\n      <td>0.112653</td>\n      <td>0.003063</td>\n      <td>0.796045</td>\n      <td>0.111586</td>\n      <td>0.501439</td>\n      <td>0.183021</td>\n    </tr>\n    <tr>\n      <th>4</th>\n      <td>Blount County, Alabama</td>\n      <td>0.100099</td>\n      <td>0.024665</td>\n      <td>0.061071</td>\n      <td>0.014364</td>\n      <td>0.899901</td>\n      <td>0.202324</td>\n      <td>0.532138</td>\n      <td>0.165438</td>\n    </tr>\n  </tbody>\n</table>\n</div>"
     },
     "execution_count": 176,
     "metadata": {},
     "output_type": "execute_result"
    }
   ],
   "source": [
    "poverty_df.columns =  poverty_df.columns.str.strip()\n",
    "\n",
    "# drop the margin error\n",
    "poverty_df = drop_margin_of_error_columns(poverty_df)\n",
    "\n",
    "# normalize\n",
    "cleaned_poverty_df = normalize_df(poverty_df)\n",
    "\n",
    "cleaned_poverty_df.head()"
   ],
   "metadata": {
    "collapsed": false,
    "ExecuteTime": {
     "end_time": "2025-03-08T00:56:41.870169Z",
     "start_time": "2025-03-08T00:56:41.860136Z"
    }
   },
   "id": "34251acf40161cd",
   "execution_count": 176
  },
  {
   "cell_type": "markdown",
   "source": [
    "### 4) Housing insecurity(rented vs owned)\n"
   ],
   "metadata": {
    "collapsed": false
   },
   "id": "994ec3a9d3ee04b4"
  },
  {
   "cell_type": "code",
   "outputs": [
    {
     "data": {
      "text/plain": "          Label (Grouping)  Total: Total:!!Owner occupied  \\\n0  Baldwin County, Alabama     NaN                    NaN   \n1                 Estimate  94,105                 71,380   \n2  Calhoun County, Alabama     NaN                    NaN   \n3                 Estimate  44,631                 32,470   \n4  Cullman County, Alabama     NaN                    NaN   \n\n  Total:!!Renter occupied  \n0                     NaN  \n1                  22,725  \n2                     NaN  \n3                  12,161  \n4                     NaN  ",
      "text/html": "<div>\n<style scoped>\n    .dataframe tbody tr th:only-of-type {\n        vertical-align: middle;\n    }\n\n    .dataframe tbody tr th {\n        vertical-align: top;\n    }\n\n    .dataframe thead th {\n        text-align: right;\n    }\n</style>\n<table border=\"1\" class=\"dataframe\">\n  <thead>\n    <tr style=\"text-align: right;\">\n      <th></th>\n      <th>Label (Grouping)</th>\n      <th>Total:</th>\n      <th>Total:!!Owner occupied</th>\n      <th>Total:!!Renter occupied</th>\n    </tr>\n  </thead>\n  <tbody>\n    <tr>\n      <th>0</th>\n      <td>Baldwin County, Alabama</td>\n      <td>NaN</td>\n      <td>NaN</td>\n      <td>NaN</td>\n    </tr>\n    <tr>\n      <th>1</th>\n      <td>Estimate</td>\n      <td>94,105</td>\n      <td>71,380</td>\n      <td>22,725</td>\n    </tr>\n    <tr>\n      <th>2</th>\n      <td>Calhoun County, Alabama</td>\n      <td>NaN</td>\n      <td>NaN</td>\n      <td>NaN</td>\n    </tr>\n    <tr>\n      <th>3</th>\n      <td>Estimate</td>\n      <td>44,631</td>\n      <td>32,470</td>\n      <td>12,161</td>\n    </tr>\n    <tr>\n      <th>4</th>\n      <td>Cullman County, Alabama</td>\n      <td>NaN</td>\n      <td>NaN</td>\n      <td>NaN</td>\n    </tr>\n  </tbody>\n</table>\n</div>"
     },
     "execution_count": 177,
     "metadata": {},
     "output_type": "execute_result"
    }
   ],
   "source": [
    "insecurity_df.head()"
   ],
   "metadata": {
    "collapsed": false,
    "ExecuteTime": {
     "end_time": "2025-03-08T00:56:41.878230Z",
     "start_time": "2025-03-08T00:56:41.873620Z"
    }
   },
   "id": "fc72c4a58e50cd",
   "execution_count": 177
  },
  {
   "cell_type": "markdown",
   "source": [
    "- Data stored in Estimate label, we need to match the couty name and data."
   ],
   "metadata": {
    "collapsed": false
   },
   "id": "ea32571e215f32f6"
  },
  {
   "cell_type": "code",
   "outputs": [
    {
     "name": "stderr",
     "output_type": "stream",
     "text": [
      "/var/folders/6z/x70pqn912y166ykwnf1ltz2m0000gn/T/ipykernel_30947/2269270540.py:2: FutureWarning: DataFrame.fillna with 'method' is deprecated and will raise in a future version. Use obj.ffill() or obj.bfill() instead.\n",
      "  insecurity_fillna_df = insecurity_df.fillna(method=\"bfill\")\n"
     ]
    }
   ],
   "source": [
    "insecurity_df.columns = insecurity_df.columns.str.strip()\n",
    "insecurity_fillna_df = insecurity_df.fillna(method=\"bfill\")"
   ],
   "metadata": {
    "collapsed": false,
    "ExecuteTime": {
     "end_time": "2025-03-08T00:56:41.928740Z",
     "start_time": "2025-03-08T00:56:41.924017Z"
    }
   },
   "id": "dcbb8fb71884fb5d",
   "execution_count": 178
  },
  {
   "cell_type": "code",
   "outputs": [
    {
     "data": {
      "text/plain": "          Label (Grouping)  Total: Total:!!Owner occupied  \\\n0  Baldwin County, Alabama  94,105                 71,380   \n1                 Estimate  94,105                 71,380   \n2  Calhoun County, Alabama  44,631                 32,470   \n3                 Estimate  44,631                 32,470   \n4  Cullman County, Alabama  35,131                 26,688   \n\n  Total:!!Renter occupied  \n0                  22,725  \n1                  22,725  \n2                  12,161  \n3                  12,161  \n4                   8,443  ",
      "text/html": "<div>\n<style scoped>\n    .dataframe tbody tr th:only-of-type {\n        vertical-align: middle;\n    }\n\n    .dataframe tbody tr th {\n        vertical-align: top;\n    }\n\n    .dataframe thead th {\n        text-align: right;\n    }\n</style>\n<table border=\"1\" class=\"dataframe\">\n  <thead>\n    <tr style=\"text-align: right;\">\n      <th></th>\n      <th>Label (Grouping)</th>\n      <th>Total:</th>\n      <th>Total:!!Owner occupied</th>\n      <th>Total:!!Renter occupied</th>\n    </tr>\n  </thead>\n  <tbody>\n    <tr>\n      <th>0</th>\n      <td>Baldwin County, Alabama</td>\n      <td>94,105</td>\n      <td>71,380</td>\n      <td>22,725</td>\n    </tr>\n    <tr>\n      <th>1</th>\n      <td>Estimate</td>\n      <td>94,105</td>\n      <td>71,380</td>\n      <td>22,725</td>\n    </tr>\n    <tr>\n      <th>2</th>\n      <td>Calhoun County, Alabama</td>\n      <td>44,631</td>\n      <td>32,470</td>\n      <td>12,161</td>\n    </tr>\n    <tr>\n      <th>3</th>\n      <td>Estimate</td>\n      <td>44,631</td>\n      <td>32,470</td>\n      <td>12,161</td>\n    </tr>\n    <tr>\n      <th>4</th>\n      <td>Cullman County, Alabama</td>\n      <td>35,131</td>\n      <td>26,688</td>\n      <td>8,443</td>\n    </tr>\n  </tbody>\n</table>\n</div>"
     },
     "execution_count": 179,
     "metadata": {},
     "output_type": "execute_result"
    }
   ],
   "source": [
    " insecurity_fillna_df.head()"
   ],
   "metadata": {
    "collapsed": false,
    "ExecuteTime": {
     "end_time": "2025-03-08T00:56:41.991577Z",
     "start_time": "2025-03-08T00:56:41.987347Z"
    }
   },
   "id": "3043fd5e7ae0f81e",
   "execution_count": 179
  },
  {
   "cell_type": "code",
   "outputs": [
    {
     "data": {
      "text/plain": "                     Label (Grouping)   Total: Total:!!Owner occupied  \\\n1675                         Estimate  135,865                 70,013   \n1676  Toa Alta Municipio, Puerto Rico   20,918                 17,421   \n1677                         Estimate   20,918                 17,421   \n1678  Toa Baja Municipio, Puerto Rico   28,276                 20,613   \n1679                         Estimate   28,276                 20,613   \n\n     Total:!!Renter occupied  \n1675                  65,852  \n1676                   3,497  \n1677                   3,497  \n1678                   7,663  \n1679                   7,663  ",
      "text/html": "<div>\n<style scoped>\n    .dataframe tbody tr th:only-of-type {\n        vertical-align: middle;\n    }\n\n    .dataframe tbody tr th {\n        vertical-align: top;\n    }\n\n    .dataframe thead th {\n        text-align: right;\n    }\n</style>\n<table border=\"1\" class=\"dataframe\">\n  <thead>\n    <tr style=\"text-align: right;\">\n      <th></th>\n      <th>Label (Grouping)</th>\n      <th>Total:</th>\n      <th>Total:!!Owner occupied</th>\n      <th>Total:!!Renter occupied</th>\n    </tr>\n  </thead>\n  <tbody>\n    <tr>\n      <th>1675</th>\n      <td>Estimate</td>\n      <td>135,865</td>\n      <td>70,013</td>\n      <td>65,852</td>\n    </tr>\n    <tr>\n      <th>1676</th>\n      <td>Toa Alta Municipio, Puerto Rico</td>\n      <td>20,918</td>\n      <td>17,421</td>\n      <td>3,497</td>\n    </tr>\n    <tr>\n      <th>1677</th>\n      <td>Estimate</td>\n      <td>20,918</td>\n      <td>17,421</td>\n      <td>3,497</td>\n    </tr>\n    <tr>\n      <th>1678</th>\n      <td>Toa Baja Municipio, Puerto Rico</td>\n      <td>28,276</td>\n      <td>20,613</td>\n      <td>7,663</td>\n    </tr>\n    <tr>\n      <th>1679</th>\n      <td>Estimate</td>\n      <td>28,276</td>\n      <td>20,613</td>\n      <td>7,663</td>\n    </tr>\n  </tbody>\n</table>\n</div>"
     },
     "execution_count": 180,
     "metadata": {},
     "output_type": "execute_result"
    }
   ],
   "source": [
    "insecurity_fillna_df.tail()"
   ],
   "metadata": {
    "collapsed": false,
    "ExecuteTime": {
     "end_time": "2025-03-08T00:56:42.046348Z",
     "start_time": "2025-03-08T00:56:42.041970Z"
    }
   },
   "id": "e75c188e5ea7bbef",
   "execution_count": 180
  },
  {
   "cell_type": "code",
   "outputs": [
    {
     "data": {
      "text/plain": "      Geographic Area Name  Total: Total:!!Owner occupied  \\\n0  Baldwin County, Alabama  94,105                 71,380   \n2  Calhoun County, Alabama  44,631                 32,470   \n4  Cullman County, Alabama  35,131                 26,688   \n6   DeKalb County, Alabama  24,979                 19,663   \n8   Elmore County, Alabama  32,108                 22,990   \n\n  Total:!!Renter occupied  \n0                  22,725  \n2                  12,161  \n4                   8,443  \n6                   5,316  \n8                   9,118  ",
      "text/html": "<div>\n<style scoped>\n    .dataframe tbody tr th:only-of-type {\n        vertical-align: middle;\n    }\n\n    .dataframe tbody tr th {\n        vertical-align: top;\n    }\n\n    .dataframe thead th {\n        text-align: right;\n    }\n</style>\n<table border=\"1\" class=\"dataframe\">\n  <thead>\n    <tr style=\"text-align: right;\">\n      <th></th>\n      <th>Geographic Area Name</th>\n      <th>Total:</th>\n      <th>Total:!!Owner occupied</th>\n      <th>Total:!!Renter occupied</th>\n    </tr>\n  </thead>\n  <tbody>\n    <tr>\n      <th>0</th>\n      <td>Baldwin County, Alabama</td>\n      <td>94,105</td>\n      <td>71,380</td>\n      <td>22,725</td>\n    </tr>\n    <tr>\n      <th>2</th>\n      <td>Calhoun County, Alabama</td>\n      <td>44,631</td>\n      <td>32,470</td>\n      <td>12,161</td>\n    </tr>\n    <tr>\n      <th>4</th>\n      <td>Cullman County, Alabama</td>\n      <td>35,131</td>\n      <td>26,688</td>\n      <td>8,443</td>\n    </tr>\n    <tr>\n      <th>6</th>\n      <td>DeKalb County, Alabama</td>\n      <td>24,979</td>\n      <td>19,663</td>\n      <td>5,316</td>\n    </tr>\n    <tr>\n      <th>8</th>\n      <td>Elmore County, Alabama</td>\n      <td>32,108</td>\n      <td>22,990</td>\n      <td>9,118</td>\n    </tr>\n  </tbody>\n</table>\n</div>"
     },
     "execution_count": 181,
     "metadata": {},
     "output_type": "execute_result"
    }
   ],
   "source": [
    "insecurity_drop_est_df = insecurity_fillna_df[insecurity_fillna_df[\"Label (Grouping)\"].str.strip().str.lower() != \"estimate\"]\n",
    "insecurity_drop_est_df = insecurity_drop_est_df.rename(columns={\"Label (Grouping)\": \"Geographic Area Name\"})\n",
    "\n",
    "insecurity_drop_est_df.head()"
   ],
   "metadata": {
    "collapsed": false,
    "ExecuteTime": {
     "end_time": "2025-03-08T00:56:42.176914Z",
     "start_time": "2025-03-08T00:56:42.170457Z"
    }
   },
   "id": "ec4c227069ace26b",
   "execution_count": 181
  },
  {
   "cell_type": "code",
   "outputs": [
    {
     "data": {
      "text/plain": "      Geographic Area Name  Total:!!Owner occupied  Total:!!Renter occupied\n0  Baldwin County, Alabama                0.758514                 0.241486\n2  Calhoun County, Alabama                0.727521                 0.272479\n4  Cullman County, Alabama                0.759671                 0.240329\n6   DeKalb County, Alabama                0.787181                 0.212819\n8   Elmore County, Alabama                0.716021                 0.283979",
      "text/html": "<div>\n<style scoped>\n    .dataframe tbody tr th:only-of-type {\n        vertical-align: middle;\n    }\n\n    .dataframe tbody tr th {\n        vertical-align: top;\n    }\n\n    .dataframe thead th {\n        text-align: right;\n    }\n</style>\n<table border=\"1\" class=\"dataframe\">\n  <thead>\n    <tr style=\"text-align: right;\">\n      <th></th>\n      <th>Geographic Area Name</th>\n      <th>Total:!!Owner occupied</th>\n      <th>Total:!!Renter occupied</th>\n    </tr>\n  </thead>\n  <tbody>\n    <tr>\n      <th>0</th>\n      <td>Baldwin County, Alabama</td>\n      <td>0.758514</td>\n      <td>0.241486</td>\n    </tr>\n    <tr>\n      <th>2</th>\n      <td>Calhoun County, Alabama</td>\n      <td>0.727521</td>\n      <td>0.272479</td>\n    </tr>\n    <tr>\n      <th>4</th>\n      <td>Cullman County, Alabama</td>\n      <td>0.759671</td>\n      <td>0.240329</td>\n    </tr>\n    <tr>\n      <th>6</th>\n      <td>DeKalb County, Alabama</td>\n      <td>0.787181</td>\n      <td>0.212819</td>\n    </tr>\n    <tr>\n      <th>8</th>\n      <td>Elmore County, Alabama</td>\n      <td>0.716021</td>\n      <td>0.283979</td>\n    </tr>\n  </tbody>\n</table>\n</div>"
     },
     "execution_count": 182,
     "metadata": {},
     "output_type": "execute_result"
    }
   ],
   "source": [
    "df_numeric = insecurity_drop_est_df.copy()\n",
    "\n",
    "for col in df_numeric.columns[1:]:  \n",
    "    df_numeric[col] = df_numeric[col].astype(str).str.replace(\",\", \"\").str.strip() \n",
    "    df_numeric[col] = pd.to_numeric(df_numeric[col], errors='coerce')\n",
    "\n",
    "\n",
    "for col in df_numeric.columns[2:]:  \n",
    "    df_numeric[col] = df_numeric[col] / df_numeric[\"Total:\"]\n",
    "\n",
    "df_normalized = df_numeric.drop(columns=[\"Total:\"])\n",
    "\n",
    "df_normalized.head()"
   ],
   "metadata": {
    "collapsed": false,
    "ExecuteTime": {
     "end_time": "2025-03-08T00:56:42.232085Z",
     "start_time": "2025-03-08T00:56:42.223263Z"
    }
   },
   "id": "5b2b0ce81e6a6a87",
   "execution_count": 182
  },
  {
   "cell_type": "code",
   "outputs": [],
   "source": [
    "cleaned_insecurity_df = df_normalized"
   ],
   "metadata": {
    "collapsed": false,
    "ExecuteTime": {
     "end_time": "2025-03-08T00:56:42.272158Z",
     "start_time": "2025-03-08T00:56:42.270495Z"
    }
   },
   "id": "1995233da22db652",
   "execution_count": 183
  },
  {
   "cell_type": "markdown",
   "source": [
    "### 5) Parent's Occupation"
   ],
   "metadata": {
    "collapsed": false
   },
   "id": "d1e493ea2cf7a2ca"
  },
  {
   "cell_type": "code",
   "outputs": [
    {
     "name": "stdout",
     "output_type": "stream",
     "text": [
      "(1904, 13)\n"
     ]
    },
    {
     "data": {
      "text/plain": "      Geographic Area Name  Estimate!!Total:  Margin of Error!!Total:  \\\n0  Autauga County, Alabama             26405                     2208   \n1  Baldwin County, Alabama            110347                     4579   \n2  Barbour County, Alabama              9848                     1107   \n3     Bibb County, Alabama              7153                     1331   \n4   Blount County, Alabama             25646                     1601   \n\n   Estimate!!Total:!!Management, business, science, and arts occupations  \\\n0                                               7355                       \n1                                              40689                       \n2                                               2525                       \n3                                               2052                       \n4                                               6924                       \n\n   Margin of Error!!Total:!!Management, business, science, and arts occupations  \\\n0                                               1541                              \n1                                               3375                              \n2                                                760                              \n3                                                779                              \n4                                               1490                              \n\n   Estimate!!Total:!!Service occupations  \\\n0                                   3913   \n1                                  18103   \n2                                   1643   \n3                                   1196   \n4                                   3842   \n\n   Margin of Error!!Total:!!Service occupations  \\\n0                                          1061   \n1                                          3162   \n2                                           771   \n3                                           753   \n4                                          1517   \n\n   Estimate!!Total:!!Sales and office occupations  \\\n0                                            7157   \n1                                           26503   \n2                                            2474   \n3                                             940   \n4                                            5734   \n\n   Margin of Error!!Total:!!Sales and office occupations  \\\n0                                               1400       \n1                                               3506       \n2                                                869       \n3                                                640       \n4                                               1255       \n\n   Estimate!!Total:!!Natural resources, construction, and maintenance occupations  \\\n0                                               3143                                \n1                                               9963                                \n2                                               1187                                \n3                                               1701                                \n4                                               5073                                \n\n   Margin of Error!!Total:!!Natural resources, construction, and maintenance occupations  \\\n0                                               1143                                       \n1                                               2611                                       \n2                                                504                                       \n3                                                650                                       \n4                                               1053                                       \n\n   Estimate!!Total:!!Production, transportation, and material moving occupations  \\\n0                                               4837                               \n1                                              15089                               \n2                                               2019                               \n3                                               1264                               \n4                                               4073                               \n\n   Margin of Error!!Total:!!Production, transportation, and material moving occupations  \n0                                               1064                                     \n1                                               3038                                     \n2                                                709                                     \n3                                                538                                     \n4                                               1210                                     ",
      "text/html": "<div>\n<style scoped>\n    .dataframe tbody tr th:only-of-type {\n        vertical-align: middle;\n    }\n\n    .dataframe tbody tr th {\n        vertical-align: top;\n    }\n\n    .dataframe thead th {\n        text-align: right;\n    }\n</style>\n<table border=\"1\" class=\"dataframe\">\n  <thead>\n    <tr style=\"text-align: right;\">\n      <th></th>\n      <th>Geographic Area Name</th>\n      <th>Estimate!!Total:</th>\n      <th>Margin of Error!!Total:</th>\n      <th>Estimate!!Total:!!Management, business, science, and arts occupations</th>\n      <th>Margin of Error!!Total:!!Management, business, science, and arts occupations</th>\n      <th>Estimate!!Total:!!Service occupations</th>\n      <th>Margin of Error!!Total:!!Service occupations</th>\n      <th>Estimate!!Total:!!Sales and office occupations</th>\n      <th>Margin of Error!!Total:!!Sales and office occupations</th>\n      <th>Estimate!!Total:!!Natural resources, construction, and maintenance occupations</th>\n      <th>Margin of Error!!Total:!!Natural resources, construction, and maintenance occupations</th>\n      <th>Estimate!!Total:!!Production, transportation, and material moving occupations</th>\n      <th>Margin of Error!!Total:!!Production, transportation, and material moving occupations</th>\n    </tr>\n  </thead>\n  <tbody>\n    <tr>\n      <th>0</th>\n      <td>Autauga County, Alabama</td>\n      <td>26405</td>\n      <td>2208</td>\n      <td>7355</td>\n      <td>1541</td>\n      <td>3913</td>\n      <td>1061</td>\n      <td>7157</td>\n      <td>1400</td>\n      <td>3143</td>\n      <td>1143</td>\n      <td>4837</td>\n      <td>1064</td>\n    </tr>\n    <tr>\n      <th>1</th>\n      <td>Baldwin County, Alabama</td>\n      <td>110347</td>\n      <td>4579</td>\n      <td>40689</td>\n      <td>3375</td>\n      <td>18103</td>\n      <td>3162</td>\n      <td>26503</td>\n      <td>3506</td>\n      <td>9963</td>\n      <td>2611</td>\n      <td>15089</td>\n      <td>3038</td>\n    </tr>\n    <tr>\n      <th>2</th>\n      <td>Barbour County, Alabama</td>\n      <td>9848</td>\n      <td>1107</td>\n      <td>2525</td>\n      <td>760</td>\n      <td>1643</td>\n      <td>771</td>\n      <td>2474</td>\n      <td>869</td>\n      <td>1187</td>\n      <td>504</td>\n      <td>2019</td>\n      <td>709</td>\n    </tr>\n    <tr>\n      <th>3</th>\n      <td>Bibb County, Alabama</td>\n      <td>7153</td>\n      <td>1331</td>\n      <td>2052</td>\n      <td>779</td>\n      <td>1196</td>\n      <td>753</td>\n      <td>940</td>\n      <td>640</td>\n      <td>1701</td>\n      <td>650</td>\n      <td>1264</td>\n      <td>538</td>\n    </tr>\n    <tr>\n      <th>4</th>\n      <td>Blount County, Alabama</td>\n      <td>25646</td>\n      <td>1601</td>\n      <td>6924</td>\n      <td>1490</td>\n      <td>3842</td>\n      <td>1517</td>\n      <td>5734</td>\n      <td>1255</td>\n      <td>5073</td>\n      <td>1053</td>\n      <td>4073</td>\n      <td>1210</td>\n    </tr>\n  </tbody>\n</table>\n</div>"
     },
     "execution_count": 184,
     "metadata": {},
     "output_type": "execute_result"
    }
   ],
   "source": [
    "print(occupation_df.shape)\n",
    "occupation_df.head()"
   ],
   "metadata": {
    "collapsed": false,
    "ExecuteTime": {
     "end_time": "2025-03-08T00:56:42.313634Z",
     "start_time": "2025-03-08T00:56:42.308077Z"
    }
   },
   "id": "1d61f6f8a71241fb",
   "execution_count": 184
  },
  {
   "cell_type": "code",
   "outputs": [
    {
     "name": "stdout",
     "output_type": "stream",
     "text": [
      "(1904, 29)\n"
     ]
    },
    {
     "data": {
      "text/plain": "      Geographic Area Name  Estimate!!Total:  Margin of Error!!Total:  \\\n0  Autauga County, Alabama           26405.0                   2208.0   \n1  Baldwin County, Alabama          110347.0                   4579.0   \n2  Barbour County, Alabama            9848.0                   1107.0   \n3     Bibb County, Alabama            7153.0                   1331.0   \n4   Blount County, Alabama           25646.0                   1601.0   \n\n   Estimate!!Total:!!Agriculture, forestry, fishing and hunting, and mining  \\\n0                                              294.0                          \n1                                              856.0                          \n2                                              429.0                          \n3                                              212.0                          \n4                                              593.0                          \n\n   Margin of Error!!Total:!!Agriculture, forestry, fishing and hunting, and mining  \\\n0                                              302.0                                 \n1                                              628.0                                 \n2                                              278.0                                 \n3                                              291.0                                 \n4                                              365.0                                 \n\n   Estimate!!Total:!!Construction  Margin of Error!!Total:!!Construction  \\\n0                          1701.0                                  811.0   \n1                         10194.0                                 2535.0   \n2                           223.0                                  184.0   \n3                          1023.0                                  592.0   \n4                          3771.0                                 1057.0   \n\n   Estimate!!Total:!!Manufacturing  Margin of Error!!Total:!!Manufacturing  \\\n0                           3981.0                                  1139.0   \n1                           8893.0                                  1926.0   \n2                           2390.0                                   775.0   \n3                            797.0                                   479.0   \n4                           4285.0                                  1337.0   \n\n   Estimate!!Total:!!Wholesale trade  ...  \\\n0                              305.0  ...   \n1                             2664.0  ...   \n2                              127.0  ...   \n3                              257.0  ...   \n4                              443.0  ...   \n\n   Estimate!!Total:!!Professional, scientific, and management, and administrative and waste management services  \\\n0                                             2188.0                                                              \n1                                            14185.0                                                              \n2                                              470.0                                                              \n3                                              324.0                                                              \n4                                             3047.0                                                              \n\n   Margin of Error!!Total:!!Professional, scientific, and management, and administrative and waste management services  \\\n0                                             1324.0                                                                     \n1                                             3460.0                                                                     \n2                                              326.0                                                                     \n3                                              224.0                                                                     \n4                                             1053.0                                                                     \n\n   Estimate!!Total:!!Educational services, and  health care and social assistance  \\\n0                                             5463.0                                \n1                                            21659.0                                \n2                                             1737.0                                \n3                                             1104.0                                \n4                                             4858.0                                \n\n   Margin of Error!!Total:!!Educational services, and  health care and social assistance  \\\n0                                             1358.0                                       \n1                                             3540.0                                       \n2                                              619.0                                       \n3                                              478.0                                       \n4                                             1100.0                                       \n\n   Estimate!!Total:!!Arts, entertainment, and recreation, and accommodation and food services  \\\n0                                             2575.0                                            \n1                                            11201.0                                            \n2                                              886.0                                            \n3                                              126.0                                            \n4                                             1045.0                                            \n\n   Margin of Error!!Total:!!Arts, entertainment, and recreation, and accommodation and food services  \\\n0                                              930.0                                                   \n1                                             2691.0                                                   \n2                                              480.0                                                   \n3                                              215.0                                                   \n4                                              648.0                                                   \n\n   Estimate!!Total:!!Other services, except public administration  \\\n0                                             1180.0                \n1                                             5536.0                \n2                                              519.0                \n3                                              329.0                \n4                                              837.0                \n\n   Margin of Error!!Total:!!Other services, except public administration  \\\n0                                              580.0                       \n1                                             1781.0                       \n2                                              326.0                       \n3                                              314.0                       \n4                                              558.0                       \n\n   Estimate!!Total:!!Public administration  \\\n0                                   1948.0   \n1                                   5488.0   \n2                                    433.0   \n3                                    907.0   \n4                                   1078.0   \n\n   Margin of Error!!Total:!!Public administration  \n0                                           828.0  \n1                                          1853.0  \n2                                           281.0  \n3                                           594.0  \n4                                           545.0  \n\n[5 rows x 29 columns]",
      "text/html": "<div>\n<style scoped>\n    .dataframe tbody tr th:only-of-type {\n        vertical-align: middle;\n    }\n\n    .dataframe tbody tr th {\n        vertical-align: top;\n    }\n\n    .dataframe thead th {\n        text-align: right;\n    }\n</style>\n<table border=\"1\" class=\"dataframe\">\n  <thead>\n    <tr style=\"text-align: right;\">\n      <th></th>\n      <th>Geographic Area Name</th>\n      <th>Estimate!!Total:</th>\n      <th>Margin of Error!!Total:</th>\n      <th>Estimate!!Total:!!Agriculture, forestry, fishing and hunting, and mining</th>\n      <th>Margin of Error!!Total:!!Agriculture, forestry, fishing and hunting, and mining</th>\n      <th>Estimate!!Total:!!Construction</th>\n      <th>Margin of Error!!Total:!!Construction</th>\n      <th>Estimate!!Total:!!Manufacturing</th>\n      <th>Margin of Error!!Total:!!Manufacturing</th>\n      <th>Estimate!!Total:!!Wholesale trade</th>\n      <th>...</th>\n      <th>Estimate!!Total:!!Professional, scientific, and management, and administrative and waste management services</th>\n      <th>Margin of Error!!Total:!!Professional, scientific, and management, and administrative and waste management services</th>\n      <th>Estimate!!Total:!!Educational services, and  health care and social assistance</th>\n      <th>Margin of Error!!Total:!!Educational services, and  health care and social assistance</th>\n      <th>Estimate!!Total:!!Arts, entertainment, and recreation, and accommodation and food services</th>\n      <th>Margin of Error!!Total:!!Arts, entertainment, and recreation, and accommodation and food services</th>\n      <th>Estimate!!Total:!!Other services, except public administration</th>\n      <th>Margin of Error!!Total:!!Other services, except public administration</th>\n      <th>Estimate!!Total:!!Public administration</th>\n      <th>Margin of Error!!Total:!!Public administration</th>\n    </tr>\n  </thead>\n  <tbody>\n    <tr>\n      <th>0</th>\n      <td>Autauga County, Alabama</td>\n      <td>26405.0</td>\n      <td>2208.0</td>\n      <td>294.0</td>\n      <td>302.0</td>\n      <td>1701.0</td>\n      <td>811.0</td>\n      <td>3981.0</td>\n      <td>1139.0</td>\n      <td>305.0</td>\n      <td>...</td>\n      <td>2188.0</td>\n      <td>1324.0</td>\n      <td>5463.0</td>\n      <td>1358.0</td>\n      <td>2575.0</td>\n      <td>930.0</td>\n      <td>1180.0</td>\n      <td>580.0</td>\n      <td>1948.0</td>\n      <td>828.0</td>\n    </tr>\n    <tr>\n      <th>1</th>\n      <td>Baldwin County, Alabama</td>\n      <td>110347.0</td>\n      <td>4579.0</td>\n      <td>856.0</td>\n      <td>628.0</td>\n      <td>10194.0</td>\n      <td>2535.0</td>\n      <td>8893.0</td>\n      <td>1926.0</td>\n      <td>2664.0</td>\n      <td>...</td>\n      <td>14185.0</td>\n      <td>3460.0</td>\n      <td>21659.0</td>\n      <td>3540.0</td>\n      <td>11201.0</td>\n      <td>2691.0</td>\n      <td>5536.0</td>\n      <td>1781.0</td>\n      <td>5488.0</td>\n      <td>1853.0</td>\n    </tr>\n    <tr>\n      <th>2</th>\n      <td>Barbour County, Alabama</td>\n      <td>9848.0</td>\n      <td>1107.0</td>\n      <td>429.0</td>\n      <td>278.0</td>\n      <td>223.0</td>\n      <td>184.0</td>\n      <td>2390.0</td>\n      <td>775.0</td>\n      <td>127.0</td>\n      <td>...</td>\n      <td>470.0</td>\n      <td>326.0</td>\n      <td>1737.0</td>\n      <td>619.0</td>\n      <td>886.0</td>\n      <td>480.0</td>\n      <td>519.0</td>\n      <td>326.0</td>\n      <td>433.0</td>\n      <td>281.0</td>\n    </tr>\n    <tr>\n      <th>3</th>\n      <td>Bibb County, Alabama</td>\n      <td>7153.0</td>\n      <td>1331.0</td>\n      <td>212.0</td>\n      <td>291.0</td>\n      <td>1023.0</td>\n      <td>592.0</td>\n      <td>797.0</td>\n      <td>479.0</td>\n      <td>257.0</td>\n      <td>...</td>\n      <td>324.0</td>\n      <td>224.0</td>\n      <td>1104.0</td>\n      <td>478.0</td>\n      <td>126.0</td>\n      <td>215.0</td>\n      <td>329.0</td>\n      <td>314.0</td>\n      <td>907.0</td>\n      <td>594.0</td>\n    </tr>\n    <tr>\n      <th>4</th>\n      <td>Blount County, Alabama</td>\n      <td>25646.0</td>\n      <td>1601.0</td>\n      <td>593.0</td>\n      <td>365.0</td>\n      <td>3771.0</td>\n      <td>1057.0</td>\n      <td>4285.0</td>\n      <td>1337.0</td>\n      <td>443.0</td>\n      <td>...</td>\n      <td>3047.0</td>\n      <td>1053.0</td>\n      <td>4858.0</td>\n      <td>1100.0</td>\n      <td>1045.0</td>\n      <td>648.0</td>\n      <td>837.0</td>\n      <td>558.0</td>\n      <td>1078.0</td>\n      <td>545.0</td>\n    </tr>\n  </tbody>\n</table>\n<p>5 rows × 29 columns</p>\n</div>"
     },
     "execution_count": 185,
     "metadata": {},
     "output_type": "execute_result"
    }
   ],
   "source": [
    "print(industry_df.shape)\n",
    "industry_df.head()"
   ],
   "metadata": {
    "collapsed": false,
    "ExecuteTime": {
     "end_time": "2025-03-08T00:56:42.387768Z",
     "start_time": "2025-03-08T00:56:42.377686Z"
    }
   },
   "id": "fa5acc6c98e10a2f",
   "execution_count": 185
  },
  {
   "cell_type": "code",
   "outputs": [],
   "source": [
    "occupation_df.columns = occupation_df.columns.str.strip()\n",
    "industry_df.columns = industry_df.columns.str.strip()"
   ],
   "metadata": {
    "collapsed": false,
    "ExecuteTime": {
     "end_time": "2025-03-08T00:56:42.396504Z",
     "start_time": "2025-03-08T00:56:42.394469Z"
    }
   },
   "id": "ab60ce33bce94580",
   "execution_count": 186
  },
  {
   "cell_type": "code",
   "outputs": [],
   "source": [
    "occupation_drop_est_df = drop_margin_of_error_columns(occupation_df)\n",
    "industry_drop_est_df = drop_margin_of_error_columns(industry_df)"
   ],
   "metadata": {
    "collapsed": false,
    "ExecuteTime": {
     "end_time": "2025-03-08T00:56:42.444244Z",
     "start_time": "2025-03-08T00:56:42.441273Z"
    }
   },
   "id": "f84149ac478494f4",
   "execution_count": 187
  },
  {
   "cell_type": "code",
   "outputs": [],
   "source": [
    "normalized_occupation_df = normalize_df(occupation_drop_est_df)\n",
    "normalized_industry_df = normalize_df(industry_drop_est_df)"
   ],
   "metadata": {
    "collapsed": false,
    "ExecuteTime": {
     "end_time": "2025-03-08T00:56:42.489663Z",
     "start_time": "2025-03-08T00:56:42.483620Z"
    }
   },
   "id": "4ffd3a0475465142",
   "execution_count": 188
  },
  {
   "cell_type": "code",
   "outputs": [
    {
     "data": {
      "text/plain": "      Geographic Area Name  \\\n0  Autauga County, Alabama   \n1  Baldwin County, Alabama   \n2  Barbour County, Alabama   \n3     Bibb County, Alabama   \n4   Blount County, Alabama   \n\n   Estimate!!Total:!!Management, business, science, and arts occupations  \\\n0                                           0.278546                       \n1                                           0.368737                       \n2                                           0.256397                       \n3                                           0.286873                       \n4                                           0.269984                       \n\n   Estimate!!Total:!!Service occupations  \\\n0                               0.148192   \n1                               0.164055   \n2                               0.166836   \n3                               0.167203   \n4                               0.149809   \n\n   Estimate!!Total:!!Sales and office occupations  \\\n0                                        0.271047   \n1                                        0.240179   \n2                                        0.251219   \n3                                        0.131413   \n4                                        0.223583   \n\n   Estimate!!Total:!!Natural resources, construction, and maintenance occupations  \\\n0                                           0.119030                                \n1                                           0.090288                                \n2                                           0.120532                                \n3                                           0.237802                                \n4                                           0.197809                                \n\n   Estimate!!Total:!!Production, transportation, and material moving occupations  \n0                                           0.183185                              \n1                                           0.136741                              \n2                                           0.205016                              \n3                                           0.176709                              \n4                                           0.158816                              ",
      "text/html": "<div>\n<style scoped>\n    .dataframe tbody tr th:only-of-type {\n        vertical-align: middle;\n    }\n\n    .dataframe tbody tr th {\n        vertical-align: top;\n    }\n\n    .dataframe thead th {\n        text-align: right;\n    }\n</style>\n<table border=\"1\" class=\"dataframe\">\n  <thead>\n    <tr style=\"text-align: right;\">\n      <th></th>\n      <th>Geographic Area Name</th>\n      <th>Estimate!!Total:!!Management, business, science, and arts occupations</th>\n      <th>Estimate!!Total:!!Service occupations</th>\n      <th>Estimate!!Total:!!Sales and office occupations</th>\n      <th>Estimate!!Total:!!Natural resources, construction, and maintenance occupations</th>\n      <th>Estimate!!Total:!!Production, transportation, and material moving occupations</th>\n    </tr>\n  </thead>\n  <tbody>\n    <tr>\n      <th>0</th>\n      <td>Autauga County, Alabama</td>\n      <td>0.278546</td>\n      <td>0.148192</td>\n      <td>0.271047</td>\n      <td>0.119030</td>\n      <td>0.183185</td>\n    </tr>\n    <tr>\n      <th>1</th>\n      <td>Baldwin County, Alabama</td>\n      <td>0.368737</td>\n      <td>0.164055</td>\n      <td>0.240179</td>\n      <td>0.090288</td>\n      <td>0.136741</td>\n    </tr>\n    <tr>\n      <th>2</th>\n      <td>Barbour County, Alabama</td>\n      <td>0.256397</td>\n      <td>0.166836</td>\n      <td>0.251219</td>\n      <td>0.120532</td>\n      <td>0.205016</td>\n    </tr>\n    <tr>\n      <th>3</th>\n      <td>Bibb County, Alabama</td>\n      <td>0.286873</td>\n      <td>0.167203</td>\n      <td>0.131413</td>\n      <td>0.237802</td>\n      <td>0.176709</td>\n    </tr>\n    <tr>\n      <th>4</th>\n      <td>Blount County, Alabama</td>\n      <td>0.269984</td>\n      <td>0.149809</td>\n      <td>0.223583</td>\n      <td>0.197809</td>\n      <td>0.158816</td>\n    </tr>\n  </tbody>\n</table>\n</div>"
     },
     "execution_count": 189,
     "metadata": {},
     "output_type": "execute_result"
    }
   ],
   "source": [
    "normalized_occupation_df.head()"
   ],
   "metadata": {
    "collapsed": false,
    "ExecuteTime": {
     "end_time": "2025-03-08T00:56:42.530835Z",
     "start_time": "2025-03-08T00:56:42.525930Z"
    }
   },
   "id": "c03c2b58a493400",
   "execution_count": 189
  },
  {
   "cell_type": "code",
   "outputs": [
    {
     "data": {
      "text/plain": "      Geographic Area Name  \\\n0  Autauga County, Alabama   \n1  Baldwin County, Alabama   \n2  Barbour County, Alabama   \n3     Bibb County, Alabama   \n4   Blount County, Alabama   \n\n   Estimate!!Total:!!Agriculture, forestry, fishing and hunting, and mining  \\\n0                                           0.011134                          \n1                                           0.007757                          \n2                                           0.043562                          \n3                                           0.029638                          \n4                                           0.023123                          \n\n   Estimate!!Total:!!Construction  Estimate!!Total:!!Manufacturing  \\\n0                        0.064420                         0.150767   \n1                        0.092381                         0.080591   \n2                        0.022644                         0.242689   \n3                        0.143017                         0.111422   \n4                        0.147040                         0.167083   \n\n   Estimate!!Total:!!Wholesale trade  Estimate!!Total:!!Retail trade  \\\n0                           0.011551                        0.113804   \n1                           0.024142                        0.156089   \n2                           0.012896                        0.167953   \n3                           0.035929                        0.142737   \n4                           0.017274                        0.146027   \n\n   Estimate!!Total:!!Transportation and warehousing, and utilities  \\\n0                                           0.066124                 \n1                                           0.031446                 \n2                                           0.064683                 \n3                                           0.058856                 \n4                                           0.043827                 \n\n   Estimate!!Total:!!Information  \\\n0                       0.023594   \n1                       0.010349   \n2                       0.000000   \n3                       0.007829   \n4                       0.007097   \n\n   Estimate!!Total:!!Finance and insurance, and real estate and rental and leasing  \\\n0                                           0.052869                                 \n1                                           0.071003                                 \n2                                           0.034829                                 \n3                                           0.080526                                 \n4                                           0.024877                                 \n\n   Estimate!!Total:!!Professional, scientific, and management, and administrative and waste management services  \\\n0                                           0.082863                                                              \n1                                           0.128549                                                              \n2                                           0.047725                                                              \n3                                           0.045296                                                              \n4                                           0.118810                                                              \n\n   Estimate!!Total:!!Educational services, and  health care and social assistance  \\\n0                                           0.206893                                \n1                                           0.196281                                \n2                                           0.176381                                \n3                                           0.154341                                \n4                                           0.189425                                \n\n   Estimate!!Total:!!Arts, entertainment, and recreation, and accommodation and food services  \\\n0                                           0.097519                                            \n1                                           0.101507                                            \n2                                           0.089968                                            \n3                                           0.017615                                            \n4                                           0.040747                                            \n\n   Estimate!!Total:!!Other services, except public administration  \\\n0                                           0.044689                \n1                                           0.050169                \n2                                           0.052701                \n3                                           0.045995                \n4                                           0.032637                \n\n   Estimate!!Total:!!Public administration  \n0                                 0.073774  \n1                                 0.049734  \n2                                 0.043968  \n3                                 0.126800  \n4                                 0.042034  ",
      "text/html": "<div>\n<style scoped>\n    .dataframe tbody tr th:only-of-type {\n        vertical-align: middle;\n    }\n\n    .dataframe tbody tr th {\n        vertical-align: top;\n    }\n\n    .dataframe thead th {\n        text-align: right;\n    }\n</style>\n<table border=\"1\" class=\"dataframe\">\n  <thead>\n    <tr style=\"text-align: right;\">\n      <th></th>\n      <th>Geographic Area Name</th>\n      <th>Estimate!!Total:!!Agriculture, forestry, fishing and hunting, and mining</th>\n      <th>Estimate!!Total:!!Construction</th>\n      <th>Estimate!!Total:!!Manufacturing</th>\n      <th>Estimate!!Total:!!Wholesale trade</th>\n      <th>Estimate!!Total:!!Retail trade</th>\n      <th>Estimate!!Total:!!Transportation and warehousing, and utilities</th>\n      <th>Estimate!!Total:!!Information</th>\n      <th>Estimate!!Total:!!Finance and insurance, and real estate and rental and leasing</th>\n      <th>Estimate!!Total:!!Professional, scientific, and management, and administrative and waste management services</th>\n      <th>Estimate!!Total:!!Educational services, and  health care and social assistance</th>\n      <th>Estimate!!Total:!!Arts, entertainment, and recreation, and accommodation and food services</th>\n      <th>Estimate!!Total:!!Other services, except public administration</th>\n      <th>Estimate!!Total:!!Public administration</th>\n    </tr>\n  </thead>\n  <tbody>\n    <tr>\n      <th>0</th>\n      <td>Autauga County, Alabama</td>\n      <td>0.011134</td>\n      <td>0.064420</td>\n      <td>0.150767</td>\n      <td>0.011551</td>\n      <td>0.113804</td>\n      <td>0.066124</td>\n      <td>0.023594</td>\n      <td>0.052869</td>\n      <td>0.082863</td>\n      <td>0.206893</td>\n      <td>0.097519</td>\n      <td>0.044689</td>\n      <td>0.073774</td>\n    </tr>\n    <tr>\n      <th>1</th>\n      <td>Baldwin County, Alabama</td>\n      <td>0.007757</td>\n      <td>0.092381</td>\n      <td>0.080591</td>\n      <td>0.024142</td>\n      <td>0.156089</td>\n      <td>0.031446</td>\n      <td>0.010349</td>\n      <td>0.071003</td>\n      <td>0.128549</td>\n      <td>0.196281</td>\n      <td>0.101507</td>\n      <td>0.050169</td>\n      <td>0.049734</td>\n    </tr>\n    <tr>\n      <th>2</th>\n      <td>Barbour County, Alabama</td>\n      <td>0.043562</td>\n      <td>0.022644</td>\n      <td>0.242689</td>\n      <td>0.012896</td>\n      <td>0.167953</td>\n      <td>0.064683</td>\n      <td>0.000000</td>\n      <td>0.034829</td>\n      <td>0.047725</td>\n      <td>0.176381</td>\n      <td>0.089968</td>\n      <td>0.052701</td>\n      <td>0.043968</td>\n    </tr>\n    <tr>\n      <th>3</th>\n      <td>Bibb County, Alabama</td>\n      <td>0.029638</td>\n      <td>0.143017</td>\n      <td>0.111422</td>\n      <td>0.035929</td>\n      <td>0.142737</td>\n      <td>0.058856</td>\n      <td>0.007829</td>\n      <td>0.080526</td>\n      <td>0.045296</td>\n      <td>0.154341</td>\n      <td>0.017615</td>\n      <td>0.045995</td>\n      <td>0.126800</td>\n    </tr>\n    <tr>\n      <th>4</th>\n      <td>Blount County, Alabama</td>\n      <td>0.023123</td>\n      <td>0.147040</td>\n      <td>0.167083</td>\n      <td>0.017274</td>\n      <td>0.146027</td>\n      <td>0.043827</td>\n      <td>0.007097</td>\n      <td>0.024877</td>\n      <td>0.118810</td>\n      <td>0.189425</td>\n      <td>0.040747</td>\n      <td>0.032637</td>\n      <td>0.042034</td>\n    </tr>\n  </tbody>\n</table>\n</div>"
     },
     "execution_count": 190,
     "metadata": {},
     "output_type": "execute_result"
    }
   ],
   "source": [
    "normalized_industry_df.head()"
   ],
   "metadata": {
    "collapsed": false,
    "ExecuteTime": {
     "end_time": "2025-03-08T00:56:42.622774Z",
     "start_time": "2025-03-08T00:56:42.616116Z"
    }
   },
   "id": "f668055d5d1cae16",
   "execution_count": 190
  },
  {
   "cell_type": "code",
   "outputs": [
    {
     "name": "stdout",
     "output_type": "stream",
     "text": [
      "<class 'pandas.core.frame.DataFrame'>\n",
      "RangeIndex: 1904 entries, 0 to 1903\n",
      "Data columns (total 19 columns):\n",
      " #   Column                                                                                                        Non-Null Count  Dtype  \n",
      "---  ------                                                                                                        --------------  -----  \n",
      " 0   Geographic Area Name                                                                                          1904 non-null   object \n",
      " 1   Estimate!!Total:!!Agriculture, forestry, fishing and hunting, and mining                                      1881 non-null   float64\n",
      " 2   Estimate!!Total:!!Construction                                                                                1881 non-null   float64\n",
      " 3   Estimate!!Total:!!Manufacturing                                                                               1881 non-null   float64\n",
      " 4   Estimate!!Total:!!Wholesale trade                                                                             1881 non-null   float64\n",
      " 5   Estimate!!Total:!!Retail trade                                                                                1881 non-null   float64\n",
      " 6   Estimate!!Total:!!Transportation and warehousing, and utilities                                               1881 non-null   float64\n",
      " 7   Estimate!!Total:!!Information                                                                                 1881 non-null   float64\n",
      " 8   Estimate!!Total:!!Finance and insurance, and real estate and rental and leasing                               1881 non-null   float64\n",
      " 9   Estimate!!Total:!!Professional, scientific, and management, and administrative and waste management services  1881 non-null   float64\n",
      " 10  Estimate!!Total:!!Educational services, and  health care and social assistance                                1881 non-null   float64\n",
      " 11  Estimate!!Total:!!Arts, entertainment, and recreation, and accommodation and food services                    1881 non-null   float64\n",
      " 12  Estimate!!Total:!!Other services, except public administration                                                1881 non-null   float64\n",
      " 13  Estimate!!Total:!!Public administration                                                                       1881 non-null   float64\n",
      " 14  Estimate!!Total:!!Management, business, science, and arts occupations                                         1904 non-null   float64\n",
      " 15  Estimate!!Total:!!Service occupations                                                                         1904 non-null   float64\n",
      " 16  Estimate!!Total:!!Sales and office occupations                                                                1904 non-null   float64\n",
      " 17  Estimate!!Total:!!Natural resources, construction, and maintenance occupations                                1904 non-null   float64\n",
      " 18  Estimate!!Total:!!Production, transportation, and material moving occupations                                 1904 non-null   float64\n",
      "dtypes: float64(18), object(1)\n",
      "memory usage: 282.8+ KB\n"
     ]
    }
   ],
   "source": [
    "merged_parent_df = normalized_industry_df.merge(normalized_occupation_df, on=\"Geographic Area Name\", how=\"left\")\n",
    "\n",
    "merged_parent_df.info()"
   ],
   "metadata": {
    "collapsed": false,
    "ExecuteTime": {
     "end_time": "2025-03-08T00:56:42.640422Z",
     "start_time": "2025-03-08T00:56:42.633678Z"
    }
   },
   "id": "be2b5860ba11b835",
   "execution_count": 191
  },
  {
   "cell_type": "code",
   "outputs": [],
   "source": [
    "cleaned_parent_df =  merged_parent_df"
   ],
   "metadata": {
    "collapsed": false,
    "ExecuteTime": {
     "end_time": "2025-03-08T00:56:42.669534Z",
     "start_time": "2025-03-08T00:56:42.667557Z"
    }
   },
   "id": "c0dd5409809d4854",
   "execution_count": 192
  },
  {
   "cell_type": "markdown",
   "source": [
    "## 3. Export Cleaned Data"
   ],
   "metadata": {
    "collapsed": false
   },
   "id": "726e0a5e2bf632ef"
  },
  {
   "cell_type": "code",
   "outputs": [],
   "source": [
    "sub_data_arr = [cleaned_house_df, cleaned_insecurity_df, cleaned_insurance_df, cleaned_parent_df, cleaned_poverty_df]"
   ],
   "metadata": {
    "collapsed": false,
    "ExecuteTime": {
     "end_time": "2025-03-08T00:56:42.735600Z",
     "start_time": "2025-03-08T00:56:42.732468Z"
    }
   },
   "id": "ba230112dd21bbf0",
   "execution_count": 193
  },
  {
   "cell_type": "markdown",
   "source": [
    "**Export cleaned data to cleaned folder**"
   ],
   "metadata": {
    "collapsed": false
   },
   "id": "11b81cba1a4581f4"
  },
  {
   "cell_type": "code",
   "outputs": [],
   "source": [
    "# remove duplicated row\n",
    "for i, df in enumerate(sub_data_arr):\n",
    "    sub_data_arr[i] = df.drop_duplicates(subset=[\"Geographic Area Name\"])"
   ],
   "metadata": {
    "collapsed": false,
    "ExecuteTime": {
     "end_time": "2025-03-08T00:56:42.768486Z",
     "start_time": "2025-03-08T00:56:42.762369Z"
    }
   },
   "id": "ccef98bb199557c5",
   "execution_count": 194
  },
  {
   "cell_type": "code",
   "outputs": [],
   "source": [
    "state_abbreviations = {\n",
    "    \"Alabama\": \"AL\", \"Alaska\": \"AK\", \"Arizona\": \"AZ\", \"Arkansas\": \"AR\", \"California\": \"CA\",\n",
    "    \"Colorado\": \"CO\", \"Connecticut\": \"CT\", \"Delaware\": \"DE\", \"Florida\": \"FL\", \"Georgia\": \"GA\",\n",
    "    \"Hawaii\": \"HI\", \"Idaho\": \"ID\", \"Illinois\": \"IL\", \"Indiana\": \"IN\", \"Iowa\": \"IA\", \"Kansas\": \"KS\",\n",
    "    \"Kentucky\": \"KY\", \"Louisiana\": \"LA\", \"Maine\": \"ME\", \"Maryland\": \"MD\", \"Massachusetts\": \"MA\",\n",
    "    \"Michigan\": \"MI\", \"Minnesota\": \"MN\", \"Mississippi\": \"MS\", \"Missouri\": \"MO\", \"Montana\": \"MT\",\n",
    "    \"Nebraska\": \"NE\", \"Nevada\": \"NV\", \"New Hampshire\": \"NH\", \"New Jersey\": \"NJ\", \"New Mexico\": \"NM\",\n",
    "    \"New York\": \"NY\", \"North Carolina\": \"NC\", \"North Dakota\": \"ND\", \"Ohio\": \"OH\", \"Oklahoma\": \"OK\",\n",
    "    \"Oregon\": \"OR\", \"Pennsylvania\": \"PA\", \"Rhode Island\": \"RI\", \"South Carolina\": \"SC\",\n",
    "    \"South Dakota\": \"SD\", \"Tennessee\": \"TN\", \"Texas\": \"TX\", \"Utah\": \"UT\", \"Vermont\": \"VT\",\n",
    "    \"Virginia\": \"VA\", \"Washington\": \"WA\", \"West Virginia\": \"WV\", \"Wisconsin\": \"WI\", \"Wyoming\": \"WY\",\n",
    "    \"Puerto Rico\": \"PR\"\n",
    "}\n",
    "\n",
    "for i in range(len(sub_data_arr)):\n",
    "    df = sub_data_arr[i]\n",
    "    updated_df = df.copy()\n",
    "    \n",
    "    updated_df[[\"County\", \"State\"]] = updated_df[\"Geographic Area Name\"].str.rsplit(\", \", n=1, expand=True)\n",
    "    \n",
    "    updated_df[\"State\"] = updated_df[\"State\"].map(state_abbreviations)\n",
    "    updated_df[\"County\"] = updated_df[\"County\"].str.replace(\" County\", \"\", regex=True)\n",
    "    \n",
    "    column_order = [\"State\", \"County\"] + [col for col in updated_df.columns if col not in [\"State\", \"County\"]]\n",
    "    updated_df = updated_df[column_order]\n",
    "\n",
    "    sub_data_arr[i] = updated_df\n"
   ],
   "metadata": {
    "collapsed": false,
    "ExecuteTime": {
     "end_time": "2025-03-08T00:56:42.825108Z",
     "start_time": "2025-03-08T00:56:42.807420Z"
    }
   },
   "id": "703c4e77f4ce25cc",
   "execution_count": 195
  },
  {
   "cell_type": "code",
   "outputs": [
    {
     "data": {
      "text/plain": "  State   County     Geographic Area Name  \\\n0    AL  Autauga  Autauga County, Alabama   \n1    AL  Baldwin  Baldwin County, Alabama   \n2    AL  Barbour  Barbour County, Alabama   \n3    AL     Bibb     Bibb County, Alabama   \n4    AL   Blount   Blount County, Alabama   \n\n   Estimate!!Total:!!Built 2020 or later  \\\n0                               0.018971   \n1                               0.016696   \n2                               0.000000   \n3                               0.000000   \n4                               0.003596   \n\n   Estimate!!Total:!!Built 2000 to 2019  Estimate!!Total:!!Built 1980 to 1999  \\\n0                              0.348779                              0.233663   \n1                              0.460808                              0.317366   \n2                              0.171020                              0.400188   \n3                              0.269087                              0.378022   \n4                              0.272173                              0.367732   \n\n   Estimate!!Total:!!Built 1960 to 1979  Estimate!!Total:!!Built 1940 to 1959  \\\n0                              0.310232                              0.058325   \n1                              0.156746                              0.030529   \n2                              0.253661                              0.104736   \n3                              0.226947                              0.060487   \n4                              0.221302                              0.092610   \n\n   Estimate!!Total:!!Built 1939 or earlier  \\\n0                                 0.030030   \n1                                 0.017855   \n2                                 0.070395   \n3                                 0.065456   \n4                                 0.042588   \n\n   Percent!!SELECTED CHARACTERISTICS!!Occupied housing units!!Lacking complete plumbing facilities  \\\n0                                                0.5                                                 \n1                                                0.3                                                 \n2                                                0.2                                                 \n3                                                0.7                                                 \n4                                                0.6                                                 \n\n   ...  Percent!!GROSS RENT!!Occupied units paying rent!!$2,000 to $2,499  \\\n0  ...                                                2.4                   \n1  ...                                                3.1                   \n2  ...                                                0.4                   \n3  ...                                                0.0                   \n4  ...                                                0.7                   \n\n   Percent!!GROSS RENT!!Occupied units paying rent!!$2,500 to $2,999  \\\n0                                                0.6                   \n1                                                0.5                   \n2                                                0.0                   \n3                                                0.0                   \n4                                                0.0                   \n\n   Percent!!GROSS RENT!!Occupied units paying rent!!$3,000 or more  \\\n0                                                2.5                 \n1                                                1.0                 \n2                                                0.0                 \n3                                                0.0                 \n4                                                0.2                 \n\n  Percent!!GROSS RENT AS A PERCENTAGE OF HOUSEHOLD INCOME (GRAPI)!!Occupied units paying rent (excluding units where GRAPI cannot be computed)  \\\n0                                               4814                                                                                             \n1                                              17291                                                                                             \n2                                               2807                                                                                             \n3                                               1187                                                                                             \n4                                               3385                                                                                             \n\n  Percent!!GROSS RENT AS A PERCENTAGE OF HOUSEHOLD INCOME (GRAPI)!!Occupied units paying rent (excluding units where GRAPI cannot be computed)!!Less than 15.0 percent  \\\n0                                               16.8                                                                                                                     \n1                                               12.9                                                                                                                     \n2                                               14.4                                                                                                                     \n3                                               24.8                                                                                                                     \n4                                               16.9                                                                                                                     \n\n   Percent!!GROSS RENT AS A PERCENTAGE OF HOUSEHOLD INCOME (GRAPI)!!Occupied units paying rent (excluding units where GRAPI cannot be computed)!!15.0 to 19.9 percent  \\\n0                                               11.4                                                                                                                    \n1                                               12.9                                                                                                                    \n2                                               17.7                                                                                                                    \n3                                                1.7                                                                                                                    \n4                                               16.1                                                                                                                    \n\n   Percent!!GROSS RENT AS A PERCENTAGE OF HOUSEHOLD INCOME (GRAPI)!!Occupied units paying rent (excluding units where GRAPI cannot be computed)!!20.0 to 24.9 percent  \\\n0                                               20.2                                                                                                                    \n1                                               16.7                                                                                                                    \n2                                               16.2                                                                                                                    \n3                                               17.4                                                                                                                    \n4                                               12.3                                                                                                                    \n\n  Percent!!GROSS RENT AS A PERCENTAGE OF HOUSEHOLD INCOME (GRAPI)!!Occupied units paying rent (excluding units where GRAPI cannot be computed)!!25.0 to 29.9 percent  \\\n0                                               16.9                                                                                                                   \n1                                                9.6                                                                                                                   \n2                                                9.4                                                                                                                   \n3                                                7.6                                                                                                                   \n4                                                9.8                                                                                                                   \n\n  Percent!!GROSS RENT AS A PERCENTAGE OF HOUSEHOLD INCOME (GRAPI)!!Occupied units paying rent (excluding units where GRAPI cannot be computed)!!30.0 to 34.9 percent  \\\n0                                                3.6                                                                                                                   \n1                                               10.5                                                                                                                   \n2                                                7.1                                                                                                                   \n3                                                1.5                                                                                                                   \n4                                                7.0                                                                                                                   \n\n  Percent!!GROSS RENT AS A PERCENTAGE OF HOUSEHOLD INCOME (GRAPI)!!Occupied units paying rent (excluding units where GRAPI cannot be computed)!!35.0 percent or more  \n0                                               31.0                                                                                                                  \n1                                               37.3                                                                                                                  \n2                                               35.2                                                                                                                  \n3                                               47.1                                                                                                                  \n4                                               37.9                                                                                                                  \n\n[5 rows x 72 columns]",
      "text/html": "<div>\n<style scoped>\n    .dataframe tbody tr th:only-of-type {\n        vertical-align: middle;\n    }\n\n    .dataframe tbody tr th {\n        vertical-align: top;\n    }\n\n    .dataframe thead th {\n        text-align: right;\n    }\n</style>\n<table border=\"1\" class=\"dataframe\">\n  <thead>\n    <tr style=\"text-align: right;\">\n      <th></th>\n      <th>State</th>\n      <th>County</th>\n      <th>Geographic Area Name</th>\n      <th>Estimate!!Total:!!Built 2020 or later</th>\n      <th>Estimate!!Total:!!Built 2000 to 2019</th>\n      <th>Estimate!!Total:!!Built 1980 to 1999</th>\n      <th>Estimate!!Total:!!Built 1960 to 1979</th>\n      <th>Estimate!!Total:!!Built 1940 to 1959</th>\n      <th>Estimate!!Total:!!Built 1939 or earlier</th>\n      <th>Percent!!SELECTED CHARACTERISTICS!!Occupied housing units!!Lacking complete plumbing facilities</th>\n      <th>...</th>\n      <th>Percent!!GROSS RENT!!Occupied units paying rent!!$2,000 to $2,499</th>\n      <th>Percent!!GROSS RENT!!Occupied units paying rent!!$2,500 to $2,999</th>\n      <th>Percent!!GROSS RENT!!Occupied units paying rent!!$3,000 or more</th>\n      <th>Percent!!GROSS RENT AS A PERCENTAGE OF HOUSEHOLD INCOME (GRAPI)!!Occupied units paying rent (excluding units where GRAPI cannot be computed)</th>\n      <th>Percent!!GROSS RENT AS A PERCENTAGE OF HOUSEHOLD INCOME (GRAPI)!!Occupied units paying rent (excluding units where GRAPI cannot be computed)!!Less than 15.0 percent</th>\n      <th>Percent!!GROSS RENT AS A PERCENTAGE OF HOUSEHOLD INCOME (GRAPI)!!Occupied units paying rent (excluding units where GRAPI cannot be computed)!!15.0 to 19.9 percent</th>\n      <th>Percent!!GROSS RENT AS A PERCENTAGE OF HOUSEHOLD INCOME (GRAPI)!!Occupied units paying rent (excluding units where GRAPI cannot be computed)!!20.0 to 24.9 percent</th>\n      <th>Percent!!GROSS RENT AS A PERCENTAGE OF HOUSEHOLD INCOME (GRAPI)!!Occupied units paying rent (excluding units where GRAPI cannot be computed)!!25.0 to 29.9 percent</th>\n      <th>Percent!!GROSS RENT AS A PERCENTAGE OF HOUSEHOLD INCOME (GRAPI)!!Occupied units paying rent (excluding units where GRAPI cannot be computed)!!30.0 to 34.9 percent</th>\n      <th>Percent!!GROSS RENT AS A PERCENTAGE OF HOUSEHOLD INCOME (GRAPI)!!Occupied units paying rent (excluding units where GRAPI cannot be computed)!!35.0 percent or more</th>\n    </tr>\n  </thead>\n  <tbody>\n    <tr>\n      <th>0</th>\n      <td>AL</td>\n      <td>Autauga</td>\n      <td>Autauga County, Alabama</td>\n      <td>0.018971</td>\n      <td>0.348779</td>\n      <td>0.233663</td>\n      <td>0.310232</td>\n      <td>0.058325</td>\n      <td>0.030030</td>\n      <td>0.5</td>\n      <td>...</td>\n      <td>2.4</td>\n      <td>0.6</td>\n      <td>2.5</td>\n      <td>4814</td>\n      <td>16.8</td>\n      <td>11.4</td>\n      <td>20.2</td>\n      <td>16.9</td>\n      <td>3.6</td>\n      <td>31.0</td>\n    </tr>\n    <tr>\n      <th>1</th>\n      <td>AL</td>\n      <td>Baldwin</td>\n      <td>Baldwin County, Alabama</td>\n      <td>0.016696</td>\n      <td>0.460808</td>\n      <td>0.317366</td>\n      <td>0.156746</td>\n      <td>0.030529</td>\n      <td>0.017855</td>\n      <td>0.3</td>\n      <td>...</td>\n      <td>3.1</td>\n      <td>0.5</td>\n      <td>1.0</td>\n      <td>17291</td>\n      <td>12.9</td>\n      <td>12.9</td>\n      <td>16.7</td>\n      <td>9.6</td>\n      <td>10.5</td>\n      <td>37.3</td>\n    </tr>\n    <tr>\n      <th>2</th>\n      <td>AL</td>\n      <td>Barbour</td>\n      <td>Barbour County, Alabama</td>\n      <td>0.000000</td>\n      <td>0.171020</td>\n      <td>0.400188</td>\n      <td>0.253661</td>\n      <td>0.104736</td>\n      <td>0.070395</td>\n      <td>0.2</td>\n      <td>...</td>\n      <td>0.4</td>\n      <td>0.0</td>\n      <td>0.0</td>\n      <td>2807</td>\n      <td>14.4</td>\n      <td>17.7</td>\n      <td>16.2</td>\n      <td>9.4</td>\n      <td>7.1</td>\n      <td>35.2</td>\n    </tr>\n    <tr>\n      <th>3</th>\n      <td>AL</td>\n      <td>Bibb</td>\n      <td>Bibb County, Alabama</td>\n      <td>0.000000</td>\n      <td>0.269087</td>\n      <td>0.378022</td>\n      <td>0.226947</td>\n      <td>0.060487</td>\n      <td>0.065456</td>\n      <td>0.7</td>\n      <td>...</td>\n      <td>0.0</td>\n      <td>0.0</td>\n      <td>0.0</td>\n      <td>1187</td>\n      <td>24.8</td>\n      <td>1.7</td>\n      <td>17.4</td>\n      <td>7.6</td>\n      <td>1.5</td>\n      <td>47.1</td>\n    </tr>\n    <tr>\n      <th>4</th>\n      <td>AL</td>\n      <td>Blount</td>\n      <td>Blount County, Alabama</td>\n      <td>0.003596</td>\n      <td>0.272173</td>\n      <td>0.367732</td>\n      <td>0.221302</td>\n      <td>0.092610</td>\n      <td>0.042588</td>\n      <td>0.6</td>\n      <td>...</td>\n      <td>0.7</td>\n      <td>0.0</td>\n      <td>0.2</td>\n      <td>3385</td>\n      <td>16.9</td>\n      <td>16.1</td>\n      <td>12.3</td>\n      <td>9.8</td>\n      <td>7.0</td>\n      <td>37.9</td>\n    </tr>\n  </tbody>\n</table>\n<p>5 rows × 72 columns</p>\n</div>"
     },
     "execution_count": 196,
     "metadata": {},
     "output_type": "execute_result"
    }
   ],
   "source": [
    "sub_data_arr[0].head()"
   ],
   "metadata": {
    "collapsed": false,
    "ExecuteTime": {
     "end_time": "2025-03-08T00:56:42.834611Z",
     "start_time": "2025-03-08T00:56:42.826303Z"
    }
   },
   "id": "502b2c5bf849d7ec",
   "execution_count": 196
  },
  {
   "cell_type": "code",
   "outputs": [],
   "source": [
    "# export to csv file\n",
    "file_names = [\"house_df.csv\", \"insecurity_df.csv\", \"insurance_df.csv\", \"parent_df.csv\", \"poverty_df.csv\"]\n",
    "file_paths = [f\"data/cleaned/{file}\" for file in file_names]\n",
    "\n",
    "for df, path in zip(sub_data_arr, file_paths):\n",
    "    df.to_csv(path, index=False)"
   ],
   "metadata": {
    "collapsed": false,
    "ExecuteTime": {
     "end_time": "2025-03-08T00:56:42.939122Z",
     "start_time": "2025-03-08T00:56:42.839084Z"
    }
   },
   "id": "edbc1876f62b596f",
   "execution_count": 197
  },
  {
   "cell_type": "markdown",
   "source": [
    "## 4. Merge sub data and main data"
   ],
   "metadata": {
    "collapsed": false
   },
   "id": "8bcf8931a45d7fe9"
  },
  {
   "cell_type": "code",
   "outputs": [],
   "source": [
    "# Drop the same columns\n",
    "for i in range(len(sub_data_arr)):\n",
    "    sub_data_arr[i] = sub_data_arr[i].drop(columns=[\"Geographic Area Name\"], errors=\"ignore\")"
   ],
   "metadata": {
    "collapsed": false,
    "ExecuteTime": {
     "end_time": "2025-03-08T00:56:42.944618Z",
     "start_time": "2025-03-08T00:56:42.940566Z"
    }
   },
   "id": "e2379f0659fce94d",
   "execution_count": 198
  },
  {
   "cell_type": "markdown",
   "source": [
    "Merged all sub data"
   ],
   "metadata": {
    "collapsed": false
   },
   "id": "6bb00a05782661db"
  },
  {
   "cell_type": "code",
   "outputs": [
    {
     "data": {
      "text/plain": "(1905, 108)"
     },
     "execution_count": 199,
     "metadata": {},
     "output_type": "execute_result"
    }
   ],
   "source": [
    "merged_sub_df = sub_data_arr[0].copy()\n",
    "\n",
    "for df in sub_data_arr[1:]:\n",
    "    merged_sub_df = merged_sub_df.merge(df, on=[\"State\", \"County\"], how=\"outer\", suffixes=(\"\", \"_dup\"))\n",
    "\n",
    "merged_sub_df.shape"
   ],
   "metadata": {
    "collapsed": false,
    "ExecuteTime": {
     "end_time": "2025-03-08T00:56:42.961902Z",
     "start_time": "2025-03-08T00:56:42.945301Z"
    }
   },
   "id": "5b5ca06302b9d791",
   "execution_count": 199
  },
  {
   "cell_type": "code",
   "outputs": [
    {
     "data": {
      "text/plain": "     State                        County  \\\n0       AK        Anchorage Municipality   \n1       AK  Fairbanks North Star Borough   \n2       AK       Juneau City and Borough   \n3       AK       Kenai Peninsula Borough   \n4       AK     Matanuska-Susitna Borough   \n...    ...                           ...   \n1900    WY                      Sheridan   \n1901    WY                    Sweetwater   \n1902    WY                         Teton   \n1903    WY                         Uinta   \n1904   NaN          District of Columbia   \n\n      Estimate!!Total:!!Built 2020 or later  \\\n0                                  0.000326   \n1                                  0.003117   \n2                                  0.002045   \n3                                  0.001069   \n4                                  0.008721   \n...                                     ...   \n1900                               0.006586   \n1901                               0.003435   \n1902                               0.007213   \n1903                               0.000000   \n1904                               0.009357   \n\n      Estimate!!Total:!!Built 2000 to 2019  \\\n0                                 0.215929   \n1                                 0.236051   \n2                                 0.186389   \n3                                 0.330991   \n4                                 0.443480   \n...                                    ...   \n1900                              0.325381   \n1901                              0.241191   \n1902                              0.216882   \n1903                              0.114167   \n1904                              0.194494   \n\n      Estimate!!Total:!!Built 1980 to 1999  \\\n0                                 0.334001   \n1                                 0.383170   \n2                                 0.323202   \n3                                 0.372449   \n4                                 0.357209   \n...                                    ...   \n1900                              0.204220   \n1901                              0.235153   \n1902                              0.470328   \n1903                              0.464446   \n1904                              0.068664   \n\n      Estimate!!Total:!!Built 1960 to 1979  \\\n0                                 0.386443   \n1                                 0.304361   \n2                                 0.362412   \n3                                 0.251864   \n4                                 0.151503   \n...                                    ...   \n1900                              0.187891   \n1901                              0.311352   \n1902                              0.197886   \n1903                              0.238523   \n1904                              0.181769   \n\n      Estimate!!Total:!!Built 1940 to 1959  \\\n0                                 0.055647   \n1                                 0.062920   \n2                                 0.049224   \n3                                 0.041122   \n4                                 0.032107   \n...                                    ...   \n1900                              0.143875   \n1901                              0.079634   \n1902                              0.060916   \n1903                              0.093459   \n1904                              0.223941   \n\n      Estimate!!Total:!!Built 1939 or earlier  \\\n0                                    0.007654   \n1                                    0.010381   \n2                                    0.076728   \n3                                    0.002505   \n4                                    0.006981   \n...                                       ...   \n1900                                 0.132048   \n1901                                 0.129235   \n1902                                 0.046776   \n1903                                 0.089405   \n1904                                 0.321776   \n\n      Percent!!SELECTED CHARACTERISTICS!!Occupied housing units!!Lacking complete plumbing facilities  \\\n0                                                   0.8                                                 \n1                                                   5.6                                                 \n2                                                   0.5                                                 \n3                                                   3.2                                                 \n4                                                   2.8                                                 \n...                                                 ...                                                 \n1900                                                1.8                                                 \n1901                                                0.2                                                 \n1902                                                0.0                                                 \n1903                                                0.4                                                 \n1904                                                0.3                                                 \n\n      Percent Margin of Error!!SELECTED CHARACTERISTICS!!Occupied housing units!!Lacking complete plumbing facilities  \\\n0                                                   0.3                                                                 \n1                                                   1.3                                                                 \n2                                                   0.4                                                                 \n3                                                   0.6                                                                 \n4                                                   0.3                                                                 \n...                                                 ...                                                                 \n1900                                                1.4                                                                 \n1901                                                0.2                                                                 \n1902                                                0.4                                                                 \n1903                                                0.6                                                                 \n1904                                                0.1                                                                 \n\n      ...  \\\n0     ...   \n1     ...   \n2     ...   \n3     ...   \n4     ...   \n...   ...   \n1900  ...   \n1901  ...   \n1902  ...   \n1903  ...   \n1904  ...   \n\n      Estimate!!Total:!!Natural resources, construction, and maintenance occupations  \\\n0                                              0.081916                                \n1                                              0.105975                                \n2                                              0.090361                                \n3                                              0.126697                                \n4                                              0.147371                                \n...                                                 ...                                \n1900                                           0.104936                                \n1901                                           0.195438                                \n1902                                           0.064701                                \n1903                                           0.214531                                \n1904                                           0.019933                                \n\n      Estimate!!Total:!!Production, transportation, and material moving occupations  \\\n0                                              0.129813                               \n1                                              0.129050                               \n2                                              0.077469                               \n3                                              0.134527                               \n4                                              0.115988                               \n...                                                 ...                               \n1900                                           0.116313                               \n1901                                           0.122657                               \n1902                                           0.013272                               \n1903                                           0.110490                               \n1904                                           0.037305                               \n\n     Estimate!!Total:!!Income in the past 12 months below poverty level:  \\\n0                                              0.090879                    \n1                                              0.063963                    \n2                                              0.065572                    \n3                                              0.116743                    \n4                                              0.110347                    \n...                                                 ...                    \n1900                                           0.088657                    \n1901                                           0.094259                    \n1902                                           0.076713                    \n1903                                           0.058630                    \n1904                                           0.164719                    \n\n     Estimate!!Total:!!Income in the past 12 months below poverty level:!!Under 18 years  \\\n0                                              0.029282                                    \n1                                              0.005155                                    \n2                                              0.022861                                    \n3                                              0.027977                                    \n4                                              0.036127                                    \n...                                                 ...                                    \n1900                                           0.008984                                    \n1901                                           0.014067                                    \n1902                                           0.025096                                    \n1903                                           0.006730                                    \n1904                                           0.045896                                    \n\n      Estimate!!Total:!!Income in the past 12 months below poverty level:!!18 to 64 years  \\\n0                                              0.052536                                     \n1                                              0.046028                                     \n2                                              0.040205                                     \n3                                              0.073556                                     \n4                                              0.064669                                     \n...                                                 ...                                     \n1900                                           0.061832                                     \n1901                                           0.062085                                     \n1902                                           0.048440                                     \n1903                                           0.032406                                     \n1904                                           0.100737                                     \n\n      Estimate!!Total:!!Income in the past 12 months below poverty level:!!65 years and over  \\\n0                                              0.009061                                        \n1                                              0.012779                                        \n2                                              0.002505                                        \n3                                              0.015210                                        \n4                                              0.009551                                        \n...                                                 ...                                        \n1900                                           0.017841                                        \n1901                                           0.018107                                        \n1902                                           0.003178                                        \n1903                                           0.019493                                        \n1904                                           0.018087                                        \n\n     Estimate!!Total:!!Income in the past 12 months at or above poverty level:  \\\n0                                              0.909121                          \n1                                              0.936037                          \n2                                              0.934428                          \n3                                              0.883257                          \n4                                              0.889653                          \n...                                                 ...                          \n1900                                           0.911343                          \n1901                                           0.905741                          \n1902                                           0.923287                          \n1903                                           0.941370                          \n1904                                           0.835281                          \n\n     Estimate!!Total:!!Income in the past 12 months at or above poverty level:!!Under 18 years  \\\n0                                              0.213045                                          \n1                                              0.236431                                          \n2                                              0.178039                                          \n3                                              0.193786                                          \n4                                              0.221412                                          \n...                                                 ...                                          \n1900                                           0.229296                                          \n1901                                           0.236511                                          \n1902                                           0.159985                                          \n1903                                           0.240951                                          \n1904                                           0.146402                                          \n\n     Estimate!!Total:!!Income in the past 12 months at or above poverty level:!!18 to 64 years  \\\n0                                              0.577913                                          \n1                                              0.583356                                          \n2                                              0.618714                                          \n3                                              0.512040                                          \n4                                              0.542426                                          \n...                                                 ...                                          \n1900                                           0.484486                                          \n1901                                           0.557448                                          \n1902                                           0.566284                                          \n1903                                           0.545917                                          \n1904                                           0.575600                                          \n\n     Estimate!!Total:!!Income in the past 12 months at or above poverty level:!!65 years and over  \n0                                              0.118162                                            \n1                                              0.116250                                            \n2                                              0.137675                                            \n3                                              0.177431                                            \n4                                              0.125815                                            \n...                                                 ...                                            \n1900                                           0.197561                                            \n1901                                           0.111782                                            \n1902                                           0.197018                                            \n1903                                           0.154502                                            \n1904                                           0.113278                                            \n\n[1905 rows x 108 columns]",
      "text/html": "<div>\n<style scoped>\n    .dataframe tbody tr th:only-of-type {\n        vertical-align: middle;\n    }\n\n    .dataframe tbody tr th {\n        vertical-align: top;\n    }\n\n    .dataframe thead th {\n        text-align: right;\n    }\n</style>\n<table border=\"1\" class=\"dataframe\">\n  <thead>\n    <tr style=\"text-align: right;\">\n      <th></th>\n      <th>State</th>\n      <th>County</th>\n      <th>Estimate!!Total:!!Built 2020 or later</th>\n      <th>Estimate!!Total:!!Built 2000 to 2019</th>\n      <th>Estimate!!Total:!!Built 1980 to 1999</th>\n      <th>Estimate!!Total:!!Built 1960 to 1979</th>\n      <th>Estimate!!Total:!!Built 1940 to 1959</th>\n      <th>Estimate!!Total:!!Built 1939 or earlier</th>\n      <th>Percent!!SELECTED CHARACTERISTICS!!Occupied housing units!!Lacking complete plumbing facilities</th>\n      <th>Percent Margin of Error!!SELECTED CHARACTERISTICS!!Occupied housing units!!Lacking complete plumbing facilities</th>\n      <th>...</th>\n      <th>Estimate!!Total:!!Natural resources, construction, and maintenance occupations</th>\n      <th>Estimate!!Total:!!Production, transportation, and material moving occupations</th>\n      <th>Estimate!!Total:!!Income in the past 12 months below poverty level:</th>\n      <th>Estimate!!Total:!!Income in the past 12 months below poverty level:!!Under 18 years</th>\n      <th>Estimate!!Total:!!Income in the past 12 months below poverty level:!!18 to 64 years</th>\n      <th>Estimate!!Total:!!Income in the past 12 months below poverty level:!!65 years and over</th>\n      <th>Estimate!!Total:!!Income in the past 12 months at or above poverty level:</th>\n      <th>Estimate!!Total:!!Income in the past 12 months at or above poverty level:!!Under 18 years</th>\n      <th>Estimate!!Total:!!Income in the past 12 months at or above poverty level:!!18 to 64 years</th>\n      <th>Estimate!!Total:!!Income in the past 12 months at or above poverty level:!!65 years and over</th>\n    </tr>\n  </thead>\n  <tbody>\n    <tr>\n      <th>0</th>\n      <td>AK</td>\n      <td>Anchorage Municipality</td>\n      <td>0.000326</td>\n      <td>0.215929</td>\n      <td>0.334001</td>\n      <td>0.386443</td>\n      <td>0.055647</td>\n      <td>0.007654</td>\n      <td>0.8</td>\n      <td>0.3</td>\n      <td>...</td>\n      <td>0.081916</td>\n      <td>0.129813</td>\n      <td>0.090879</td>\n      <td>0.029282</td>\n      <td>0.052536</td>\n      <td>0.009061</td>\n      <td>0.909121</td>\n      <td>0.213045</td>\n      <td>0.577913</td>\n      <td>0.118162</td>\n    </tr>\n    <tr>\n      <th>1</th>\n      <td>AK</td>\n      <td>Fairbanks North Star Borough</td>\n      <td>0.003117</td>\n      <td>0.236051</td>\n      <td>0.383170</td>\n      <td>0.304361</td>\n      <td>0.062920</td>\n      <td>0.010381</td>\n      <td>5.6</td>\n      <td>1.3</td>\n      <td>...</td>\n      <td>0.105975</td>\n      <td>0.129050</td>\n      <td>0.063963</td>\n      <td>0.005155</td>\n      <td>0.046028</td>\n      <td>0.012779</td>\n      <td>0.936037</td>\n      <td>0.236431</td>\n      <td>0.583356</td>\n      <td>0.116250</td>\n    </tr>\n    <tr>\n      <th>2</th>\n      <td>AK</td>\n      <td>Juneau City and Borough</td>\n      <td>0.002045</td>\n      <td>0.186389</td>\n      <td>0.323202</td>\n      <td>0.362412</td>\n      <td>0.049224</td>\n      <td>0.076728</td>\n      <td>0.5</td>\n      <td>0.4</td>\n      <td>...</td>\n      <td>0.090361</td>\n      <td>0.077469</td>\n      <td>0.065572</td>\n      <td>0.022861</td>\n      <td>0.040205</td>\n      <td>0.002505</td>\n      <td>0.934428</td>\n      <td>0.178039</td>\n      <td>0.618714</td>\n      <td>0.137675</td>\n    </tr>\n    <tr>\n      <th>3</th>\n      <td>AK</td>\n      <td>Kenai Peninsula Borough</td>\n      <td>0.001069</td>\n      <td>0.330991</td>\n      <td>0.372449</td>\n      <td>0.251864</td>\n      <td>0.041122</td>\n      <td>0.002505</td>\n      <td>3.2</td>\n      <td>0.6</td>\n      <td>...</td>\n      <td>0.126697</td>\n      <td>0.134527</td>\n      <td>0.116743</td>\n      <td>0.027977</td>\n      <td>0.073556</td>\n      <td>0.015210</td>\n      <td>0.883257</td>\n      <td>0.193786</td>\n      <td>0.512040</td>\n      <td>0.177431</td>\n    </tr>\n    <tr>\n      <th>4</th>\n      <td>AK</td>\n      <td>Matanuska-Susitna Borough</td>\n      <td>0.008721</td>\n      <td>0.443480</td>\n      <td>0.357209</td>\n      <td>0.151503</td>\n      <td>0.032107</td>\n      <td>0.006981</td>\n      <td>2.8</td>\n      <td>0.3</td>\n      <td>...</td>\n      <td>0.147371</td>\n      <td>0.115988</td>\n      <td>0.110347</td>\n      <td>0.036127</td>\n      <td>0.064669</td>\n      <td>0.009551</td>\n      <td>0.889653</td>\n      <td>0.221412</td>\n      <td>0.542426</td>\n      <td>0.125815</td>\n    </tr>\n    <tr>\n      <th>...</th>\n      <td>...</td>\n      <td>...</td>\n      <td>...</td>\n      <td>...</td>\n      <td>...</td>\n      <td>...</td>\n      <td>...</td>\n      <td>...</td>\n      <td>...</td>\n      <td>...</td>\n      <td>...</td>\n      <td>...</td>\n      <td>...</td>\n      <td>...</td>\n      <td>...</td>\n      <td>...</td>\n      <td>...</td>\n      <td>...</td>\n      <td>...</td>\n      <td>...</td>\n      <td>...</td>\n    </tr>\n    <tr>\n      <th>1900</th>\n      <td>WY</td>\n      <td>Sheridan</td>\n      <td>0.006586</td>\n      <td>0.325381</td>\n      <td>0.204220</td>\n      <td>0.187891</td>\n      <td>0.143875</td>\n      <td>0.132048</td>\n      <td>1.8</td>\n      <td>1.4</td>\n      <td>...</td>\n      <td>0.104936</td>\n      <td>0.116313</td>\n      <td>0.088657</td>\n      <td>0.008984</td>\n      <td>0.061832</td>\n      <td>0.017841</td>\n      <td>0.911343</td>\n      <td>0.229296</td>\n      <td>0.484486</td>\n      <td>0.197561</td>\n    </tr>\n    <tr>\n      <th>1901</th>\n      <td>WY</td>\n      <td>Sweetwater</td>\n      <td>0.003435</td>\n      <td>0.241191</td>\n      <td>0.235153</td>\n      <td>0.311352</td>\n      <td>0.079634</td>\n      <td>0.129235</td>\n      <td>0.2</td>\n      <td>0.2</td>\n      <td>...</td>\n      <td>0.195438</td>\n      <td>0.122657</td>\n      <td>0.094259</td>\n      <td>0.014067</td>\n      <td>0.062085</td>\n      <td>0.018107</td>\n      <td>0.905741</td>\n      <td>0.236511</td>\n      <td>0.557448</td>\n      <td>0.111782</td>\n    </tr>\n    <tr>\n      <th>1902</th>\n      <td>WY</td>\n      <td>Teton</td>\n      <td>0.007213</td>\n      <td>0.216882</td>\n      <td>0.470328</td>\n      <td>0.197886</td>\n      <td>0.060916</td>\n      <td>0.046776</td>\n      <td>0.0</td>\n      <td>0.4</td>\n      <td>...</td>\n      <td>0.064701</td>\n      <td>0.013272</td>\n      <td>0.076713</td>\n      <td>0.025096</td>\n      <td>0.048440</td>\n      <td>0.003178</td>\n      <td>0.923287</td>\n      <td>0.159985</td>\n      <td>0.566284</td>\n      <td>0.197018</td>\n    </tr>\n    <tr>\n      <th>1903</th>\n      <td>WY</td>\n      <td>Uinta</td>\n      <td>0.000000</td>\n      <td>0.114167</td>\n      <td>0.464446</td>\n      <td>0.238523</td>\n      <td>0.093459</td>\n      <td>0.089405</td>\n      <td>0.4</td>\n      <td>0.6</td>\n      <td>...</td>\n      <td>0.214531</td>\n      <td>0.110490</td>\n      <td>0.058630</td>\n      <td>0.006730</td>\n      <td>0.032406</td>\n      <td>0.019493</td>\n      <td>0.941370</td>\n      <td>0.240951</td>\n      <td>0.545917</td>\n      <td>0.154502</td>\n    </tr>\n    <tr>\n      <th>1904</th>\n      <td>NaN</td>\n      <td>District of Columbia</td>\n      <td>0.009357</td>\n      <td>0.194494</td>\n      <td>0.068664</td>\n      <td>0.181769</td>\n      <td>0.223941</td>\n      <td>0.321776</td>\n      <td>0.3</td>\n      <td>0.1</td>\n      <td>...</td>\n      <td>0.019933</td>\n      <td>0.037305</td>\n      <td>0.164719</td>\n      <td>0.045896</td>\n      <td>0.100737</td>\n      <td>0.018087</td>\n      <td>0.835281</td>\n      <td>0.146402</td>\n      <td>0.575600</td>\n      <td>0.113278</td>\n    </tr>\n  </tbody>\n</table>\n<p>1905 rows × 108 columns</p>\n</div>"
     },
     "execution_count": 200,
     "metadata": {},
     "output_type": "execute_result"
    }
   ],
   "source": [
    "merged_sub_df"
   ],
   "metadata": {
    "collapsed": false,
    "ExecuteTime": {
     "end_time": "2025-03-08T00:56:42.974762Z",
     "start_time": "2025-03-08T00:56:42.963448Z"
    }
   },
   "id": "561c1b7d2f3345b1",
   "execution_count": 200
  },
  {
   "cell_type": "code",
   "outputs": [
    {
     "data": {
      "text/plain": "   Only in Lead States Only in Merged States\n0                  NaN                    WY\n1                  NaN                    NM\n2                  NaN                    AZ\n3                  NaN                    TN\n4                  NaN                    KY\n5                  NaN                    OR\n6                  NaN                    IN\n7                  NaN                    AR\n8                  NaN                    VT\n9                  NaN                    TX\n10                 NaN                    ID\n11                 NaN                    MT\n12                 NaN                    PR\n13                 NaN                    CA\n14                 NaN                    PA\n15                 NaN                    UT\n16                 NaN                    SD\n17                 NaN                    OH\n18                 NaN                    CO\n19                 NaN                    MA\n20                 NaN                    ND\n21                 NaN                    MN\n22                 NaN                    ME\n23                 NaN                    NE\n24                 NaN                    VA",
      "text/html": "<div>\n<style scoped>\n    .dataframe tbody tr th:only-of-type {\n        vertical-align: middle;\n    }\n\n    .dataframe tbody tr th {\n        vertical-align: top;\n    }\n\n    .dataframe thead th {\n        text-align: right;\n    }\n</style>\n<table border=\"1\" class=\"dataframe\">\n  <thead>\n    <tr style=\"text-align: right;\">\n      <th></th>\n      <th>Only in Lead States</th>\n      <th>Only in Merged States</th>\n    </tr>\n  </thead>\n  <tbody>\n    <tr>\n      <th>0</th>\n      <td>NaN</td>\n      <td>WY</td>\n    </tr>\n    <tr>\n      <th>1</th>\n      <td>NaN</td>\n      <td>NM</td>\n    </tr>\n    <tr>\n      <th>2</th>\n      <td>NaN</td>\n      <td>AZ</td>\n    </tr>\n    <tr>\n      <th>3</th>\n      <td>NaN</td>\n      <td>TN</td>\n    </tr>\n    <tr>\n      <th>4</th>\n      <td>NaN</td>\n      <td>KY</td>\n    </tr>\n    <tr>\n      <th>5</th>\n      <td>NaN</td>\n      <td>OR</td>\n    </tr>\n    <tr>\n      <th>6</th>\n      <td>NaN</td>\n      <td>IN</td>\n    </tr>\n    <tr>\n      <th>7</th>\n      <td>NaN</td>\n      <td>AR</td>\n    </tr>\n    <tr>\n      <th>8</th>\n      <td>NaN</td>\n      <td>VT</td>\n    </tr>\n    <tr>\n      <th>9</th>\n      <td>NaN</td>\n      <td>TX</td>\n    </tr>\n    <tr>\n      <th>10</th>\n      <td>NaN</td>\n      <td>ID</td>\n    </tr>\n    <tr>\n      <th>11</th>\n      <td>NaN</td>\n      <td>MT</td>\n    </tr>\n    <tr>\n      <th>12</th>\n      <td>NaN</td>\n      <td>PR</td>\n    </tr>\n    <tr>\n      <th>13</th>\n      <td>NaN</td>\n      <td>CA</td>\n    </tr>\n    <tr>\n      <th>14</th>\n      <td>NaN</td>\n      <td>PA</td>\n    </tr>\n    <tr>\n      <th>15</th>\n      <td>NaN</td>\n      <td>UT</td>\n    </tr>\n    <tr>\n      <th>16</th>\n      <td>NaN</td>\n      <td>SD</td>\n    </tr>\n    <tr>\n      <th>17</th>\n      <td>NaN</td>\n      <td>OH</td>\n    </tr>\n    <tr>\n      <th>18</th>\n      <td>NaN</td>\n      <td>CO</td>\n    </tr>\n    <tr>\n      <th>19</th>\n      <td>NaN</td>\n      <td>MA</td>\n    </tr>\n    <tr>\n      <th>20</th>\n      <td>NaN</td>\n      <td>ND</td>\n    </tr>\n    <tr>\n      <th>21</th>\n      <td>NaN</td>\n      <td>MN</td>\n    </tr>\n    <tr>\n      <th>22</th>\n      <td>NaN</td>\n      <td>ME</td>\n    </tr>\n    <tr>\n      <th>23</th>\n      <td>NaN</td>\n      <td>NE</td>\n    </tr>\n    <tr>\n      <th>24</th>\n      <td>NaN</td>\n      <td>VA</td>\n    </tr>\n  </tbody>\n</table>\n</div>"
     },
     "execution_count": 209,
     "metadata": {},
     "output_type": "execute_result"
    }
   ],
   "source": [
    "# \"Lead States\"와 \"Merged States\"의 차이를 찾기\n",
    "lead_df[\"State\"] = lead_df[\"State\"].str.strip()\n",
    "lead_df[\"County\"] = lead_df[\"County\"].str.strip()\n",
    "\n",
    "merged_sub_df[\"State\"] = merged_sub_df[\"State\"].str.strip()\n",
    "merged_sub_df[\"County\"] = merged_sub_df[\"County\"].str.strip()\n",
    "\n",
    "lead_states = sorted(lead_df[\"State\"].dropna().unique())\n",
    "merged_states = sorted(merged_sub_df[\"State\"].dropna().unique())\n",
    "\n",
    "lead_states_set = set(lead_states)\n",
    "merged_states_set = set(merged_states)\n",
    "\n",
    "only_in_lead = lead_states_set - merged_states_set\n",
    "only_in_merged = merged_states_set - lead_states_set\n",
    "\n",
    "state_difference_df = pd.DataFrame({\n",
    "    \"Only in Lead States\": pd.Series(list(only_in_lead)),\n",
    "    \"Only in Merged States\": pd.Series(list(only_in_merged))\n",
    "})\n",
    "\n",
    "state_difference_df"
   ],
   "metadata": {
    "collapsed": false,
    "ExecuteTime": {
     "end_time": "2025-03-08T01:04:45.628324Z",
     "start_time": "2025-03-08T01:04:45.604235Z"
    }
   },
   "id": "3d92e77f894a59b9",
   "execution_count": 209
  },
  {
   "cell_type": "markdown",
   "source": [
    "Merged with main data"
   ],
   "metadata": {
    "collapsed": false
   },
   "id": "93ed91c2d6b1e689"
  },
  {
   "cell_type": "code",
   "outputs": [
    {
     "data": {
      "text/plain": "(863, 120)"
     },
     "execution_count": 210,
     "metadata": {},
     "output_type": "execute_result"
    }
   ],
   "source": [
    "# inner join\n",
    "final_merged_df = lead_df.merge(merged_sub_df, on=[\"State\", \"County\"], how=\"inner\")\n",
    "\n",
    "final_merged_df.shape"
   ],
   "metadata": {
    "collapsed": false,
    "ExecuteTime": {
     "end_time": "2025-03-08T01:04:54.471558Z",
     "start_time": "2025-03-08T01:04:54.463805Z"
    }
   },
   "id": "8b7b76f4ed56650",
   "execution_count": 210
  },
  {
   "cell_type": "code",
   "outputs": [
    {
     "data": {
      "text/plain": "    State     County  Total Population of Children <72 Months of Age  \\\n0      AL    Autauga                                            4045   \n1      AL    Baldwin                                           14651   \n2      AL    Barbour                                            1571   \n3      AL       Bibb                                            1459   \n4      AL     Blount                                            4148   \n..    ...        ...                                             ...   \n858    WI   Waukesha                                           25345   \n859    WI    Waupaca                                            3146   \n860    WI   Waushara                                            1319   \n861    WI  Winnebago                                           11181   \n862    WI       Wood                                            4933   \n\n    Number of Children Tested <72 Months of Age  \\\n0                                           238   \n1                                           552   \n2                                           268   \n3                                           105   \n4                                           365   \n..                                          ...   \n858                                        2922   \n859                                         299   \n860                                         124   \n861                                        1143   \n862                                         729   \n\n    Number of Children with Confirmed BLLs ³5 µg/dL  \\\n0                                                SD   \n1                                                SD   \n2                                                SD   \n3                                                SD   \n4                                                 0   \n..                                              ...   \n858                                              20   \n859                                              SD   \n860                                              SD   \n861                                              25   \n862                                               9   \n\n    Percent of Children with Confirmed BLLs ³5 µg/dL  \\\n0                                                 SD   \n1                                                 SD   \n2                                                 SD   \n3                                                 SD   \n4                                              0.00%   \n..                                               ...   \n858                                            0.70%   \n859                                               SD   \n860                                               SD   \n861                                            2.20%   \n862                                            1.20%   \n\n    Number of Children with Confirmed BLLs ³10 µg/dL  \\\n0                                                 SD   \n1                                                  0   \n2                                                 SD   \n3                                                 SD   \n4                                                  0   \n..                                               ...   \n858                                               SD   \n859                                               SD   \n860                                               SD   \n861                                                8   \n862                                               SD   \n\n    Percent of Children with Confirmed BLLs ³10 µg/dL  \\\n0                                                  SD   \n1                                               0.00%   \n2                                                  SD   \n3                                                  SD   \n4                                               0.00%   \n..                                                ...   \n858                                                SD   \n859                                                SD   \n860                                                SD   \n861                                             0.70%   \n862                                                SD   \n\n    Number of Children with Confirmed BLLs 5-9 µg/dL  \\\n0                                                  0   \n1                                                 SD   \n2                                                  0   \n3                                                  0   \n4                                                  0   \n..                                               ...   \n858                                               15   \n859                                               SD   \n860                                                0   \n861                                               17   \n862                                                7   \n\n    Number of Children with Confirmed BLLs 10-14 µg/dL  ...  \\\n0                                                   SD  ...   \n1                                                    0  ...   \n2                                                   SD  ...   \n3                                                   SD  ...   \n4                                                    0  ...   \n..                                                 ...  ...   \n858                                                 SD  ...   \n859                                                 SD  ...   \n860                                                 SD  ...   \n861                                                 SD  ...   \n862                                                  0  ...   \n\n    Estimate!!Total:!!Natural resources, construction, and maintenance occupations  \\\n0                                             0.119030                               \n1                                             0.090288                               \n2                                             0.120532                               \n3                                             0.237802                               \n4                                             0.197809                               \n..                                                 ...                               \n858                                           0.067862                               \n859                                           0.125690                               \n860                                           0.125256                               \n861                                           0.066334                               \n862                                           0.106819                               \n\n    Estimate!!Total:!!Production, transportation, and material moving occupations  \\\n0                                             0.183185                              \n1                                             0.136741                              \n2                                             0.205016                              \n3                                             0.176709                              \n4                                             0.158816                              \n..                                                 ...                              \n858                                           0.107115                              \n859                                           0.275422                              \n860                                           0.238211                              \n861                                           0.226256                              \n862                                           0.198874                              \n\n    Estimate!!Total:!!Income in the past 12 months below poverty level:  \\\n0                                             0.062251                    \n1                                             0.107568                    \n2                                             0.120990                    \n3                                             0.203955                    \n4                                             0.100099                    \n..                                                 ...                    \n858                                           0.048959                    \n859                                           0.103782                    \n860                                           0.136310                    \n861                                           0.117332                    \n862                                           0.127305                    \n\n    Estimate!!Total:!!Income in the past 12 months below poverty level:!!Under 18 years  \\\n0                                             0.013788                                    \n1                                             0.036675                                    \n2                                             0.035159                                    \n3                                             0.088238                                    \n4                                             0.024665                                    \n..                                                 ...                                    \n858                                           0.011425                                    \n859                                           0.029997                                    \n860                                           0.046290                                    \n861                                           0.027609                                    \n862                                           0.033528                                    \n\n     Estimate!!Total:!!Income in the past 12 months below poverty level:!!18 to 64 years  \\\n0                                             0.042303                                     \n1                                             0.059861                                     \n2                                             0.069537                                     \n3                                             0.112653                                     \n4                                             0.061071                                     \n..                                                 ...                                     \n858                                           0.025039                                     \n859                                           0.049696                                     \n860                                           0.069204                                     \n861                                           0.074094                                     \n862                                           0.076500                                     \n\n     Estimate!!Total:!!Income in the past 12 months below poverty level:!!65 years and over  \\\n0                                             0.006160                                        \n1                                             0.011033                                        \n2                                             0.016294                                        \n3                                             0.003063                                        \n4                                             0.014364                                        \n..                                                 ...                                        \n858                                           0.012495                                        \n859                                           0.024089                                        \n860                                           0.020816                                        \n861                                           0.015629                                        \n862                                           0.017276                                        \n\n     Estimate!!Total:!!Income in the past 12 months at or above poverty level:  \\\n0                                             0.937749                           \n1                                             0.892432                           \n2                                             0.879010                           \n3                                             0.796045                           \n4                                             0.899901                           \n..                                                 ...                           \n858                                           0.951041                           \n859                                           0.896218                           \n860                                           0.863690                           \n861                                           0.882668                           \n862                                           0.872695                           \n\n     Estimate!!Total:!!Income in the past 12 months at or above poverty level:!!Under 18 years  \\\n0                                             0.218426                                           \n1                                             0.174124                                           \n2                                             0.200303                                           \n3                                             0.111586                                           \n4                                             0.202324                                           \n..                                                 ...                                           \n858                                           0.200399                                           \n859                                           0.175392                                           \n860                                           0.141262                                           \n861                                           0.178577                                           \n862                                           0.177330                                           \n\n     Estimate!!Total:!!Income in the past 12 months at or above poverty level:!!18 to 64 years  \\\n0                                             0.567738                                           \n1                                             0.515682                                           \n2                                             0.491164                                           \n3                                             0.501439                                           \n4                                             0.532138                                           \n..                                                 ...                                           \n858                                           0.567411                                           \n859                                           0.546213                                           \n860                                           0.484724                                           \n861                                           0.546233                                           \n862                                           0.503807                                           \n\n     Estimate!!Total:!!Income in the past 12 months at or above poverty level:!!65 years and over  \n0                                             0.151584                                             \n1                                             0.202625                                             \n2                                             0.187543                                             \n3                                             0.183021                                             \n4                                             0.165438                                             \n..                                                 ...                                             \n858                                           0.183231                                             \n859                                           0.174613                                             \n860                                           0.237704                                             \n861                                           0.157858                                             \n862                                           0.191559                                             \n\n[863 rows x 120 columns]",
      "text/html": "<div>\n<style scoped>\n    .dataframe tbody tr th:only-of-type {\n        vertical-align: middle;\n    }\n\n    .dataframe tbody tr th {\n        vertical-align: top;\n    }\n\n    .dataframe thead th {\n        text-align: right;\n    }\n</style>\n<table border=\"1\" class=\"dataframe\">\n  <thead>\n    <tr style=\"text-align: right;\">\n      <th></th>\n      <th>State</th>\n      <th>County</th>\n      <th>Total Population of Children &lt;72 Months of Age</th>\n      <th>Number of Children Tested &lt;72 Months of Age</th>\n      <th>Number of Children with Confirmed BLLs ³5 µg/dL</th>\n      <th>Percent of Children with Confirmed BLLs ³5 µg/dL</th>\n      <th>Number of Children with Confirmed BLLs ³10 µg/dL</th>\n      <th>Percent of Children with Confirmed BLLs ³10 µg/dL</th>\n      <th>Number of Children with Confirmed BLLs 5-9 µg/dL</th>\n      <th>Number of Children with Confirmed BLLs 10-14 µg/dL</th>\n      <th>...</th>\n      <th>Estimate!!Total:!!Natural resources, construction, and maintenance occupations</th>\n      <th>Estimate!!Total:!!Production, transportation, and material moving occupations</th>\n      <th>Estimate!!Total:!!Income in the past 12 months below poverty level:</th>\n      <th>Estimate!!Total:!!Income in the past 12 months below poverty level:!!Under 18 years</th>\n      <th>Estimate!!Total:!!Income in the past 12 months below poverty level:!!18 to 64 years</th>\n      <th>Estimate!!Total:!!Income in the past 12 months below poverty level:!!65 years and over</th>\n      <th>Estimate!!Total:!!Income in the past 12 months at or above poverty level:</th>\n      <th>Estimate!!Total:!!Income in the past 12 months at or above poverty level:!!Under 18 years</th>\n      <th>Estimate!!Total:!!Income in the past 12 months at or above poverty level:!!18 to 64 years</th>\n      <th>Estimate!!Total:!!Income in the past 12 months at or above poverty level:!!65 years and over</th>\n    </tr>\n  </thead>\n  <tbody>\n    <tr>\n      <th>0</th>\n      <td>AL</td>\n      <td>Autauga</td>\n      <td>4045</td>\n      <td>238</td>\n      <td>SD</td>\n      <td>SD</td>\n      <td>SD</td>\n      <td>SD</td>\n      <td>0</td>\n      <td>SD</td>\n      <td>...</td>\n      <td>0.119030</td>\n      <td>0.183185</td>\n      <td>0.062251</td>\n      <td>0.013788</td>\n      <td>0.042303</td>\n      <td>0.006160</td>\n      <td>0.937749</td>\n      <td>0.218426</td>\n      <td>0.567738</td>\n      <td>0.151584</td>\n    </tr>\n    <tr>\n      <th>1</th>\n      <td>AL</td>\n      <td>Baldwin</td>\n      <td>14651</td>\n      <td>552</td>\n      <td>SD</td>\n      <td>SD</td>\n      <td>0</td>\n      <td>0.00%</td>\n      <td>SD</td>\n      <td>0</td>\n      <td>...</td>\n      <td>0.090288</td>\n      <td>0.136741</td>\n      <td>0.107568</td>\n      <td>0.036675</td>\n      <td>0.059861</td>\n      <td>0.011033</td>\n      <td>0.892432</td>\n      <td>0.174124</td>\n      <td>0.515682</td>\n      <td>0.202625</td>\n    </tr>\n    <tr>\n      <th>2</th>\n      <td>AL</td>\n      <td>Barbour</td>\n      <td>1571</td>\n      <td>268</td>\n      <td>SD</td>\n      <td>SD</td>\n      <td>SD</td>\n      <td>SD</td>\n      <td>0</td>\n      <td>SD</td>\n      <td>...</td>\n      <td>0.120532</td>\n      <td>0.205016</td>\n      <td>0.120990</td>\n      <td>0.035159</td>\n      <td>0.069537</td>\n      <td>0.016294</td>\n      <td>0.879010</td>\n      <td>0.200303</td>\n      <td>0.491164</td>\n      <td>0.187543</td>\n    </tr>\n    <tr>\n      <th>3</th>\n      <td>AL</td>\n      <td>Bibb</td>\n      <td>1459</td>\n      <td>105</td>\n      <td>SD</td>\n      <td>SD</td>\n      <td>SD</td>\n      <td>SD</td>\n      <td>0</td>\n      <td>SD</td>\n      <td>...</td>\n      <td>0.237802</td>\n      <td>0.176709</td>\n      <td>0.203955</td>\n      <td>0.088238</td>\n      <td>0.112653</td>\n      <td>0.003063</td>\n      <td>0.796045</td>\n      <td>0.111586</td>\n      <td>0.501439</td>\n      <td>0.183021</td>\n    </tr>\n    <tr>\n      <th>4</th>\n      <td>AL</td>\n      <td>Blount</td>\n      <td>4148</td>\n      <td>365</td>\n      <td>0</td>\n      <td>0.00%</td>\n      <td>0</td>\n      <td>0.00%</td>\n      <td>0</td>\n      <td>0</td>\n      <td>...</td>\n      <td>0.197809</td>\n      <td>0.158816</td>\n      <td>0.100099</td>\n      <td>0.024665</td>\n      <td>0.061071</td>\n      <td>0.014364</td>\n      <td>0.899901</td>\n      <td>0.202324</td>\n      <td>0.532138</td>\n      <td>0.165438</td>\n    </tr>\n    <tr>\n      <th>...</th>\n      <td>...</td>\n      <td>...</td>\n      <td>...</td>\n      <td>...</td>\n      <td>...</td>\n      <td>...</td>\n      <td>...</td>\n      <td>...</td>\n      <td>...</td>\n      <td>...</td>\n      <td>...</td>\n      <td>...</td>\n      <td>...</td>\n      <td>...</td>\n      <td>...</td>\n      <td>...</td>\n      <td>...</td>\n      <td>...</td>\n      <td>...</td>\n      <td>...</td>\n      <td>...</td>\n    </tr>\n    <tr>\n      <th>858</th>\n      <td>WI</td>\n      <td>Waukesha</td>\n      <td>25345</td>\n      <td>2922</td>\n      <td>20</td>\n      <td>0.70%</td>\n      <td>SD</td>\n      <td>SD</td>\n      <td>15</td>\n      <td>SD</td>\n      <td>...</td>\n      <td>0.067862</td>\n      <td>0.107115</td>\n      <td>0.048959</td>\n      <td>0.011425</td>\n      <td>0.025039</td>\n      <td>0.012495</td>\n      <td>0.951041</td>\n      <td>0.200399</td>\n      <td>0.567411</td>\n      <td>0.183231</td>\n    </tr>\n    <tr>\n      <th>859</th>\n      <td>WI</td>\n      <td>Waupaca</td>\n      <td>3146</td>\n      <td>299</td>\n      <td>SD</td>\n      <td>SD</td>\n      <td>SD</td>\n      <td>SD</td>\n      <td>SD</td>\n      <td>SD</td>\n      <td>...</td>\n      <td>0.125690</td>\n      <td>0.275422</td>\n      <td>0.103782</td>\n      <td>0.029997</td>\n      <td>0.049696</td>\n      <td>0.024089</td>\n      <td>0.896218</td>\n      <td>0.175392</td>\n      <td>0.546213</td>\n      <td>0.174613</td>\n    </tr>\n    <tr>\n      <th>860</th>\n      <td>WI</td>\n      <td>Waushara</td>\n      <td>1319</td>\n      <td>124</td>\n      <td>SD</td>\n      <td>SD</td>\n      <td>SD</td>\n      <td>SD</td>\n      <td>0</td>\n      <td>SD</td>\n      <td>...</td>\n      <td>0.125256</td>\n      <td>0.238211</td>\n      <td>0.136310</td>\n      <td>0.046290</td>\n      <td>0.069204</td>\n      <td>0.020816</td>\n      <td>0.863690</td>\n      <td>0.141262</td>\n      <td>0.484724</td>\n      <td>0.237704</td>\n    </tr>\n    <tr>\n      <th>861</th>\n      <td>WI</td>\n      <td>Winnebago</td>\n      <td>11181</td>\n      <td>1143</td>\n      <td>25</td>\n      <td>2.20%</td>\n      <td>8</td>\n      <td>0.70%</td>\n      <td>17</td>\n      <td>SD</td>\n      <td>...</td>\n      <td>0.066334</td>\n      <td>0.226256</td>\n      <td>0.117332</td>\n      <td>0.027609</td>\n      <td>0.074094</td>\n      <td>0.015629</td>\n      <td>0.882668</td>\n      <td>0.178577</td>\n      <td>0.546233</td>\n      <td>0.157858</td>\n    </tr>\n    <tr>\n      <th>862</th>\n      <td>WI</td>\n      <td>Wood</td>\n      <td>4933</td>\n      <td>729</td>\n      <td>9</td>\n      <td>1.20%</td>\n      <td>SD</td>\n      <td>SD</td>\n      <td>7</td>\n      <td>0</td>\n      <td>...</td>\n      <td>0.106819</td>\n      <td>0.198874</td>\n      <td>0.127305</td>\n      <td>0.033528</td>\n      <td>0.076500</td>\n      <td>0.017276</td>\n      <td>0.872695</td>\n      <td>0.177330</td>\n      <td>0.503807</td>\n      <td>0.191559</td>\n    </tr>\n  </tbody>\n</table>\n<p>863 rows × 120 columns</p>\n</div>"
     },
     "execution_count": 211,
     "metadata": {},
     "output_type": "execute_result"
    }
   ],
   "source": [
    "final_merged_df"
   ],
   "metadata": {
    "collapsed": false,
    "ExecuteTime": {
     "end_time": "2025-03-08T01:05:10.178534Z",
     "start_time": "2025-03-08T01:05:10.168277Z"
    }
   },
   "id": "e0440da79278e876",
   "execution_count": 211
  },
  {
   "cell_type": "code",
   "outputs": [],
   "source": [
    "final_merged_df.to_csv(\"data/cleaned/Lead_Poisoning_Risk_Factors.csv\", index=False)"
   ],
   "metadata": {
    "collapsed": false,
    "ExecuteTime": {
     "end_time": "2025-03-08T01:08:14.991764Z",
     "start_time": "2025-03-08T01:08:14.936763Z"
    }
   },
   "id": "22e08532d9e6ccc6",
   "execution_count": 212
  }
 ],
 "metadata": {
  "kernelspec": {
   "name": "erdos_spring_2025",
   "language": "python",
   "display_name": "Python (erdos)"
  },
  "language_info": {
   "codemirror_mode": {
    "name": "ipython",
    "version": 2
   },
   "file_extension": ".py",
   "mimetype": "text/x-python",
   "name": "python",
   "nbconvert_exporter": "python",
   "pygments_lexer": "ipython2",
   "version": "2.7.6"
  }
 },
 "nbformat": 4,
 "nbformat_minor": 5
}
