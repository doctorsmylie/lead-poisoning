{
 "cells": [
  {
   "cell_type": "code",
   "execution_count": 63,
   "id": "initial_id",
   "metadata": {
    "collapsed": true,
    "ExecuteTime": {
     "end_time": "2025-03-25T16:09:03.999767Z",
     "start_time": "2025-03-25T16:09:03.959011Z"
    }
   },
   "outputs": [],
   "source": [
    "import pandas as pd\n",
    "import numpy as np\n",
    "\n",
    "\n",
    "path = \"data/cleaned/\"\n",
    "\n",
    "# main data\n",
    "lead_df = pd.read_csv(path + \"blood-lead.csv\", encoding=\"ISO-8859-1\")\n",
    "\n",
    "# factors\n",
    "# county level\n",
    "house_df = pd.read_csv(path + \"house_df.csv\")\n",
    "insecurity_df = pd.read_csv(path + \"insecurity_df.csv\")\n",
    "insurance_df = pd.read_csv(path + \"insurance_df.csv\")\n",
    "parent_df = pd.read_csv(path + \"parent_df.csv\")\n",
    "poverty_df = pd.read_csv(path + \"poverty_df.csv\")\n",
    "geo_df = pd.read_csv(path + \"geodata.csv\")\n",
    "# state level\n",
    "adhd_df = pd.read_csv(path + \"adhd.csv\")"
   ]
  },
  {
   "cell_type": "code",
   "outputs": [
    {
     "name": "stdout",
     "output_type": "stream",
     "text": [
      "\n",
      "📌 House Overview:\n",
      "<class 'pandas.core.frame.DataFrame'>\n",
      "RangeIndex: 1904 entries, 0 to 1903\n",
      "Data columns (total 25 columns):\n",
      " #   Column                                Non-Null Count  Dtype  \n",
      "---  ------                                --------------  -----  \n",
      " 0   State                                 1904 non-null   object \n",
      " 1   County                                1904 non-null   object \n",
      " 2   Built 2020 or later                   1903 non-null   float64\n",
      " 3   Built 2000 to 2019                    1903 non-null   float64\n",
      " 4   Built 1980 to 1999                    1903 non-null   float64\n",
      " 5   Built 1960 to 1979                    1903 non-null   float64\n",
      " 6   Built 1940 to 1959                    1903 non-null   float64\n",
      " 7   Built 1939 or earlier                 1903 non-null   float64\n",
      " 8   Lacking complete plumbing facilities  1904 non-null   float64\n",
      " 9   Lacking complete kitchen facilities   1904 non-null   float64\n",
      " 10  House PriceLess than $50,000          1904 non-null   float64\n",
      " 11  House Price$50,000 to $99,999         1904 non-null   float64\n",
      " 12  House Price$100,000 to $149,999       1904 non-null   float64\n",
      " 13  House Price$150,000 to $199,999       1904 non-null   float64\n",
      " 14  House Price$200,000 to $299,999       1904 non-null   float64\n",
      " 15  House Price$300,000 to $499,999       1904 non-null   float64\n",
      " 16  House Price$500,000 to $999,999       1904 non-null   float64\n",
      " 17  House Price$1,000,000 or more         1904 non-null   float64\n",
      " 18  Rent PriceLess than $500              1904 non-null   float64\n",
      " 19  Rent Price$500 to $999                1904 non-null   float64\n",
      " 20  Rent Price$1,000 to $1,499            1904 non-null   float64\n",
      " 21  Rent Price$1,500 to $1,999            1904 non-null   float64\n",
      " 22  Rent Price$2,000 to $2,499            1904 non-null   float64\n",
      " 23  Rent Price$2,500 to $2,999            1904 non-null   float64\n",
      " 24  Rent Price$3,000 or more              1904 non-null   float64\n",
      "dtypes: float64(23), object(2)\n",
      "memory usage: 372.0+ KB\n",
      "None\n",
      "====================================================================================================\n",
      "\n",
      "📌 Insecurity Overview:\n",
      "<class 'pandas.core.frame.DataFrame'>\n",
      "RangeIndex: 840 entries, 0 to 839\n",
      "Data columns (total 4 columns):\n",
      " #   Column           Non-Null Count  Dtype  \n",
      "---  ------           --------------  -----  \n",
      " 0   State            840 non-null    object \n",
      " 1   County           840 non-null    object \n",
      " 2   Owner occupied   840 non-null    float64\n",
      " 3   Renter occupied  840 non-null    float64\n",
      "dtypes: float64(2), object(2)\n",
      "memory usage: 26.4+ KB\n",
      "None\n",
      "====================================================================================================\n",
      "\n",
      "📌 Insurance Overview:\n",
      "<class 'pandas.core.frame.DataFrame'>\n",
      "RangeIndex: 1905 entries, 0 to 1904\n",
      "Data columns (total 8 columns):\n",
      " #   Column                                              Non-Null Count  Dtype  \n",
      "---  ------                                              --------------  -----  \n",
      " 0   State                                               1905 non-null   object \n",
      " 1   County                                              1905 non-null   object \n",
      " 2   Under 19 years:!!With health insurance coverage     1905 non-null   float64\n",
      " 3   Under 19 years:!!No health insurance coverage       1905 non-null   float64\n",
      " 4   19 to 64 years:!!With health insurance coverage     1905 non-null   float64\n",
      " 5   19 to 64 years:!!No health insurance coverage       1905 non-null   float64\n",
      " 6   65 years and over:!!With health insurance coverage  1905 non-null   float64\n",
      " 7   65 years and over:!!No health insurance coverage    1905 non-null   float64\n",
      "dtypes: float64(6), object(2)\n",
      "memory usage: 119.2+ KB\n",
      "None\n",
      "====================================================================================================\n",
      "\n",
      "📌 Parent Overview:\n",
      "<class 'pandas.core.frame.DataFrame'>\n",
      "RangeIndex: 1904 entries, 0 to 1903\n",
      "Data columns (total 20 columns):\n",
      " #   Column                                                                                      Non-Null Count  Dtype  \n",
      "---  ------                                                                                      --------------  -----  \n",
      " 0   State                                                                                       1904 non-null   object \n",
      " 1   County                                                                                      1904 non-null   object \n",
      " 2   Agriculture, forestry, fishing and hunting, and mining                                      1881 non-null   float64\n",
      " 3   Construction                                                                                1881 non-null   float64\n",
      " 4   Manufacturing                                                                               1881 non-null   float64\n",
      " 5   Wholesale trade                                                                             1881 non-null   float64\n",
      " 6   Retail trade                                                                                1881 non-null   float64\n",
      " 7   Transportation and warehousing, and utilities                                               1881 non-null   float64\n",
      " 8   Information                                                                                 1881 non-null   float64\n",
      " 9   Finance and insurance, and real estate and rental and leasing                               1881 non-null   float64\n",
      " 10  Professional, scientific, and management, and administrative and waste management services  1881 non-null   float64\n",
      " 11  Educational services, and  health care and social assistance                                1881 non-null   float64\n",
      " 12  Arts, entertainment, and recreation, and accommodation and food services                    1881 non-null   float64\n",
      " 13  Other services, except public administration                                                1881 non-null   float64\n",
      " 14  Public administration                                                                       1881 non-null   float64\n",
      " 15  Management, business, science, and arts occupations                                         1904 non-null   float64\n",
      " 16  Service occupations                                                                         1904 non-null   float64\n",
      " 17  Sales and office occupations                                                                1904 non-null   float64\n",
      " 18  Natural resources, construction, and maintenance occupations                                1904 non-null   float64\n",
      " 19  Production, transportation, and material moving occupations                                 1904 non-null   float64\n",
      "dtypes: float64(18), object(2)\n",
      "memory usage: 297.6+ KB\n",
      "None\n",
      "====================================================================================================\n",
      "\n",
      "📌 Poverty Overview:\n",
      "<class 'pandas.core.frame.DataFrame'>\n",
      "RangeIndex: 1904 entries, 0 to 1903\n",
      "Data columns (total 8 columns):\n",
      " #   Column                                                                      Non-Null Count  Dtype  \n",
      "---  ------                                                                      --------------  -----  \n",
      " 0   State                                                                       1904 non-null   object \n",
      " 1   County                                                                      1904 non-null   object \n",
      " 2   Income in the past 12 months below poverty level:!!Under 18 years           1904 non-null   float64\n",
      " 3   Income in the past 12 months below poverty level:!!18 to 64 years           1904 non-null   float64\n",
      " 4   Income in the past 12 months below poverty level:!!65 years and over        1904 non-null   float64\n",
      " 5   Income in the past 12 months at or above poverty level:!!Under 18 years     1904 non-null   float64\n",
      " 6   Income in the past 12 months at or above poverty level:!!18 to 64 years     1904 non-null   float64\n",
      " 7   Income in the past 12 months at or above poverty level:!!65 years and over  1904 non-null   float64\n",
      "dtypes: float64(6), object(2)\n",
      "memory usage: 119.1+ KB\n",
      "None\n",
      "====================================================================================================\n",
      "\n",
      "📌 Location Overview:\n",
      "<class 'pandas.core.frame.DataFrame'>\n",
      "RangeIndex: 3144 entries, 0 to 3143\n",
      "Data columns (total 4 columns):\n",
      " #   Column  Non-Null Count  Dtype  \n",
      "---  ------  --------------  -----  \n",
      " 0   State   3144 non-null   object \n",
      " 1   County  3144 non-null   object \n",
      " 2   lat     3144 non-null   float64\n",
      " 3   lng     3144 non-null   float64\n",
      "dtypes: float64(2), object(2)\n",
      "memory usage: 98.4+ KB\n",
      "None\n",
      "====================================================================================================\n"
     ]
    }
   ],
   "source": [
    "county_level_data = [house_df, insecurity_df, insurance_df, parent_df, poverty_df, geo_df]\n",
    "county_level_data_name = [\"House\", \"Insecurity\", \"Insurance\", \"Parent\", \"Poverty\", \"Location\"]\n",
    "\n",
    "for name, df in zip(county_level_data_name, county_level_data):\n",
    "    print(f\"\\n📌 {name} Overview:\")\n",
    "    print(df.info())\n",
    "    print(\"=\"*100)"
   ],
   "metadata": {
    "collapsed": false,
    "ExecuteTime": {
     "end_time": "2025-03-25T16:09:05.192826Z",
     "start_time": "2025-03-25T16:09:05.171323Z"
    }
   },
   "id": "e6829c6878be22a5",
   "execution_count": 64
  },
  {
   "cell_type": "code",
   "outputs": [
    {
     "name": "stdout",
     "output_type": "stream",
     "text": [
      "\n",
      "📌 House Duplicated County:\n",
      "Empty DataFrame\n",
      "Columns: [State, County, counts]\n",
      "Index: []\n",
      "====================================================================================================\n",
      "\n",
      "📌 Insecurity Duplicated County:\n",
      "Empty DataFrame\n",
      "Columns: [State, County, counts]\n",
      "Index: []\n",
      "====================================================================================================\n",
      "\n",
      "📌 Insurance Duplicated County:\n",
      "Empty DataFrame\n",
      "Columns: [State, County, counts]\n",
      "Index: []\n",
      "====================================================================================================\n",
      "\n",
      "📌 Parent Duplicated County:\n",
      "Empty DataFrame\n",
      "Columns: [State, County, counts]\n",
      "Index: []\n",
      "====================================================================================================\n",
      "\n",
      "📌 Poverty Duplicated County:\n",
      "Empty DataFrame\n",
      "Columns: [State, County, counts]\n",
      "Index: []\n",
      "====================================================================================================\n",
      "\n",
      "📌 Location Duplicated County:\n",
      "     State     County  counts\n",
      "1195    MD  Baltimore       2\n",
      "1502    MO  St. Louis       2\n",
      "2843    VA    Fairfax       2\n",
      "2848    VA   Franklin       2\n",
      "2908    VA   Richmond       2\n",
      "2909    VA    Roanoke       2\n",
      "====================================================================================================\n"
     ]
    }
   ],
   "source": [
    "for name, df in zip(county_level_data_name, county_level_data):\n",
    "    print(f\"\\n📌 {name} Duplicated County:\")\n",
    "    key_counts = df.groupby([\"State\", \"County\"]).size().reset_index(name=\"counts\")\n",
    "    duplicated_keys = key_counts[key_counts[\"counts\"] > 1]\n",
    "    print(duplicated_keys)\n",
    "    print(\"=\"*100)"
   ],
   "metadata": {
    "collapsed": false,
    "ExecuteTime": {
     "end_time": "2025-03-25T16:09:07.625773Z",
     "start_time": "2025-03-25T16:09:07.606173Z"
    }
   },
   "id": "f5ac6480759c02d6",
   "execution_count": 65
  },
  {
   "cell_type": "code",
   "outputs": [],
   "source": [
    "geo_df = geo_df.drop_duplicates(subset=[\"State\", \"County\"], keep=\"first\")\n",
    "\n",
    "county_level_data = [house_df, insecurity_df, insurance_df, parent_df, poverty_df, geo_df]"
   ],
   "metadata": {
    "collapsed": false,
    "ExecuteTime": {
     "end_time": "2025-03-25T16:09:10.206540Z",
     "start_time": "2025-03-25T16:09:10.202732Z"
    }
   },
   "id": "dc998f991fb1709f",
   "execution_count": 66
  },
  {
   "cell_type": "code",
   "outputs": [
    {
     "name": "stdout",
     "output_type": "stream",
     "text": [
      "  State   County  Built 2020 or later  Built 2000 to 2019  Built 1980 to 1999  \\\n",
      "0    AL  AUTAUGA             0.018971            0.348779            0.233663   \n",
      "1    AL  BALDWIN             0.016696            0.460808            0.317366   \n",
      "2    AL  BARBOUR             0.000000            0.171020            0.400188   \n",
      "3    AL     BIBB             0.000000            0.269087            0.378022   \n",
      "4    AL   BLOUNT             0.003596            0.272173            0.367732   \n",
      "\n",
      "   Built 1960 to 1979  Built 1940 to 1959  Built 1939 or earlier  \\\n",
      "0            0.310232            0.058325               0.030030   \n",
      "1            0.156746            0.030529               0.017855   \n",
      "2            0.253661            0.104736               0.070395   \n",
      "3            0.226947            0.060487               0.065456   \n",
      "4            0.221302            0.092610               0.042588   \n",
      "\n",
      "   Lacking complete plumbing facilities  Lacking complete kitchen facilities  \\\n",
      "0                                   0.5                                  0.7   \n",
      "1                                   0.3                                  0.7   \n",
      "2                                   0.2                                  0.6   \n",
      "3                                   0.7                                  1.6   \n",
      "4                                   0.6                                  0.8   \n",
      "\n",
      "   ...  House Price$300,000 to $499,999  House Price$500,000 to $999,999  \\\n",
      "0  ...                             12.5                              2.5   \n",
      "1  ...                             21.7                              9.1   \n",
      "2  ...                              6.4                              2.8   \n",
      "3  ...                              5.9                              0.3   \n",
      "4  ...                              9.0                              2.7   \n",
      "\n",
      "   House Price$1,000,000 or more  Rent PriceLess than $500  \\\n",
      "0                            0.1                      11.5   \n",
      "1                            2.2                       6.4   \n",
      "2                            0.5                      37.0   \n",
      "3                            1.2                      29.2   \n",
      "4                            0.6                      19.0   \n",
      "\n",
      "   Rent Price$500 to $999  Rent Price$1,000 to $1,499  \\\n",
      "0                    29.5                        34.3   \n",
      "1                    33.5                        38.5   \n",
      "2                    53.1                         9.6   \n",
      "3                    55.3                        12.5   \n",
      "4                    67.4                        12.1   \n",
      "\n",
      "   Rent Price$1,500 to $1,999  Rent Price$2,000 to $2,499  \\\n",
      "0                        19.0                         2.4   \n",
      "1                        17.0                         3.1   \n",
      "2                         0.0                         0.4   \n",
      "3                         2.9                         0.0   \n",
      "4                         0.7                         0.7   \n",
      "\n",
      "   Rent Price$2,500 to $2,999  Rent Price$3,000 or more  \n",
      "0                         0.6                       2.5  \n",
      "1                         0.5                       1.0  \n",
      "2                         0.0                       0.0  \n",
      "3                         0.0                       0.0  \n",
      "4                         0.0                       0.2  \n",
      "\n",
      "[5 rows x 25 columns]\n",
      "  State   County  Owner occupied  Renter occupied\n",
      "0    AL  BALDWIN        0.758514         0.241486\n",
      "1    AL  CALHOUN        0.727521         0.272479\n",
      "2    AL  CULLMAN        0.759671         0.240329\n",
      "3    AL   DEKALB        0.787181         0.212819\n",
      "4    AL   ELMORE        0.716021         0.283979\n",
      "  State   County  Under 19 years:!!With health insurance coverage  \\\n",
      "0    AL  AUTAUGA                                         0.249213   \n",
      "1    AL  BALDWIN                                         0.209946   \n",
      "2    AL  BARBOUR                                         0.254647   \n",
      "3    AL     BIBB                                         0.196435   \n",
      "4    AL   BLOUNT                                         0.235781   \n",
      "\n",
      "   Under 19 years:!!No health insurance coverage  \\\n",
      "0                                       0.007229   \n",
      "1                                       0.012725   \n",
      "2                                       0.000688   \n",
      "3                                       0.006173   \n",
      "4                                       0.004669   \n",
      "\n",
      "   19 to 64 years:!!With health insurance coverage  \\\n",
      "0                                         0.522874   \n",
      "1                                         0.491801   \n",
      "2                                         0.475880   \n",
      "3                                         0.554215   \n",
      "4                                         0.493099   \n",
      "\n",
      "   19 to 64 years:!!No health insurance coverage  \\\n",
      "0                                       0.058095   \n",
      "1                                       0.072198   \n",
      "2                                       0.064947   \n",
      "3                                       0.057092   \n",
      "4                                       0.087715   \n",
      "\n",
      "   65 years and over:!!With health insurance coverage  \\\n",
      "0                                           0.161534    \n",
      "1                                           0.210056    \n",
      "2                                           0.203837    \n",
      "3                                           0.186084    \n",
      "4                                           0.178736    \n",
      "\n",
      "   65 years and over:!!No health insurance coverage  \n",
      "0                                          0.001055  \n",
      "1                                          0.003275  \n",
      "2                                          0.000000  \n",
      "3                                          0.000000  \n",
      "4                                          0.000000  \n",
      "  State   County  Agriculture, forestry, fishing and hunting, and mining  \\\n",
      "0    AL  AUTAUGA                                           0.011134        \n",
      "1    AL  BALDWIN                                           0.007757        \n",
      "2    AL  BARBOUR                                           0.043562        \n",
      "3    AL     BIBB                                           0.029638        \n",
      "4    AL   BLOUNT                                           0.023123        \n",
      "\n",
      "   Construction  Manufacturing  Wholesale trade  Retail trade  \\\n",
      "0      0.064420       0.150767         0.011551      0.113804   \n",
      "1      0.092381       0.080591         0.024142      0.156089   \n",
      "2      0.022644       0.242689         0.012896      0.167953   \n",
      "3      0.143017       0.111422         0.035929      0.142737   \n",
      "4      0.147040       0.167083         0.017274      0.146027   \n",
      "\n",
      "   Transportation and warehousing, and utilities  Information  \\\n",
      "0                                       0.066124     0.023594   \n",
      "1                                       0.031446     0.010349   \n",
      "2                                       0.064683     0.000000   \n",
      "3                                       0.058856     0.007829   \n",
      "4                                       0.043827     0.007097   \n",
      "\n",
      "   Finance and insurance, and real estate and rental and leasing  \\\n",
      "0                                           0.052869               \n",
      "1                                           0.071003               \n",
      "2                                           0.034829               \n",
      "3                                           0.080526               \n",
      "4                                           0.024877               \n",
      "\n",
      "   Professional, scientific, and management, and administrative and waste management services  \\\n",
      "0                                           0.082863                                            \n",
      "1                                           0.128549                                            \n",
      "2                                           0.047725                                            \n",
      "3                                           0.045296                                            \n",
      "4                                           0.118810                                            \n",
      "\n",
      "   Educational services, and  health care and social assistance  \\\n",
      "0                                           0.206893              \n",
      "1                                           0.196281              \n",
      "2                                           0.176381              \n",
      "3                                           0.154341              \n",
      "4                                           0.189425              \n",
      "\n",
      "   Arts, entertainment, and recreation, and accommodation and food services  \\\n",
      "0                                           0.097519                          \n",
      "1                                           0.101507                          \n",
      "2                                           0.089968                          \n",
      "3                                           0.017615                          \n",
      "4                                           0.040747                          \n",
      "\n",
      "   Other services, except public administration  Public administration  \\\n",
      "0                                      0.044689               0.073774   \n",
      "1                                      0.050169               0.049734   \n",
      "2                                      0.052701               0.043968   \n",
      "3                                      0.045995               0.126800   \n",
      "4                                      0.032637               0.042034   \n",
      "\n",
      "   Management, business, science, and arts occupations  Service occupations  \\\n",
      "0                                           0.278546               0.148192   \n",
      "1                                           0.368737               0.164055   \n",
      "2                                           0.256397               0.166836   \n",
      "3                                           0.286873               0.167203   \n",
      "4                                           0.269984               0.149809   \n",
      "\n",
      "   Sales and office occupations  \\\n",
      "0                      0.271047   \n",
      "1                      0.240179   \n",
      "2                      0.251219   \n",
      "3                      0.131413   \n",
      "4                      0.223583   \n",
      "\n",
      "   Natural resources, construction, and maintenance occupations  \\\n",
      "0                                           0.119030              \n",
      "1                                           0.090288              \n",
      "2                                           0.120532              \n",
      "3                                           0.237802              \n",
      "4                                           0.197809              \n",
      "\n",
      "   Production, transportation, and material moving occupations  \n",
      "0                                           0.183185            \n",
      "1                                           0.136741            \n",
      "2                                           0.205016            \n",
      "3                                           0.176709            \n",
      "4                                           0.158816            \n",
      "  State   County  \\\n",
      "0    AL  AUTAUGA   \n",
      "1    AL  BALDWIN   \n",
      "2    AL  BARBOUR   \n",
      "3    AL     BIBB   \n",
      "4    AL   BLOUNT   \n",
      "\n",
      "   Income in the past 12 months below poverty level:!!Under 18 years  \\\n",
      "0                                           0.013788                   \n",
      "1                                           0.036675                   \n",
      "2                                           0.035159                   \n",
      "3                                           0.088238                   \n",
      "4                                           0.024665                   \n",
      "\n",
      "   Income in the past 12 months below poverty level:!!18 to 64 years  \\\n",
      "0                                           0.042303                   \n",
      "1                                           0.059861                   \n",
      "2                                           0.069537                   \n",
      "3                                           0.112653                   \n",
      "4                                           0.061071                   \n",
      "\n",
      "   Income in the past 12 months below poverty level:!!65 years and over  \\\n",
      "0                                           0.006160                      \n",
      "1                                           0.011033                      \n",
      "2                                           0.016294                      \n",
      "3                                           0.003063                      \n",
      "4                                           0.014364                      \n",
      "\n",
      "   Income in the past 12 months at or above poverty level:!!Under 18 years  \\\n",
      "0                                           0.218426                         \n",
      "1                                           0.174124                         \n",
      "2                                           0.200303                         \n",
      "3                                           0.111586                         \n",
      "4                                           0.202324                         \n",
      "\n",
      "   Income in the past 12 months at or above poverty level:!!18 to 64 years  \\\n",
      "0                                           0.567738                         \n",
      "1                                           0.515682                         \n",
      "2                                           0.491164                         \n",
      "3                                           0.501439                         \n",
      "4                                           0.532138                         \n",
      "\n",
      "   Income in the past 12 months at or above poverty level:!!65 years and over  \n",
      "0                                           0.151584                           \n",
      "1                                           0.202625                           \n",
      "2                                           0.187543                           \n",
      "3                                           0.183021                           \n",
      "4                                           0.165438                           \n",
      "  State          County      lat       lng\n",
      "0    AK  ALEUTIANS EAST  55.3669 -161.9805\n",
      "1    AK  ALEUTIANS WEST  52.7985 -106.5633\n",
      "2    AK       ANCHORAGE  61.1498 -149.1082\n",
      "3    AK          BETHEL  60.9132 -159.8186\n",
      "4    AK     BRISTOL BAY  58.7439 -156.7000\n"
     ]
    }
   ],
   "source": [
    "lead_df[\"State\"] = lead_df[\"State\"].astype(str).str.upper().str.strip()\n",
    "lead_df[\"County\"] = lead_df[\"County\"].astype(str).str.upper().str.strip()\n",
    "\n",
    "for name, df in zip(county_level_data_name, county_level_data):\n",
    "    df[\"State\"] = df[\"State\"].astype(str).str.upper().str.strip()\n",
    "    df[\"County\"] = df[\"County\"].astype(str).str.upper().str.strip()\n",
    "    print(df.head())"
   ],
   "metadata": {
    "collapsed": false,
    "ExecuteTime": {
     "end_time": "2025-03-25T16:09:17.889895Z",
     "start_time": "2025-03-25T16:09:17.861691Z"
    }
   },
   "id": "dbc2f5bd62caf943",
   "execution_count": 67
  },
  {
   "cell_type": "code",
   "outputs": [
    {
     "data": {
      "text/plain": "(2151, 3)"
     },
     "execution_count": 68,
     "metadata": {},
     "output_type": "execute_result"
    }
   ],
   "source": [
    "lead_df.shape"
   ],
   "metadata": {
    "collapsed": false,
    "ExecuteTime": {
     "end_time": "2025-03-25T16:09:20.185838Z",
     "start_time": "2025-03-25T16:09:20.181368Z"
    }
   },
   "id": "4e8928d163fd5b2b",
   "execution_count": 68
  },
  {
   "cell_type": "code",
   "outputs": [
    {
     "name": "stdout",
     "output_type": "stream",
     "text": [
      "  State   County Percent of Children with Confirmed BLLs ³5 µg/dL  \\\n",
      "0    AL  AUTAUGA                                               SD   \n",
      "1    AL  BALDWIN                                               SD   \n",
      "2    AL  BARBOUR                                               SD   \n",
      "3    AL     BIBB                                               SD   \n",
      "4    AL   BLOUNT                                            0.00%   \n",
      "\n",
      "   Built 2020 or later  Built 2000 to 2019  Built 1980 to 1999  \\\n",
      "0             0.018971            0.348779            0.233663   \n",
      "1             0.016696            0.460808            0.317366   \n",
      "2             0.000000            0.171020            0.400188   \n",
      "3             0.000000            0.269087            0.378022   \n",
      "4             0.003596            0.272173            0.367732   \n",
      "\n",
      "   Built 1960 to 1979  Built 1940 to 1959  Built 1939 or earlier  \\\n",
      "0            0.310232            0.058325               0.030030   \n",
      "1            0.156746            0.030529               0.017855   \n",
      "2            0.253661            0.104736               0.070395   \n",
      "3            0.226947            0.060487               0.065456   \n",
      "4            0.221302            0.092610               0.042588   \n",
      "\n",
      "   Lacking complete plumbing facilities  ...  \\\n",
      "0                                   0.5  ...   \n",
      "1                                   0.3  ...   \n",
      "2                                   0.2  ...   \n",
      "3                                   0.7  ...   \n",
      "4                                   0.6  ...   \n",
      "\n",
      "   Natural resources, construction, and maintenance occupations  \\\n",
      "0                                           0.119030              \n",
      "1                                           0.090288              \n",
      "2                                           0.120532              \n",
      "3                                           0.237802              \n",
      "4                                           0.197809              \n",
      "\n",
      "   Production, transportation, and material moving occupations  \\\n",
      "0                                           0.183185             \n",
      "1                                           0.136741             \n",
      "2                                           0.205016             \n",
      "3                                           0.176709             \n",
      "4                                           0.158816             \n",
      "\n",
      "   Income in the past 12 months below poverty level:!!Under 18 years  \\\n",
      "0                                           0.013788                   \n",
      "1                                           0.036675                   \n",
      "2                                           0.035159                   \n",
      "3                                           0.088238                   \n",
      "4                                           0.024665                   \n",
      "\n",
      "   Income in the past 12 months below poverty level:!!18 to 64 years  \\\n",
      "0                                           0.042303                   \n",
      "1                                           0.059861                   \n",
      "2                                           0.069537                   \n",
      "3                                           0.112653                   \n",
      "4                                           0.061071                   \n",
      "\n",
      "   Income in the past 12 months below poverty level:!!65 years and over  \\\n",
      "0                                           0.006160                      \n",
      "1                                           0.011033                      \n",
      "2                                           0.016294                      \n",
      "3                                           0.003063                      \n",
      "4                                           0.014364                      \n",
      "\n",
      "   Income in the past 12 months at or above poverty level:!!Under 18 years  \\\n",
      "0                                           0.218426                         \n",
      "1                                           0.174124                         \n",
      "2                                           0.200303                         \n",
      "3                                           0.111586                         \n",
      "4                                           0.202324                         \n",
      "\n",
      "   Income in the past 12 months at or above poverty level:!!18 to 64 years  \\\n",
      "0                                           0.567738                         \n",
      "1                                           0.515682                         \n",
      "2                                           0.491164                         \n",
      "3                                           0.501439                         \n",
      "4                                           0.532138                         \n",
      "\n",
      "   Income in the past 12 months at or above poverty level:!!65 years and over  \\\n",
      "0                                           0.151584                            \n",
      "1                                           0.202625                            \n",
      "2                                           0.187543                            \n",
      "3                                           0.183021                            \n",
      "4                                           0.165438                            \n",
      "\n",
      "       lat      lng  \n",
      "0  32.5349 -86.6427  \n",
      "1  30.7277 -87.7226  \n",
      "2  31.8696 -85.3932  \n",
      "3  32.9986 -87.1265  \n",
      "4  33.9809 -86.5674  \n",
      "\n",
      "[5 rows x 60 columns]\n"
     ]
    }
   ],
   "source": [
    "merged_df = lead_df.copy()\n",
    "\n",
    "for df in county_level_data:\n",
    "    merged_df = pd.merge(merged_df, df, on=[\"State\", \"County\"], how=\"left\")\n",
    "\n",
    "print(merged_df.head())"
   ],
   "metadata": {
    "collapsed": false,
    "ExecuteTime": {
     "end_time": "2025-03-25T16:09:23.097095Z",
     "start_time": "2025-03-25T16:09:23.073590Z"
    }
   },
   "id": "7b7a3817a9500978",
   "execution_count": 69
  },
  {
   "cell_type": "code",
   "outputs": [
    {
     "data": {
      "text/plain": "(2151, 60)"
     },
     "execution_count": 70,
     "metadata": {},
     "output_type": "execute_result"
    }
   ],
   "source": [
    "merged_df.shape"
   ],
   "metadata": {
    "collapsed": false,
    "ExecuteTime": {
     "end_time": "2025-03-25T16:09:30.197084Z",
     "start_time": "2025-03-25T16:09:30.193722Z"
    }
   },
   "id": "1e3ee9d415ce1b7c",
   "execution_count": 70
  },
  {
   "cell_type": "code",
   "outputs": [],
   "source": [
    "merged_df = pd.merge(merged_df, adhd_df, on=[\"State\"], how=\"left\")\n"
   ],
   "metadata": {
    "collapsed": false,
    "ExecuteTime": {
     "end_time": "2025-03-25T16:09:31.342708Z",
     "start_time": "2025-03-25T16:09:31.335800Z"
    }
   },
   "id": "800709a36c640e9d",
   "execution_count": 71
  },
  {
   "cell_type": "code",
   "outputs": [
    {
     "data": {
      "text/plain": "(2151, 66)"
     },
     "execution_count": 72,
     "metadata": {},
     "output_type": "execute_result"
    }
   ],
   "source": [
    "merged_df.shape"
   ],
   "metadata": {
    "collapsed": false,
    "ExecuteTime": {
     "end_time": "2025-03-25T16:09:33.861758Z",
     "start_time": "2025-03-25T16:09:33.857462Z"
    }
   },
   "id": "82c8fd4539431e57",
   "execution_count": 72
  },
  {
   "cell_type": "code",
   "outputs": [
    {
     "data": {
      "text/plain": "  State   County Percent of Children with Confirmed BLLs ³5 µg/dL  \\\n0    AL  AUTAUGA                                               SD   \n1    AL  BALDWIN                                               SD   \n2    AL  BARBOUR                                               SD   \n3    AL     BIBB                                               SD   \n4    AL   BLOUNT                                            0.00%   \n\n   Built 2020 or later  Built 2000 to 2019  Built 1980 to 1999  \\\n0             0.018971            0.348779            0.233663   \n1             0.016696            0.460808            0.317366   \n2             0.000000            0.171020            0.400188   \n3             0.000000            0.269087            0.378022   \n4             0.003596            0.272173            0.367732   \n\n   Built 1960 to 1979  Built 1940 to 1959  Built 1939 or earlier  \\\n0            0.310232            0.058325               0.030030   \n1            0.156746            0.030529               0.017855   \n2            0.253661            0.104736               0.070395   \n3            0.226947            0.060487               0.065456   \n4            0.221302            0.092610               0.042588   \n\n   Lacking complete plumbing facilities  ...  \\\n0                                   0.5  ...   \n1                                   0.3  ...   \n2                                   0.2  ...   \n3                                   0.7  ...   \n4                                   0.6  ...   \n\n   Income in the past 12 months at or above poverty level:!!18 to 64 years  \\\n0                                           0.567738                         \n1                                           0.515682                         \n2                                           0.491164                         \n3                                           0.501439                         \n4                                           0.532138                         \n\n   Income in the past 12 months at or above poverty level:!!65 years and over  \\\n0                                           0.151584                            \n1                                           0.202625                            \n2                                           0.187543                            \n3                                           0.183021                            \n4                                           0.165438                            \n\n       lat      lng  ADHD Percentage (Ever)  ADHD Percentage (Current)  \\\n0  32.5349 -86.6427                    12.7                       12.1   \n1  30.7277 -87.7226                    12.7                       12.1   \n2  31.8696 -85.3932                    12.7                       12.1   \n3  32.9986 -87.1265                    12.7                       12.1   \n4  33.9809 -86.5674                    12.7                       12.1   \n\n   ADHD Behavior Treatment(%)  ADHD Medication(%)  ADHD Meds or BT  \\\n0                        50.6                77.0             84.3   \n1                        50.6                77.0             84.3   \n2                        50.6                77.0             84.3   \n3                        50.6                77.0             84.3   \n4                        50.6                77.0             84.3   \n\n   Any Treatment  \n0           91.2  \n1           91.2  \n2           91.2  \n3           91.2  \n4           91.2  \n\n[5 rows x 66 columns]",
      "text/html": "<div>\n<style scoped>\n    .dataframe tbody tr th:only-of-type {\n        vertical-align: middle;\n    }\n\n    .dataframe tbody tr th {\n        vertical-align: top;\n    }\n\n    .dataframe thead th {\n        text-align: right;\n    }\n</style>\n<table border=\"1\" class=\"dataframe\">\n  <thead>\n    <tr style=\"text-align: right;\">\n      <th></th>\n      <th>State</th>\n      <th>County</th>\n      <th>Percent of Children with Confirmed BLLs ³5 µg/dL</th>\n      <th>Built 2020 or later</th>\n      <th>Built 2000 to 2019</th>\n      <th>Built 1980 to 1999</th>\n      <th>Built 1960 to 1979</th>\n      <th>Built 1940 to 1959</th>\n      <th>Built 1939 or earlier</th>\n      <th>Lacking complete plumbing facilities</th>\n      <th>...</th>\n      <th>Income in the past 12 months at or above poverty level:!!18 to 64 years</th>\n      <th>Income in the past 12 months at or above poverty level:!!65 years and over</th>\n      <th>lat</th>\n      <th>lng</th>\n      <th>ADHD Percentage (Ever)</th>\n      <th>ADHD Percentage (Current)</th>\n      <th>ADHD Behavior Treatment(%)</th>\n      <th>ADHD Medication(%)</th>\n      <th>ADHD Meds or BT</th>\n      <th>Any Treatment</th>\n    </tr>\n  </thead>\n  <tbody>\n    <tr>\n      <th>0</th>\n      <td>AL</td>\n      <td>AUTAUGA</td>\n      <td>SD</td>\n      <td>0.018971</td>\n      <td>0.348779</td>\n      <td>0.233663</td>\n      <td>0.310232</td>\n      <td>0.058325</td>\n      <td>0.030030</td>\n      <td>0.5</td>\n      <td>...</td>\n      <td>0.567738</td>\n      <td>0.151584</td>\n      <td>32.5349</td>\n      <td>-86.6427</td>\n      <td>12.7</td>\n      <td>12.1</td>\n      <td>50.6</td>\n      <td>77.0</td>\n      <td>84.3</td>\n      <td>91.2</td>\n    </tr>\n    <tr>\n      <th>1</th>\n      <td>AL</td>\n      <td>BALDWIN</td>\n      <td>SD</td>\n      <td>0.016696</td>\n      <td>0.460808</td>\n      <td>0.317366</td>\n      <td>0.156746</td>\n      <td>0.030529</td>\n      <td>0.017855</td>\n      <td>0.3</td>\n      <td>...</td>\n      <td>0.515682</td>\n      <td>0.202625</td>\n      <td>30.7277</td>\n      <td>-87.7226</td>\n      <td>12.7</td>\n      <td>12.1</td>\n      <td>50.6</td>\n      <td>77.0</td>\n      <td>84.3</td>\n      <td>91.2</td>\n    </tr>\n    <tr>\n      <th>2</th>\n      <td>AL</td>\n      <td>BARBOUR</td>\n      <td>SD</td>\n      <td>0.000000</td>\n      <td>0.171020</td>\n      <td>0.400188</td>\n      <td>0.253661</td>\n      <td>0.104736</td>\n      <td>0.070395</td>\n      <td>0.2</td>\n      <td>...</td>\n      <td>0.491164</td>\n      <td>0.187543</td>\n      <td>31.8696</td>\n      <td>-85.3932</td>\n      <td>12.7</td>\n      <td>12.1</td>\n      <td>50.6</td>\n      <td>77.0</td>\n      <td>84.3</td>\n      <td>91.2</td>\n    </tr>\n    <tr>\n      <th>3</th>\n      <td>AL</td>\n      <td>BIBB</td>\n      <td>SD</td>\n      <td>0.000000</td>\n      <td>0.269087</td>\n      <td>0.378022</td>\n      <td>0.226947</td>\n      <td>0.060487</td>\n      <td>0.065456</td>\n      <td>0.7</td>\n      <td>...</td>\n      <td>0.501439</td>\n      <td>0.183021</td>\n      <td>32.9986</td>\n      <td>-87.1265</td>\n      <td>12.7</td>\n      <td>12.1</td>\n      <td>50.6</td>\n      <td>77.0</td>\n      <td>84.3</td>\n      <td>91.2</td>\n    </tr>\n    <tr>\n      <th>4</th>\n      <td>AL</td>\n      <td>BLOUNT</td>\n      <td>0.00%</td>\n      <td>0.003596</td>\n      <td>0.272173</td>\n      <td>0.367732</td>\n      <td>0.221302</td>\n      <td>0.092610</td>\n      <td>0.042588</td>\n      <td>0.6</td>\n      <td>...</td>\n      <td>0.532138</td>\n      <td>0.165438</td>\n      <td>33.9809</td>\n      <td>-86.5674</td>\n      <td>12.7</td>\n      <td>12.1</td>\n      <td>50.6</td>\n      <td>77.0</td>\n      <td>84.3</td>\n      <td>91.2</td>\n    </tr>\n  </tbody>\n</table>\n<p>5 rows × 66 columns</p>\n</div>"
     },
     "execution_count": 73,
     "metadata": {},
     "output_type": "execute_result"
    }
   ],
   "source": [
    "merged_df.head()"
   ],
   "metadata": {
    "collapsed": false,
    "ExecuteTime": {
     "end_time": "2025-03-25T16:09:35.447256Z",
     "start_time": "2025-03-25T16:09:35.433774Z"
    }
   },
   "id": "a15497d9d295d022",
   "execution_count": 73
  },
  {
   "cell_type": "code",
   "outputs": [],
   "source": [
    "def process_value(val):\n",
    "    if pd.isnull(val):\n",
    "        return np.nan\n",
    "    cleaned = str(val).replace(\"SD\", \"\").replace(\"%\", \"\").strip()\n",
    "    return cleaned\n",
    "\n",
    "merged_df[\"Percent of Children with Confirmed BLLs ³5 µg/dL\"] = merged_df[\"Percent of Children with Confirmed BLLs ³5 µg/dL\"].apply(process_value)"
   ],
   "metadata": {
    "collapsed": false,
    "ExecuteTime": {
     "end_time": "2025-03-25T16:09:42.232812Z",
     "start_time": "2025-03-25T16:09:42.228384Z"
    }
   },
   "id": "1a38165e3de5f0b3",
   "execution_count": 74
  },
  {
   "cell_type": "code",
   "outputs": [
    {
     "data": {
      "text/plain": "  State   County Percent of Children with Confirmed BLLs ³5 µg/dL  \\\n0    AL  AUTAUGA                                                    \n1    AL  BALDWIN                                                    \n2    AL  BARBOUR                                                    \n3    AL     BIBB                                                    \n4    AL   BLOUNT                                             0.00   \n\n   Built 2020 or later  Built 2000 to 2019  Built 1980 to 1999  \\\n0             0.018971            0.348779            0.233663   \n1             0.016696            0.460808            0.317366   \n2             0.000000            0.171020            0.400188   \n3             0.000000            0.269087            0.378022   \n4             0.003596            0.272173            0.367732   \n\n   Built 1960 to 1979  Built 1940 to 1959  Built 1939 or earlier  \\\n0            0.310232            0.058325               0.030030   \n1            0.156746            0.030529               0.017855   \n2            0.253661            0.104736               0.070395   \n3            0.226947            0.060487               0.065456   \n4            0.221302            0.092610               0.042588   \n\n   Lacking complete plumbing facilities  ...  \\\n0                                   0.5  ...   \n1                                   0.3  ...   \n2                                   0.2  ...   \n3                                   0.7  ...   \n4                                   0.6  ...   \n\n   Income in the past 12 months at or above poverty level:!!18 to 64 years  \\\n0                                           0.567738                         \n1                                           0.515682                         \n2                                           0.491164                         \n3                                           0.501439                         \n4                                           0.532138                         \n\n   Income in the past 12 months at or above poverty level:!!65 years and over  \\\n0                                           0.151584                            \n1                                           0.202625                            \n2                                           0.187543                            \n3                                           0.183021                            \n4                                           0.165438                            \n\n       lat      lng  ADHD Percentage (Ever)  ADHD Percentage (Current)  \\\n0  32.5349 -86.6427                    12.7                       12.1   \n1  30.7277 -87.7226                    12.7                       12.1   \n2  31.8696 -85.3932                    12.7                       12.1   \n3  32.9986 -87.1265                    12.7                       12.1   \n4  33.9809 -86.5674                    12.7                       12.1   \n\n   ADHD Behavior Treatment(%)  ADHD Medication(%)  ADHD Meds or BT  \\\n0                        50.6                77.0             84.3   \n1                        50.6                77.0             84.3   \n2                        50.6                77.0             84.3   \n3                        50.6                77.0             84.3   \n4                        50.6                77.0             84.3   \n\n   Any Treatment  \n0           91.2  \n1           91.2  \n2           91.2  \n3           91.2  \n4           91.2  \n\n[5 rows x 66 columns]",
      "text/html": "<div>\n<style scoped>\n    .dataframe tbody tr th:only-of-type {\n        vertical-align: middle;\n    }\n\n    .dataframe tbody tr th {\n        vertical-align: top;\n    }\n\n    .dataframe thead th {\n        text-align: right;\n    }\n</style>\n<table border=\"1\" class=\"dataframe\">\n  <thead>\n    <tr style=\"text-align: right;\">\n      <th></th>\n      <th>State</th>\n      <th>County</th>\n      <th>Percent of Children with Confirmed BLLs ³5 µg/dL</th>\n      <th>Built 2020 or later</th>\n      <th>Built 2000 to 2019</th>\n      <th>Built 1980 to 1999</th>\n      <th>Built 1960 to 1979</th>\n      <th>Built 1940 to 1959</th>\n      <th>Built 1939 or earlier</th>\n      <th>Lacking complete plumbing facilities</th>\n      <th>...</th>\n      <th>Income in the past 12 months at or above poverty level:!!18 to 64 years</th>\n      <th>Income in the past 12 months at or above poverty level:!!65 years and over</th>\n      <th>lat</th>\n      <th>lng</th>\n      <th>ADHD Percentage (Ever)</th>\n      <th>ADHD Percentage (Current)</th>\n      <th>ADHD Behavior Treatment(%)</th>\n      <th>ADHD Medication(%)</th>\n      <th>ADHD Meds or BT</th>\n      <th>Any Treatment</th>\n    </tr>\n  </thead>\n  <tbody>\n    <tr>\n      <th>0</th>\n      <td>AL</td>\n      <td>AUTAUGA</td>\n      <td></td>\n      <td>0.018971</td>\n      <td>0.348779</td>\n      <td>0.233663</td>\n      <td>0.310232</td>\n      <td>0.058325</td>\n      <td>0.030030</td>\n      <td>0.5</td>\n      <td>...</td>\n      <td>0.567738</td>\n      <td>0.151584</td>\n      <td>32.5349</td>\n      <td>-86.6427</td>\n      <td>12.7</td>\n      <td>12.1</td>\n      <td>50.6</td>\n      <td>77.0</td>\n      <td>84.3</td>\n      <td>91.2</td>\n    </tr>\n    <tr>\n      <th>1</th>\n      <td>AL</td>\n      <td>BALDWIN</td>\n      <td></td>\n      <td>0.016696</td>\n      <td>0.460808</td>\n      <td>0.317366</td>\n      <td>0.156746</td>\n      <td>0.030529</td>\n      <td>0.017855</td>\n      <td>0.3</td>\n      <td>...</td>\n      <td>0.515682</td>\n      <td>0.202625</td>\n      <td>30.7277</td>\n      <td>-87.7226</td>\n      <td>12.7</td>\n      <td>12.1</td>\n      <td>50.6</td>\n      <td>77.0</td>\n      <td>84.3</td>\n      <td>91.2</td>\n    </tr>\n    <tr>\n      <th>2</th>\n      <td>AL</td>\n      <td>BARBOUR</td>\n      <td></td>\n      <td>0.000000</td>\n      <td>0.171020</td>\n      <td>0.400188</td>\n      <td>0.253661</td>\n      <td>0.104736</td>\n      <td>0.070395</td>\n      <td>0.2</td>\n      <td>...</td>\n      <td>0.491164</td>\n      <td>0.187543</td>\n      <td>31.8696</td>\n      <td>-85.3932</td>\n      <td>12.7</td>\n      <td>12.1</td>\n      <td>50.6</td>\n      <td>77.0</td>\n      <td>84.3</td>\n      <td>91.2</td>\n    </tr>\n    <tr>\n      <th>3</th>\n      <td>AL</td>\n      <td>BIBB</td>\n      <td></td>\n      <td>0.000000</td>\n      <td>0.269087</td>\n      <td>0.378022</td>\n      <td>0.226947</td>\n      <td>0.060487</td>\n      <td>0.065456</td>\n      <td>0.7</td>\n      <td>...</td>\n      <td>0.501439</td>\n      <td>0.183021</td>\n      <td>32.9986</td>\n      <td>-87.1265</td>\n      <td>12.7</td>\n      <td>12.1</td>\n      <td>50.6</td>\n      <td>77.0</td>\n      <td>84.3</td>\n      <td>91.2</td>\n    </tr>\n    <tr>\n      <th>4</th>\n      <td>AL</td>\n      <td>BLOUNT</td>\n      <td>0.00</td>\n      <td>0.003596</td>\n      <td>0.272173</td>\n      <td>0.367732</td>\n      <td>0.221302</td>\n      <td>0.092610</td>\n      <td>0.042588</td>\n      <td>0.6</td>\n      <td>...</td>\n      <td>0.532138</td>\n      <td>0.165438</td>\n      <td>33.9809</td>\n      <td>-86.5674</td>\n      <td>12.7</td>\n      <td>12.1</td>\n      <td>50.6</td>\n      <td>77.0</td>\n      <td>84.3</td>\n      <td>91.2</td>\n    </tr>\n  </tbody>\n</table>\n<p>5 rows × 66 columns</p>\n</div>"
     },
     "execution_count": 75,
     "metadata": {},
     "output_type": "execute_result"
    }
   ],
   "source": [
    "merged_df.head()"
   ],
   "metadata": {
    "collapsed": false,
    "ExecuteTime": {
     "end_time": "2025-03-25T16:09:44.179067Z",
     "start_time": "2025-03-25T16:09:44.164933Z"
    }
   },
   "id": "c8e5da1509cb62b1",
   "execution_count": 75
  },
  {
   "cell_type": "code",
   "outputs": [],
   "source": [
    "merged_df.to_csv(\"data/cleaned/merged_df.csv\", index=False)"
   ],
   "metadata": {
    "collapsed": false,
    "ExecuteTime": {
     "end_time": "2025-03-25T16:09:52.798903Z",
     "start_time": "2025-03-25T16:09:52.725933Z"
    }
   },
   "id": "64607c1e611243dc",
   "execution_count": 76
  },
  {
   "cell_type": "code",
   "outputs": [],
   "source": [],
   "metadata": {
    "collapsed": false
   },
   "id": "33c392372c513a5a"
  }
 ],
 "metadata": {
  "kernelspec": {
   "display_name": "Python 3",
   "language": "python",
   "name": "python3"
  },
  "language_info": {
   "codemirror_mode": {
    "name": "ipython",
    "version": 2
   },
   "file_extension": ".py",
   "mimetype": "text/x-python",
   "name": "python",
   "nbconvert_exporter": "python",
   "pygments_lexer": "ipython2",
   "version": "2.7.6"
  }
 },
 "nbformat": 4,
 "nbformat_minor": 5
}
